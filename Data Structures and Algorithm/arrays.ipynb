{
 "metadata": {
  "language_info": {
   "codemirror_mode": {
    "name": "ipython",
    "version": 3
   },
   "file_extension": ".py",
   "mimetype": "text/x-python",
   "name": "python",
   "nbconvert_exporter": "python",
   "pygments_lexer": "ipython3",
   "version": 3
  },
  "orig_nbformat": 2,
  "kernelspec": {
   "name": "python_defaultSpec_1596043662474",
   "display_name": "Python 3.6.9 64-bit"
  }
 },
 "nbformat": 4,
 "nbformat_minor": 2,
 "cells": [
  {
   "cell_type": "code",
   "execution_count": 27,
   "metadata": {
    "tags": []
   },
   "outputs": [
    {
     "output_type": "stream",
     "name": "stdout",
     "text": "True\nFalse\n"
    }
   ],
   "source": [
    "def array_advance1(A):\n",
    "    reach = 0\n",
    "    length = len(A)\n",
    "    for i in range(length):\n",
    "        reach = max(reach, A[i] + i)\n",
    "        print(\"reach: {}\".format(reach))\n",
    "        if reach < i + 1:\n",
    "            return False\n",
    "    return True\n",
    "    \n",
    "def array_advance(A):\n",
    "    furthest_reached = 0\n",
    "    last_idx = len(A) - 1\n",
    "    i = 0\n",
    "    while i <= furthest_reached and furthest_reached < last_idx:\n",
    "        furthest_reached = max(furthest_reached, A[i] + i)\n",
    "        i += 1\n",
    "    return furthest_reached >= last_idx\n",
    "\n",
    "A = [3, 3, 1, 0, 2, 0, 1]\n",
    "print(array_advance(A))\n",
    "\n",
    "A = [3 ,2, 0, 0, 2, 0, 1]\n",
    "print(array_advance(A))"
   ]
  },
  {
   "cell_type": "code",
   "execution_count": 50,
   "metadata": {
    "tags": []
   },
   "outputs": [
    {
     "output_type": "stream",
     "name": "stdout",
     "text": "i: 2\ni: 1\n[1, 5, 0]\ni: 2\ni: 1\n[1, 0, 0, 0]\n"
    }
   ],
   "source": [
    "# Arbitrary Precision Increment\n",
    "A1 = [1, 4, 9]\n",
    "A2 = [9, 9, 9]\n",
    "\n",
    "def plus_one1(A):\n",
    "    length = len(A)\n",
    "    carry = 0\n",
    "    for i, e in reversed(list(enumerate(A))):\n",
    "        A[i] += carry\n",
    "        if e + 1 == 10:\n",
    "            A[i] = 0\n",
    "            carry = 1\n",
    "        else:\n",
    "            carry = 0\n",
    "    if A[0] == 0:\n",
    "        A.insert(0, 1)\n",
    "    return A\n",
    "\n",
    "def plus_one(A):\n",
    "    length = len(A)\n",
    "    A[-1] += 1\n",
    "    for i in reversed(range(1, len(A))):\n",
    "        print(\"i: {}\".format(i))\n",
    "        if A[i] != 10:\n",
    "            break\n",
    "        A[i] = 0\n",
    "        A[i - 1] += 1\n",
    "    if A[0] == 10:\n",
    "        A[0] = 1\n",
    "        A.append(0)\n",
    "    return A\n",
    "\n",
    "print(plus_one(A1))\n",
    "print(plus_one(A2))"
   ]
  },
  {
   "cell_type": "code",
   "execution_count": 73,
   "metadata": {
    "tags": []
   },
   "outputs": [
    {
     "output_type": "stream",
     "name": "stdout",
     "text": "2 11\nTrue\n1 11\nTrue\n"
    }
   ],
   "source": [
    "# Two Sum Problem\n",
    "A1 = [-2, 1, 2, 4, 7, 11]\n",
    "\n",
    "# time complexity  : O(n^2)\n",
    "# space complexity : O(1)\n",
    "def two_sum1(A, target):\n",
    "    for i in range(0, len(A) - 1):\n",
    "        for j in range(i + 1, len(A)):\n",
    "            if A[i] + A[j] == target:\n",
    "                print(A[i], A[j])\n",
    "                return True\n",
    "    return False\n",
    "\n",
    "def two_sum2(A, target):\n",
    "    ht = dict()\n",
    "    for i in range(len(A)):\n",
    "        print(\"A[i]: {}\".format(A[i]))\n",
    "        if A[i] in ht:\n",
    "            print(ht[A[i]], A[i])\n",
    "            return True\n",
    "        else:\n",
    "            print(ht)\n",
    "            ht[target - A[i]] = A[i]\n",
    "    return False\n",
    "# assume that list is sorted\n",
    "def two_sum(A, target):\n",
    "    i = 0\n",
    "    j = len(A) - 1\n",
    "    while i < j:\n",
    "        if A[i] + A[j] == target:\n",
    "            print(A[i], A[j])\n",
    "            return True\n",
    "        elif A[i] + A[j] < target:\n",
    "            i += 1\n",
    "        else:\n",
    "            j -= 1\n",
    "    return False\n",
    "\n",
    "# A1 = [-2, 1, 2, 4, 7, 11]\n",
    "print(two_sum(A1, 13))\n",
    "print(two_sum(A1, 12))"
   ]
  },
  {
   "cell_type": "code",
   "execution_count": 81,
   "metadata": {
    "tags": []
   },
   "outputs": [
    {
     "output_type": "stream",
     "name": "stdout",
     "text": "[2, 3, 5, 5, 6, 7]\n0\n-1\n2 2\n1\n-2\n3 7\n2\n-3\n5 6\n"
    }
   ],
   "source": [
    "# Optimal Task Assignment\n",
    "A = [6, 3, 2, 7, 5, 5]\n",
    "\n",
    "A = sorted(A)\n",
    "print(A)\n",
    "\n",
    "for i in range(len(A) // 2):\n",
    "    print(i)\n",
    "    # print(-i)\n",
    "    print(~i)\n",
    "    print(A[i], A[-i])"
   ]
  },
  {
   "cell_type": "code",
   "execution_count": 83,
   "metadata": {
    "tags": []
   },
   "outputs": [
    {
     "output_type": "stream",
     "name": "stdout",
     "text": "i: 1\n-i: -1\n~i: -2\ni: 2\n-i: -2\n~i: -3\ni: 3\n-i: -3\n~i: -4\ni: 4\n-i: -4\n~i: -5\ni: 5\n-i: -5\n~i: -6\n"
    }
   ],
   "source": [
    "A = [6, 3, 2, 7, 5, 5]\n",
    "\n",
    "for i in range(1, len(A)):\n",
    "    print(\"i: {}\".format(i))\n",
    "    print(\"-i: {}\".format(-i))\n",
    "    print(\"~i: {}\".format(~i))"
   ]
  },
  {
   "cell_type": "code",
   "execution_count": 87,
   "metadata": {
    "tags": []
   },
   "outputs": [
    {
     "output_type": "stream",
     "name": "stdout",
     "text": "[3, 7]\n"
    }
   ],
   "source": [
    "A = [2, 3, 3, 5, 7, 11]\n",
    "B = [3, 3, 7, 15, 31]\n",
    "\n",
    "def intersect_sorted_array1(A, B):\n",
    "    i = 0\n",
    "    j = 0\n",
    "    while i < len(A) and j < len(B):\n",
    "        if A[i] > B[j]:\n",
    "            j += 1\n",
    "        elif A[i] < B[j]:\n",
    "            i += 1\n",
    "        elif A[i] == B[j] and A[i] != A[i - 1]:\n",
    "            print(A[i])\n",
    "            i += 1\n",
    "            j += 1\n",
    "            if A[i] == B[j]:\n",
    "                i += 1\n",
    "                j += 1\n",
    "\n",
    "def intersect_sorted_array(A, B):\n",
    "    i = 0\n",
    "    j = 0\n",
    "    intersection = []\n",
    "    while i < len(A) and j < len(B):\n",
    "        if A[i] == B[j]:\n",
    "            if i == 0 or A[i] != A[i - 1]:\n",
    "                intersection.append(A[i])\n",
    "            i += 1\n",
    "            j += 1\n",
    "        elif A[i] > B[j]:\n",
    "            j += 1\n",
    "        else:\n",
    "            i += 1\n",
    "    return intersection\n",
    "\n",
    "print(intersect_sorted_array(A, B))"
   ]
  },
  {
   "cell_type": "code",
   "execution_count": 19,
   "metadata": {
    "tags": []
   },
   "outputs": [
    {
     "output_type": "stream",
     "name": "stdout",
     "text": "30\n"
    }
   ],
   "source": [
    "# buy and sell stock\n",
    "prices = [310, 315, 275, 295, 260, 270, 290, 230, 255, 250]\n",
    "\n",
    "def buy_and_sell_stock_once1(prices):\n",
    "    tmp = 0\n",
    "    for i in range(0, len(prices) - 1):\n",
    "        for j in range(i + 1, len(prices)):\n",
    "            result = prices[j] - prices[i]\n",
    "            print(\"prices[j] {} - prices[i] {} = {}\".format(prices[j], prices[i], result))\n",
    "            if tmp <= result:\n",
    "                tmp = result\n",
    "    return tmp\n",
    "\n",
    "def buy_and_sell_stock_once2(prices):\n",
    "    min = prices[0]\n",
    "    max_profit = 0\n",
    "    for i in range(0, len(prices)):\n",
    "        # print(\"prices[i]: {}\".format(prices[i]))\n",
    "        # if min > prices[i]:\n",
    "        #     min = prices[i]\n",
    "        min = min(min, prices[i])\n",
    "        selling_price = prices[i]\n",
    "        profit = selling_price - min\n",
    "        # print(\"profit: {}\".format(profit))\n",
    "        # if max_profit < profit:\n",
    "        #     max_profit = profit\n",
    "        max_profit = max(max_profit, profit)\n",
    "    return max_profit\n",
    "\n",
    "def buy_and_sell_stock_once(prices):\n",
    "    max_profit = 0\n",
    "    min_price = float('inf')\n",
    "    for price in prices:\n",
    "        min_price = min(min_price, price)\n",
    "        profit = price - min_price\n",
    "        max_profit = max(max_profit, profit)\n",
    "    return max_profit\n",
    "\n",
    "\n",
    "print(buy_and_sell_stock_once(prices))"
   ]
  },
  {
   "cell_type": "code",
   "execution_count": null,
   "metadata": {},
   "outputs": [],
   "source": []
  }
 ]
}