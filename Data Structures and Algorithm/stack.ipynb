{
 "metadata": {
  "language_info": {
   "codemirror_mode": {
    "name": "ipython",
    "version": 3
   },
   "file_extension": ".py",
   "mimetype": "text/x-python",
   "name": "python",
   "nbconvert_exporter": "python",
   "pygments_lexer": "ipython3",
   "version": 3
  },
  "orig_nbformat": 2,
  "kernelspec": {
   "name": "python_defaultSpec_1595293189593",
   "display_name": "Python 3.8.3 32-bit"
  }
 },
 "nbformat": 4,
 "nbformat_minor": 2,
 "cells": [
  {
   "cell_type": "code",
   "execution_count": 5,
   "metadata": {
    "tags": []
   },
   "outputs": [
    {
     "output_type": "stream",
     "name": "stdout",
     "text": "D\n4\n[1, 2, 3, 4]\n"
    }
   ],
   "source": [
    "\"\"\"\n",
    "Stack Data Structure.\n",
    "\"\"\"\n",
    "class Stack():\n",
    "    def __init__(self):\n",
    "        self.items = []\n",
    "\n",
    "    def push(self, item):\n",
    "        self.items.append(item)\n",
    "    \n",
    "    def pop(self):\n",
    "        return self.items.pop()\n",
    "\n",
    "    def get_stack(self):\n",
    "        return self.items\n",
    "\n",
    "    def is_empty(self):\n",
    "        return self.items == []\n",
    "\n",
    "    def peek(self):\n",
    "        if not self.is_empty():\n",
    "            return self.items[-1]\n",
    "    \n",
    "myStack = Stack()\n",
    "myStack.push(\"A\")\n",
    "myStack.push(\"B\")\n",
    "myStack.push(\"C\")\n",
    "myStack.push(\"D\")\n",
    "print(myStack.peek())\n",
    "myStackTest = Stack()\n",
    "myStackTest.push(1)\n",
    "myStackTest.push(2)\n",
    "myStackTest.push(3)\n",
    "myStackTest.push(4)\n",
    "print(myStackTest.peek())\n",
    "print(myStackTest.get_stack())"
   ]
  },
  {
   "cell_type": "code",
   "execution_count": 4,
   "metadata": {
    "tags": []
   },
   "outputs": [
    {
     "output_type": "stream",
     "name": "stdout",
     "text": "1\n2\n[2]\n"
    }
   ],
   "source": [
    "\"\"\"\n",
    "Stack Data Structure.\n",
    "\"\"\"\n",
    "class Stack():\n",
    "    def __init__(self):\n",
    "        self.items = []\n",
    "    \n",
    "    def push(self, item):\n",
    "        self.items.append(item)\n",
    "\n",
    "    def pop(self):\n",
    "        return self.items.pop()\n",
    "\n",
    "    def is_empty(self):\n",
    "        return self.items == []\n",
    "\n",
    "    def peek(self):\n",
    "        if not self.is_empty():\n",
    "            return self.items[-1]\n",
    "\n",
    "    def get_stack(self):\n",
    "        return self.items\n",
    "\n",
    "myStack = Stack()\n",
    "myStack.push(1)\n",
    "print(myStack.pop())\n",
    "myStack.push(2)\n",
    "print(myStack.peek())\n",
    "print(myStack.get_stack())"
   ]
  },
  {
   "cell_type": "code",
   "execution_count": 50,
   "metadata": {
    "tags": []
   },
   "outputs": [
    {
     "output_type": "stream",
     "name": "stdout",
     "text": "[\n]\n[\n]\n]\n"
    },
    {
     "output_type": "execute_result",
     "data": {
      "text/plain": "False"
     },
     "metadata": {},
     "execution_count": 50
    }
   ],
   "source": [
    "def is_match(p1, p2):\n",
    "    if p1 == \"{\" and p2 == \"}\":\n",
    "        return True\n",
    "    elif p1 == \"(\" and p2 == \")\":\n",
    "        return True\n",
    "    elif p1 == \"[\" and p2 == \"]\":\n",
    "        return True\n",
    "    else:\n",
    "        return False\n",
    "\n",
    "def is_paren_balanced(paren_string):\n",
    "    s = Stack()\n",
    "    is_balanced = True\n",
    "        \n",
    "    for i in paren_string:\n",
    "        print(i)\n",
    "        if i == '{' or i == '[' or i == '(':\n",
    "            s.push(i)\n",
    "        else:\n",
    "            if s.is_empty():\n",
    "                is_balanced = False\n",
    "                break\n",
    "            else:\n",
    "                item = s.pop()\n",
    "                if not is_match(item, i):\n",
    "                    is_balanced = False\n",
    "    if s.is_empty() and is_balanced:\n",
    "        return True\n",
    "    else:\n",
    "        return False\n",
    "\n",
    "test = \"[][]]]]\"\n",
    "is_paren_balanced(test)"
   ]
  },
  {
   "cell_type": "code",
   "execution_count": 55,
   "metadata": {
    "tags": []
   },
   "outputs": [
    {
     "output_type": "stream",
     "name": "stdout",
     "text": "Welcome to Educative!\n"
    }
   ],
   "source": [
    "# Reverse String\n",
    "\n",
    "def reverse_string(stack, input_str):\n",
    "    s = ''\n",
    "    for i in input_str:\n",
    "        stack.push(i)\n",
    "    for i in input_str:\n",
    "        # print(stack.pop())\n",
    "        s += stack.pop()\n",
    "    return s\n",
    "\n",
    "s = Stack()\n",
    "input_str = \"!evitacudE ot emocleW\"\n",
    "print(reverse_string(s, input_str))"
   ]
  },
  {
   "cell_type": "code",
   "execution_count": 57,
   "metadata": {
    "tags": []
   },
   "outputs": [
    {
     "output_type": "stream",
     "name": "stdout",
     "text": "Welcome to Educative!\n"
    }
   ],
   "source": [
    "# Reverse String\n",
    "\n",
    "def reverse_string1(stack, input_str):\n",
    "    for i in range(len(input_str)):\n",
    "        stack.push(input_str[i])\n",
    "    s = \"\"\n",
    "    while not stack.is_empty():\n",
    "        s += stack.pop()\n",
    "    return s\n",
    "\n",
    "s = Stack()\n",
    "input_str = \"!evitacudE ot emocleW\"\n",
    "print(reverse_string1(s, input_str))"
   ]
  },
  {
   "cell_type": "code",
   "execution_count": 77,
   "metadata": {
    "tags": []
   },
   "outputs": [
    {
     "output_type": "stream",
     "name": "stdout",
     "text": "1000100\n"
    }
   ],
   "source": [
    "# Exercise: Convert Decimal Integer to Binary\n",
    "\n",
    "def convert_int_to_bin(dec_num):\n",
    "    stack = Stack()\n",
    "    if dec_num < 0:\n",
    "        return False\n",
    "    while dec_num != 0:\n",
    "        # print(dec_num % 2)\n",
    "        stack.push(dec_num % 2)\n",
    "        # print(dec_num)\n",
    "        dec_num = dec_num // 2\n",
    "    result = \"\"\n",
    "    while not stack.is_empty():\n",
    "        result += str(stack.pop())\n",
    "    return result\n",
    "print(convert_int_to_bin(68))"
   ]
  },
  {
   "cell_type": "code",
   "execution_count": null,
   "metadata": {},
   "outputs": [],
   "source": []
  }
 ]
}