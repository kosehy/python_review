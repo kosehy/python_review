{
 "metadata": {
  "language_info": {
   "codemirror_mode": {
    "name": "ipython",
    "version": 3
   },
   "file_extension": ".py",
   "mimetype": "text/x-python",
   "name": "python",
   "nbconvert_exporter": "python",
   "pygments_lexer": "ipython3",
   "version": 3
  },
  "orig_nbformat": 2,
  "kernelspec": {
   "name": "python_defaultSpec_1596337468048",
   "display_name": "Python 3.8.5 64-bit"
  }
 },
 "nbformat": 4,
 "nbformat_minor": 2,
 "cells": [
  {
   "cell_type": "code",
   "execution_count": 10,
   "metadata": {
    "tags": []
   },
   "outputs": [
    {
     "output_type": "stream",
     "name": "stdout",
     "text": "search_queue: deque(['alice', 'bob', 'claire'])\nperson: alice\nanother search_queue: deque(['bob', 'claire', 'peggy'])\nsearch_queue: deque(['bob', 'claire', 'peggy'])\nperson: bob\nanother search_queue: deque(['claire', 'peggy', 'anuj', 'peggy'])\nsearch_queue: deque(['claire', 'peggy', 'anuj', 'peggy'])\nperson: claire\nanother search_queue: deque(['peggy', 'anuj', 'peggy', 'thom', 'jonny'])\nsearch_queue: deque(['peggy', 'anuj', 'peggy', 'thom', 'jonny'])\nperson: peggy\nanother search_queue: deque(['anuj', 'peggy', 'thom', 'jonny'])\nsearch_queue: deque(['anuj', 'peggy', 'thom', 'jonny'])\nperson: anuj\nanother search_queue: deque(['peggy', 'thom', 'jonny'])\nsearch_queue: deque(['peggy', 'thom', 'jonny'])\nperson: peggy\nsearch_queue: deque(['thom', 'jonny'])\nperson: thom\nthom is a mango seller!\nTrue\nFalse\n"
    }
   ],
   "source": [
    "from collections import deque\n",
    "\n",
    "def person_is_seller(name):\n",
    "    return name[-1] == \"m\"\n",
    "\n",
    "graph = {}\n",
    "searched = []\n",
    "graph[\"you\"] = [\"alice\", \"bob\", \"claire\"]\n",
    "graph[\"bob\"] = [\"anuj\", \"peggy\"]\n",
    "graph[\"alice\"] = [\"peggy\"]\n",
    "graph[\"claire\"] = [\"thom\", \"jonny\"]\n",
    "graph[\"peggy\"] = []\n",
    "graph[\"anuj\"] = []\n",
    "graph[\"jonny\"] = []\n",
    "graph[\"thom\"] = []\n",
    "\n",
    "search_queue = deque()\n",
    "search_queue += graph[\"you\"]\n",
    "while search_queue:\n",
    "    print(f\"search_queue: {search_queue}\")\n",
    "    person = search_queue.popleft()\n",
    "    print(f\"person: {person}\")\n",
    "    if not person in searched:\n",
    "        if person_is_seller(person):\n",
    "            print(f\"{person} is a mango seller!\")\n",
    "            print(\"True\")\n",
    "            break\n",
    "        else:\n",
    "            search_queue += graph[person]\n",
    "            print(f\"another search_queue: {search_queue}\")\n",
    "            searched.append(person)\n",
    "print(\"False\")\n"
   ]
  },
  {
   "cell_type": "code",
   "execution_count": 29,
   "metadata": {
    "tags": []
   },
   "outputs": [
    {
     "output_type": "stream",
     "name": "stdout",
     "text": "({'a': 5, 'b': 2, 'fin': 6}, {'a': 'b', 'b': 'start', 'fin': 'a'})\n"
    }
   ],
   "source": [
    "'''\n",
    "Dijkstra's algorithm\n",
    "1. Find the cheapest node. This is the node you can get to in the least amount of time.\n",
    "2. Check whether there's a cheaper path to the neighbors of this node. If so, update their costs.\n",
    "3. Repeat until you've done this for every node in the graph.\n",
    "4. Calculate the final path.\n",
    "'''\n",
    "'''\n",
    "1. while we have nodes to process\n",
    "2. grab the node that is closest to the start\n",
    "3. update costs for it's neighbors\n",
    "4. if any of the neighbors' costs were updated, update the parents too\n",
    "5. mark this node processed\n",
    "'''\n",
    "\n",
    "from collections import deque\n",
    "\n",
    "graph = {}\n",
    "graph[\"start\"] = {}\n",
    "graph[\"start\"][\"a\"] = 6\n",
    "graph[\"start\"][\"b\"] = 2\n",
    "graph[\"a\"] = {}\n",
    "graph[\"a\"][\"fin\"] = 1\n",
    "graph[\"b\"] = {}\n",
    "graph[\"b\"][\"a\"] = 3\n",
    "graph[\"b\"][\"fin\"] = 5\n",
    "graph[\"fin\"] = {}\n",
    "infinity = float(\"inf\")\n",
    "\n",
    "costs = {}\n",
    "costs[\"a\"] = 6\n",
    "costs[\"b\"] = 2\n",
    "costs[\"fin\"] = infinity\n",
    "\n",
    "parents = {}\n",
    "parents[\"a\"] = \"start\"\n",
    "parents[\"b\"] = \"start\"\n",
    "parents[\"fin\"] = infinity\n",
    "\n",
    "processed = []\n",
    "\n",
    "def find_lowest_cost_node(costs):\n",
    "    lowest_cost = float(\"inf\")\n",
    "    lowest_cost_node = None\n",
    "    for node in costs:\n",
    "        cost = costs[node]\n",
    "        if cost < lowest_cost_node and node not in processed:\n",
    "            lowest_cost = cost\n",
    "            \n",
    "\n",
    "\n",
    "def dijkstra(graph, costs, parents):\n",
    "    node = find_lowest_cost_node(costs)\n",
    "    while node:\n",
    "        cost = costs[node]\n",
    "        new_node = graph[node]\n",
    "        for i in new_node.keys():\n",
    "            new_cost = new_node[i] + cost\n",
    "            if costs[i] > new_cost:\n",
    "                costs[i] = new_cost\n",
    "                parents[i] = node\n",
    "        processed.append(node)\n",
    "        node = find_lowest_cost_node(costs)\n",
    "    return costs, parents\n",
    "print(dijkstra(graph, costs, parents))"
   ]
  },
  {
   "cell_type": "code",
   "execution_count": 19,
   "metadata": {
    "tags": []
   },
   "outputs": [
    {
     "output_type": "stream",
     "name": "stdout",
     "text": "50\nabc\n"
    }
   ],
   "source": [
    "print(50)\n",
    "print(\"abc\")"
   ]
  },
  {
   "cell_type": "code",
   "execution_count": null,
   "metadata": {},
   "outputs": [],
   "source": []
  }
 ]
}