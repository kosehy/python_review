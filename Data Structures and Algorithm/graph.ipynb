{
 "metadata": {
  "language_info": {
   "codemirror_mode": {
    "name": "ipython",
    "version": 3
   },
   "file_extension": ".py",
   "mimetype": "text/x-python",
   "name": "python",
   "nbconvert_exporter": "python",
   "pygments_lexer": "ipython3",
   "version": 3
  },
  "orig_nbformat": 2,
  "kernelspec": {
   "name": "python_defaultSpec_1596503902354",
   "display_name": "Python 3.8.5 64-bit"
  }
 },
 "nbformat": 4,
 "nbformat_minor": 2,
 "cells": [
  {
   "cell_type": "code",
   "execution_count": 10,
   "metadata": {
    "tags": []
   },
   "outputs": [
    {
     "output_type": "stream",
     "name": "stdout",
     "text": "search_queue: deque(['alice', 'bob', 'claire'])\nperson: alice\nanother search_queue: deque(['bob', 'claire', 'peggy'])\nsearch_queue: deque(['bob', 'claire', 'peggy'])\nperson: bob\nanother search_queue: deque(['claire', 'peggy', 'anuj', 'peggy'])\nsearch_queue: deque(['claire', 'peggy', 'anuj', 'peggy'])\nperson: claire\nanother search_queue: deque(['peggy', 'anuj', 'peggy', 'thom', 'jonny'])\nsearch_queue: deque(['peggy', 'anuj', 'peggy', 'thom', 'jonny'])\nperson: peggy\nanother search_queue: deque(['anuj', 'peggy', 'thom', 'jonny'])\nsearch_queue: deque(['anuj', 'peggy', 'thom', 'jonny'])\nperson: anuj\nanother search_queue: deque(['peggy', 'thom', 'jonny'])\nsearch_queue: deque(['peggy', 'thom', 'jonny'])\nperson: peggy\nsearch_queue: deque(['thom', 'jonny'])\nperson: thom\nthom is a mango seller!\nTrue\nFalse\n"
    }
   ],
   "source": [
    "from collections import deque\n",
    "\n",
    "def person_is_seller(name):\n",
    "    return name[-1] == \"m\"\n",
    "\n",
    "graph = {}\n",
    "searched = []\n",
    "graph[\"you\"] = [\"alice\", \"bob\", \"claire\"]\n",
    "graph[\"bob\"] = [\"anuj\", \"peggy\"]\n",
    "graph[\"alice\"] = [\"peggy\"]\n",
    "graph[\"claire\"] = [\"thom\", \"jonny\"]\n",
    "graph[\"peggy\"] = []\n",
    "graph[\"anuj\"] = []\n",
    "graph[\"jonny\"] = []\n",
    "graph[\"thom\"] = []\n",
    "\n",
    "search_queue = deque()\n",
    "search_queue += graph[\"you\"]\n",
    "while search_queue:\n",
    "    print(f\"search_queue: {search_queue}\")\n",
    "    person = search_queue.popleft()\n",
    "    print(f\"person: {person}\")\n",
    "    if not person in searched:\n",
    "        if person_is_seller(person):\n",
    "            print(f\"{person} is a mango seller!\")\n",
    "            print(\"True\")\n",
    "            break\n",
    "        else:\n",
    "            search_queue += graph[person]\n",
    "            print(f\"another search_queue: {search_queue}\")\n",
    "            searched.append(person)\n",
    "print(\"False\")\n"
   ]
  },
  {
   "cell_type": "code",
   "execution_count": null,
   "metadata": {},
   "outputs": [],
   "source": [
    "from collections import deque\n",
    "\n",
    "routine = {}\n",
    "routine[\"wake-up\"] = [\"shower\", \"brush-teeth\"]\n",
    "routine[\"shower\"] = []\n",
    "routine[\"brush-teeth\"] = [\"eat-breakfast\"]\n",
    "routine[\"eat-breakfast\"] = []\n"
   ]
  }
 ]
}