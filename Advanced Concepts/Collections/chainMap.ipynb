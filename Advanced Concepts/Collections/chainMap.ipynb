{
 "metadata": {
  "language_info": {
   "codemirror_mode": {
    "name": "ipython",
    "version": 3
   },
   "file_extension": ".py",
   "mimetype": "text/x-python",
   "name": "python",
   "nbconvert_exporter": "python",
   "pygments_lexer": "ipython3",
   "version": 3
  },
  "orig_nbformat": 2,
  "kernelspec": {
   "name": "python_defaultSpec_1595230214523",
   "display_name": "Python 3.8.3 32-bit"
  }
 },
 "nbformat": 4,
 "nbformat_minor": 2,
 "cells": [
  {
   "cell_type": "code",
   "execution_count": 3,
   "metadata": {
    "tags": []
   },
   "outputs": [
    {
     "output_type": "stream",
     "name": "stdout",
     "text": "500\nChainMap({'cover': 100, 'hood_ornament': 150, 'seat_cover': 99}, {'A/C': 1000, 'Turbo': 2500, 'rollbar': 300}, {'hood': 500, 'engine': 5000, 'front_door': 750})\n"
    }
   ],
   "source": [
    "from collections import ChainMap\n",
    "car_parts = {'hood': 500, 'engine': 5000, 'front_door': 750}\n",
    "car_options = {'A/C': 1000, 'Turbo': 2500, 'rollbar': 300}\n",
    "car_accessories = {'cover': 100, 'hood_ornament': 150, 'seat_cover': 99}\n",
    "car_pricing = ChainMap(car_accessories, car_options, car_parts)\n",
    "print (car_pricing['hood'])\n",
    "print(car_pricing)"
   ]
  },
  {
   "cell_type": "code",
   "execution_count": 4,
   "metadata": {
    "tags": []
   },
   "outputs": [
    {
     "output_type": "stream",
     "name": "stderr",
     "text": "usage: ipykernel_launcher [-h] [-u USERNAME] [-p PASSWORD]\nipykernel_launcher: error: unrecognized arguments: --ip=127.0.0.1 --stdin=9103 --control=9101 --hb=9100 --Session.signature_scheme=\"hmac-sha256\" --Session.key=b\"bb4781e9-21f7-4a69-a2b1-e1d9f59d0d93\" --shell=9102 --transport=\"tcp\" --iopub=9104 --f=C:\\Users\\KOSEUN~1\\AppData\\Local\\Temp\\tmp-7876woqSADpLwCdP.json\n"
    },
    {
     "output_type": "error",
     "ename": "SystemExit",
     "evalue": "2",
     "traceback": [
      "An exception has occurred, use %tb to see the full traceback.\n",
      "\u001b[1;31mSystemExit\u001b[0m\u001b[1;31m:\u001b[0m 2\n"
     ]
    }
   ],
   "source": [
    "import argparse\n",
    "import os\n",
    "\n",
    "from collections import ChainMap\n",
    "\n",
    "def main():\n",
    "    app_defaults = {'username':'admin', 'password':'admin'}\n",
    "\n",
    "    parser = argparse.ArgumentParser()\n",
    "    parser.add_argument('-u', '--username')\n",
    "    parser.add_argument('-p', '--password')\n",
    "    args = parser.parse_args()\n",
    "    command_line_arguments = {key:value for key, value\n",
    "                              in vars(args).items() if value}\n",
    "\n",
    "    chain = ChainMap(command_line_arguments, os.environ, app_defaults)\n",
    "    print(chain['username'])\n",
    "    print(chain)\n",
    "\n",
    "if __name__ == '__main__':\n",
    "    main()\n",
    "    os.environ['username'] = 'test'\n",
    "    main()"
   ]
  },
  {
   "cell_type": "code",
   "execution_count": null,
   "metadata": {},
   "outputs": [],
   "source": []
  }
 ]
}