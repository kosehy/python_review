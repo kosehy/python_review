{
 "metadata": {
  "language_info": {
   "codemirror_mode": {
    "name": "ipython",
    "version": 3
   },
   "file_extension": ".py",
   "mimetype": "text/x-python",
   "name": "python",
   "nbconvert_exporter": "python",
   "pygments_lexer": "ipython3",
   "version": 3
  },
  "orig_nbformat": 2,
  "kernelspec": {
   "name": "python_defaultSpec_1595225397873",
   "display_name": "Python 3.8.3 32-bit"
  }
 },
 "nbformat": 4,
 "nbformat_minor": 2,
 "cells": [
  {
   "cell_type": "code",
   "execution_count": 1,
   "metadata": {
    "tags": []
   },
   "outputs": [
    {
     "output_type": "stream",
     "name": "stdout",
     "text": "usage: ipykernel_launcher [-h]\n\nA simple argument parser\n\noptional arguments:\n  -h, --help  show this help message and exit\n\nThis is where you might put example usage\n"
    }
   ],
   "source": [
    "import argparse\n",
    "\n",
    "parser = argparse.ArgumentParser(\n",
    "    description=\"A simple argument parser\",\n",
    "    epilog=\"This is where you might put example usage\"\n",
    ")\n",
    "\n",
    "parser.print_help()"
   ]
  },
  {
   "cell_type": "code",
   "execution_count": 2,
   "metadata": {
    "tags": []
   },
   "outputs": [
    {
     "output_type": "stream",
     "name": "stderr",
     "text": "usage: ipykernel_launcher [-h]\nipykernel_launcher: error: unrecognized arguments: --ip=127.0.0.1 --stdin=9093 --control=9091 --hb=9090 --Session.signature_scheme=\"hmac-sha256\" --Session.key=b\"fdbd8552-8df3-4b4e-a0f5-a9ae2f4daef4\" --shell=9092 --transport=\"tcp\" --iopub=9094 --f=C:\\Users\\KOSEUN~1\\AppData\\Local\\Temp\\tmp-7876BXAjO9VOZTDy.json\n"
    },
    {
     "output_type": "error",
     "ename": "SystemExit",
     "evalue": "2",
     "traceback": [
      "An exception has occurred, use %tb to see the full traceback.\n",
      "\u001b[1;31mSystemExit\u001b[0m\u001b[1;31m:\u001b[0m 2\n"
     ]
    }
   ],
   "source": [
    "# arg_demo.py\n",
    "\n",
    "import argparse\n",
    "\n",
    "def get_args():\n",
    "    \"\"\"\"\"\"\n",
    "    parser = argparse.ArgumentParser(\n",
    "        description=\"A simple argument parser\",\n",
    "        epilog=\"This is where you might put example usage\"\n",
    "    )\n",
    "    return parser.parse_args()\n",
    "\n",
    "if __name__== '__main__':\n",
    "    get_args()"
   ]
  },
  {
   "cell_type": "code",
   "execution_count": 5,
   "metadata": {
    "tags": []
   },
   "outputs": [
    {
     "output_type": "stream",
     "name": "stderr",
     "text": "usage: ipykernel_launcher [-h] -x X [-y Y] [-z Z]\nipykernel_launcher: error: the following arguments are required: -x\n"
    },
    {
     "output_type": "error",
     "ename": "SystemExit",
     "evalue": "2",
     "traceback": [
      "An exception has occurred, use %tb to see the full traceback.\n",
      "\u001b[1;31mSystemExit\u001b[0m\u001b[1;31m:\u001b[0m 2\n"
     ]
    }
   ],
   "source": [
    "# arg_demo2.py\n",
    "\n",
    "import argparse\n",
    "\n",
    "def get_args():\n",
    "    parser = argparse.ArgumentParser(\n",
    "        description = \"A simple argument parser\",\n",
    "        epilog=\"This is where you might put example usage\"\n",
    "    )\n",
    "\n",
    "    # required argument\n",
    "    parser.add_argument('-x', action=\"store\", required=True,\n",
    "                        help='Help text for option X')\n",
    "    # optional arguments\n",
    "    parser.add_argument('-y', help='Help text from option Y', default=False)\n",
    "    parser.add_argument('-z', help='Help text for option Z', type=int)\n",
    "    # short options and long options\n",
    "    parser.add_argument('-p', action='store', required=True, help='Help text fro option X')\n",
    "    parser.add_argument('-p', '--execute', action='store', required=True, help='Help text for option X')\n",
    "    print(parser.parse_args())\n",
    "\n",
    "if __name__ == '__main__':\n",
    "    get_args()"
   ]
  },
  {
   "cell_type": "code",
   "execution_count": null,
   "metadata": {},
   "outputs": [],
   "source": [
    "# mutually_exclusive_group\n",
    "\n",
    "import argparse\n",
    "\n",
    "def get_args():\n",
    "\n",
    "    parser = argparse.ArgumentParser(\n",
    "        description=\"A simple argument parser\",\n",
    "        epilog=\"This is where you might put example usage\"\n",
    "    )\n",
    "\n",
    "    group = parser.add_mutually_exclusive_group()\n",
    "    group.add_argument('-x', '--execute', action=\"store\", help='Help text for option X')\n",
    "    group.add_argument('-y', help='Help text for option Y', default=False)\n",
    "    parser.add_argument('-z', help='Help text for option Z', type=int)\n",
    "    print(parser.parser_args())\n",
    "\n",
    "if __name__ == '__main__':\n",
    "    get_args()"
   ]
  }
 ]
}