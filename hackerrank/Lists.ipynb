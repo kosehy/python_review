{
 "cells": [
  {
   "cell_type": "code",
   "execution_count": 8,
   "metadata": {
    "tags": []
   },
   "outputs": [
    {
     "output_type": "stream",
     "name": "stdout",
     "text": "[6, 5, 10]\n[1, 5, 9, 10]\n[9, 5, 1]\n[9, 5, 1]\n"
    }
   ],
   "source": [
    "if __name__ == '__main__':\n",
    "    list = []\n",
    "    N = int(input())\n",
    "    for i in range(N):\n",
    "        str = input().split()\n",
    "        # print(str)\n",
    "        if str[0] == 'insert':\n",
    "            list.insert(int(str[1]), int(str[2]))\n",
    "        elif str[0] == 'print':\n",
    "            print(list)\n",
    "        elif str[0] == 'remove':\n",
    "            list.remove(int(str[1]))\n",
    "        elif str[0] == 'append':\n",
    "            list.append(int(str[1]))\n",
    "        elif str[0] == 'sort':\n",
    "            list.sort()\n",
    "        elif str[0] == 'pop':\n",
    "            list.pop()\n",
    "        elif str[0] == 'reverse':\n",
    "            list.reverse()"
   ]
  },
  {
   "cell_type": "code",
   "execution_count": null,
   "metadata": {},
   "outputs": [],
   "source": []
  }
 ],
 "metadata": {
  "language_info": {
   "codemirror_mode": {
    "name": "ipython",
    "version": 3
   },
   "file_extension": ".py",
   "mimetype": "text/x-python",
   "name": "python",
   "nbconvert_exporter": "python",
   "pygments_lexer": "ipython3",
   "version": "3.8.3-final"
  },
  "orig_nbformat": 2,
  "kernelspec": {
   "name": "python38332bitb8361c779dfd480f8935c4534bbf884b",
   "display_name": "Python 3.8.3 32-bit"
  }
 },
 "nbformat": 4,
 "nbformat_minor": 2
}