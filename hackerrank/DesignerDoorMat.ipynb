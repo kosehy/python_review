{
 "cells": [
  {
   "cell_type": "code",
   "execution_count": 3,
   "metadata": {
    "tags": []
   },
   "outputs": [
    {
     "output_type": "stream",
     "name": "stdout",
     "text": "welcome_pos : 4\ncenter : 2\n----------------------------------WELCOME----------------------------------"
    }
   ],
   "source": [
    "N = input().split()\n",
    "# print(N)\n",
    "welcome_pos = int((int(N[1]) - 7) / 2)\n",
    "center = int(N[0]) // 2\n",
    "\n",
    "print('welcome_pos : {}'.format(welcome_pos))\n",
    "print('center : {}'.format(center))\n",
    "for i in range(int(N[0])):\n",
    "    for j in range(int(N[1])):\n",
    "        if i == center:\n",
    "            if j == welcome_pos:\n",
    "                print('W', end = '')\n",
    "                continue\n",
    "            elif j == welcome_pos + 1:\n",
    "                print('E', end = '')\n",
    "                continue\n",
    "            elif j == welcome_pos + 2:\n",
    "                print('L', end = '')\n",
    "                continue\n",
    "            elif j == welcome_pos + 3:\n",
    "                print('C', end = '')\n",
    "                continue\n",
    "            elif j == welcome_pos + 4:\n",
    "                print('O', end = '')\n",
    "                continue\n",
    "            elif j == welcome_pos + 5:\n",
    "                print('M', end = '')\n",
    "                continue\n",
    "            elif j == welcome_pos + 6:\n",
    "                print('E', end = '')\n",
    "                continue                \n",
    "        print('-', end = '')\n",
    "    else:\n",
    "        print('')"
   ]
  },
  {
   "cell_type": "code",
   "execution_count": 2,
   "metadata": {
    "tags": []
   },
   "outputs": [
    {
     "output_type": "stream",
     "name": "stdout",
     "text": "2.5\nwelcome_pos : 4\ncenter : 2\n------.|.------\n---.|..|..|.---\n----WELCOME----\n---.|..|..|.---\n------.|.------\n"
    }
   ],
   "source": [
    "N = input().split()\n",
    "# print(N)\n",
    "row = int(N[0])\n",
    "col = int(N[1])\n",
    "print(row / 2)\n",
    "door = '.|.'\n",
    "welcome_pos = int((col - 7) / 2)\n",
    "center = row // 2\n",
    "\n",
    "print('welcome_pos : {}'.format(welcome_pos))\n",
    "print('center : {}'.format(center))\n",
    "for i in range(int(N[0])):\n",
    "    for j in range(int(N[1])):  \n",
    "        if i == center:\n",
    "            if j == welcome_pos:\n",
    "                print('WELCOME', end = '')\n",
    "            elif j > welcome_pos and j <= welcome_pos + 7:\n",
    "                continue\n",
    "        elif i == 0 or i == row - 1:\n",
    "            if j == 3 * (row // 2):\n",
    "                print(door, end = '')\n",
    "            elif j > 3 * (row // 2) and j <= 3 * (row // 2) + 3:\n",
    "                continue\n",
    "        elif i == 1 or i == row - 2:\n",
    "            if j == 3 * (row // 2 - 1):\n",
    "                print(door, end = '')\n",
    "                print(door, end = '')\n",
    "                print(door, end = '')\n",
    "            elif j > 3 * (row // 2 - 1) and j <= 3 * (row // 2 - 1) * 3 + 3:\n",
    "                continue\n",
    "        print('-', end = '')\n",
    "    else:\n",
    "        print('')"
   ]
  },
  {
   "cell_type": "code",
   "execution_count": 11,
   "metadata": {
    "tags": []
   },
   "outputs": [
    {
     "output_type": "stream",
     "name": "stdout",
     "text": "welcome_pos : 10\ncenter : 4\n------------.|.------------\n---------.|..|..|.---------\n------.|..|..|..|..|.------\n---.|..|..|..|..|..|..|.---\n----------WELCOME----------\n---.|..|..|..|..|..|..|.---\n------.|..|..|..|..|.------\n---------.|..|..|.---------\n------------.|.------------\n"
    }
   ],
   "source": [
    "N = input().split()\n",
    "row = int(N[0])\n",
    "col = int(N[1])\n",
    "# print(row / 2)\n",
    "door = '.|.'\n",
    "msg = 'WELCOME'\n",
    "welcome_pos = int((col - 7) / 2)\n",
    "center = row // 2\n",
    "\n",
    "print('welcome_pos : {}'.format(welcome_pos))\n",
    "print('center : {}'.format(center))\n",
    "for i in range(int(N[0])):\n",
    "    k = i\n",
    "    for j in range(int(N[1])):\n",
    "        # print('j : {}'.format(j))\n",
    "        if i == center:\n",
    "            if j == welcome_pos:\n",
    "                print(msg, end = '')\n",
    "            elif j > welcome_pos and j <= welcome_pos + len(msg):\n",
    "                continue\n",
    "        elif i < center:\n",
    "            if j > 3 * abs(i - center) and j <= 3 * (i * 2 + 1) + 3 * abs(i - center):\n",
    "                continue\n",
    "            elif j == 3 * abs(i - center):\n",
    "                for k in range(k * 2 + 1):\n",
    "                    print(door, end='')\n",
    "        elif i > center:\n",
    "            if j > 3 * abs(i - center) and j <= 3 * ((row - 1 - i) * 2 + 1) + 3 * abs(i - center):\n",
    "                continue\n",
    "            elif j == 3 * abs(i - center):\n",
    "                for k in range((row - 1 - k) * 2 + 1):\n",
    "                    print(door, end='')\n",
    "        print('-', end = '')\n",
    "    else:\n",
    "        print('')"
   ]
  },
  {
   "cell_type": "code",
   "execution_count": null,
   "metadata": {},
   "outputs": [],
   "source": []
  }
 ],
 "metadata": {
  "language_info": {
   "codemirror_mode": {
    "name": "ipython",
    "version": 3
   },
   "file_extension": ".py",
   "mimetype": "text/x-python",
   "name": "python",
   "nbconvert_exporter": "python",
   "pygments_lexer": "ipython3",
   "version": "3.8.3-final"
  },
  "orig_nbformat": 2,
  "kernelspec": {
   "name": "python38332bitb8361c779dfd480f8935c4534bbf884b",
   "display_name": "Python 3.8.3 32-bit"
  }
 },
 "nbformat": 4,
 "nbformat_minor": 2
}