{
 "metadata": {
  "language_info": {
   "codemirror_mode": {
    "name": "ipython",
    "version": 3
   },
   "file_extension": ".py",
   "mimetype": "text/x-python",
   "name": "python",
   "nbconvert_exporter": "python",
   "pygments_lexer": "ipython3",
   "version": "3.7.3-final"
  },
  "orig_nbformat": 2,
  "kernelspec": {
   "name": "python37364bit2b81c6a3b88c4e4ca31e8fd7ef8b8c7c",
   "display_name": "Python 3.7.3 64-bit"
  }
 },
 "nbformat": 4,
 "nbformat_minor": 2,
 "cells": [
  {
   "source": [
    "Date : 20201128\n",
    "\n",
    "Title: Hackerrank - Repeated String\n",
    "\n",
    "## First Try ##"
   ],
   "cell_type": "markdown",
   "metadata": {}
  },
  {
   "cell_type": "code",
   "execution_count": 20,
   "metadata": {},
   "outputs": [
    {
     "output_type": "stream",
     "name": "stdout",
     "text": [
      "10000000000\n"
     ]
    }
   ],
   "source": [
    "#!/bin/python3\n",
    "\n",
    "import math\n",
    "import os\n",
    "import random\n",
    "import re\n",
    "import sys\n",
    "\n",
    "# Complete the repeatedString function below.\n",
    "def repeatedString(s, n):\n",
    "    if s == \"a\":\n",
    "        return n\n",
    "    s_len = len(s)\n",
    "    k = n // s_len\n",
    "    p = n % s_len\n",
    "    # print(f'\"k: {k}, p: {p}\"')\n",
    "    n = s*k + s[:p]\n",
    "    w = n.count(s[0])\n",
    "    print(f'\"w: {w}\"')\n",
    "    # print(f'\"n: {n}\"')\n",
    "if __name__ == '__main__':\n",
    "    s = input()\n",
    "\n",
    "    n = int(input())\n",
    "\n",
    "    result = repeatedString(s, n)\n",
    "    print(result)"
   ]
  },
  {
   "source": [
    "## Second Try ##"
   ],
   "cell_type": "markdown",
   "metadata": {}
  },
  {
   "cell_type": "code",
   "execution_count": 5,
   "metadata": {},
   "outputs": [
    {
     "output_type": "stream",
     "name": "stdout",
     "text": [
      "10000000\n"
     ]
    }
   ],
   "source": [
    "# reference : https://wiki.python.org/moin/TimeComplexity\n",
    "# wtc : O(n) - count function \n",
    "# wsc : O(1)\n",
    "\n",
    "import math\n",
    "import os\n",
    "import random\n",
    "import re\n",
    "import sys\n",
    "\n",
    "# Complete the repeatedString function below.\n",
    "def repeatedString(s, n):\n",
    "    s_len = len(s)\n",
    "    quotient = n // s_len\n",
    "    remainder = n % s_len\n",
    "    result = s.count('a') * quotient + s[:remainder].count('a')\n",
    "    return result\n",
    "if __name__ == '__main__':\n",
    "    s = input()\n",
    "\n",
    "    n = int(input())\n",
    "\n",
    "    result = repeatedString(s, n)\n",
    "    print(result)"
   ]
  },
  {
   "cell_type": "code",
   "execution_count": null,
   "metadata": {},
   "outputs": [],
   "source": []
  }
 ]
}