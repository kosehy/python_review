{
 "metadata": {
  "language_info": {
   "codemirror_mode": {
    "name": "ipython",
    "version": 3
   },
   "file_extension": ".py",
   "mimetype": "text/x-python",
   "name": "python",
   "nbconvert_exporter": "python",
   "pygments_lexer": "ipython3",
   "version": "3.7.3-final"
  },
  "orig_nbformat": 2,
  "kernelspec": {
   "name": "python37364bit2b81c6a3b88c4e4ca31e8fd7ef8b8c7c",
   "display_name": "Python 3.7.3 64-bit"
  }
 },
 "nbformat": 4,
 "nbformat_minor": 2,
 "cells": [
  {
   "source": [
    "Lilah has a string,s, of lowercase English letters that she repeated infinitely many times.\n",
    "\n",
    "Given an integer,n, find and print the number of letter a's in the first n letters of Lilah's infinite string.\n",
    "\n",
    "For example, if the string and , the substring we consider is , the first characters of her infinite string. There are\n",
    "\n",
    "occurrences of a in the substring.\n",
    "\n",
    "Function Description\n",
    "\n",
    "Complete the repeatedString function in the editor below. It should return an integer representing the number of occurrences of a in the prefix of length\n",
    "\n",
    "in the infinitely repeating string.\n",
    "\n",
    "repeatedString has the following parameter(s):\n",
    "\n",
    "    s: a string to repeat\n",
    "    n: the number of characters to consider\n",
    "\n",
    "Input Format\n",
    "\n",
    "The first line contains a single string,\n",
    ".\n",
    "The second line contains an integer,\n",
    "\n",
    ".\n",
    "\n",
    "Constraints\n",
    "\n",
    "For of the test cases,\n",
    "\n",
    "    .\n",
    "\n",
    "Output Format\n",
    "\n",
    "Print a single integer denoting the number of letter a's in the first\n",
    "letters of the infinite string created by repeating\n",
    "\n",
    "infinitely many times.\n",
    "\n",
    "Sample Input 0\n",
    "\n",
    "aba\n",
    "10\n",
    "\n",
    "Sample Output 0\n",
    "\n",
    "7\n",
    "\n",
    "Explanation 0\n",
    "The first\n",
    "letters of the infinite string are abaabaabaa. Because there are a's, we print\n",
    "\n",
    "on a new line.\n",
    "\n",
    "Sample Input 1\n",
    "\n",
    "a\n",
    "1000000000000\n",
    "\n",
    "Sample Output 1\n",
    "\n",
    "1000000000000\n",
    "\n",
    "Explanation 1\n",
    "Because all of the first\n",
    "letters of the infinite string are a, we print on a new line."
   ],
   "cell_type": "markdown",
   "metadata": {}
  },
  {
   "cell_type": "code",
   "execution_count": 20,
   "metadata": {},
   "outputs": [
    {
     "output_type": "stream",
     "name": "stdout",
     "text": [
      "10000000000\n"
     ]
    }
   ],
   "source": [
    "#!/bin/python3\n",
    "\n",
    "import math\n",
    "import os\n",
    "import random\n",
    "import re\n",
    "import sys\n",
    "\n",
    "# Complete the repeatedString function below.\n",
    "def repeatedString(s, n):\n",
    "    if s == \"a\":\n",
    "        return n\n",
    "    s_len = len(s)\n",
    "    k = n // s_len\n",
    "    p = n % s_len\n",
    "    # print(f'\"k: {k}, p: {p}\"')\n",
    "    n = s*k + s[:p]\n",
    "    w = n.count(s[0])\n",
    "    print(f'\"w: {w}\"')\n",
    "    # print(f'\"n: {n}\"')\n",
    "if __name__ == '__main__':\n",
    "    s = input()\n",
    "\n",
    "    n = int(input())\n",
    "\n",
    "    result = repeatedString(s, n)\n",
    "    print(result)"
   ]
  },
  {
   "cell_type": "code",
   "execution_count": 5,
   "metadata": {},
   "outputs": [
    {
     "output_type": "stream",
     "name": "stdout",
     "text": [
      "10000000\n"
     ]
    }
   ],
   "source": [
    "# reference : https://wiki.python.org/moin/TimeComplexity\n",
    "# wtc : O(n) - count function \n",
    "# wsc : O(1)\n",
    "#!/bin/python3\n",
    "\n",
    "import math\n",
    "import os\n",
    "import random\n",
    "import re\n",
    "import sys\n",
    "\n",
    "# Complete the repeatedString function below.\n",
    "def repeatedString(s, n):\n",
    "    s_len = len(s)\n",
    "    quotient = n // s_len\n",
    "    remainder = n % s_len\n",
    "    result = s.count('a') * quotient + s[:remainder].count('a')\n",
    "    return result\n",
    "if __name__ == '__main__':\n",
    "    s = input()\n",
    "\n",
    "    n = int(input())\n",
    "\n",
    "    result = repeatedString(s, n)\n",
    "    print(result)"
   ]
  },
  {
   "cell_type": "code",
   "execution_count": null,
   "metadata": {},
   "outputs": [],
   "source": []
  }
 ]
}