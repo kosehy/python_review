{
 "metadata": {
  "language_info": {
   "codemirror_mode": {
    "name": "ipython",
    "version": 3
   },
   "file_extension": ".py",
   "mimetype": "text/x-python",
   "name": "python",
   "nbconvert_exporter": "python",
   "pygments_lexer": "ipython3",
   "version": "3.7.3-final"
  },
  "orig_nbformat": 2,
  "kernelspec": {
   "name": "python37364bit2b81c6a3b88c4e4ca31e8fd7ef8b8c7c",
   "display_name": "Python 3.7.3 64-bit"
  }
 },
 "nbformat": 4,
 "nbformat_minor": 2,
 "cells": [
  {
   "source": [
    "# wtc : O(3^2*4^2)\n",
    "# wsc : O(4^2)\n",
    "\n",
    "#!/bin/python3\n",
    "\n",
    "import math\n",
    "import os\n",
    "import random\n",
    "import re\n",
    "import sys\n",
    "\n",
    "# Complete the hourglassSum function below.\n",
    "def hourglassSum(arr):\n",
    "    lst = []\n",
    "    for m in range(4):\n",
    "        for k in range(4):\n",
    "            sum = 0\n",
    "            for i in range(3):\n",
    "                for j in range(3):\n",
    "                    if i == 1:\n",
    "                        if j == 1:\n",
    "                            sum += arr[1 + m][j + k]\n",
    "                        continue\n",
    "                    else:\n",
    "                        sum += arr[i + m][j + k]\n",
    "            lst.append(sum)\n",
    "    return lst\n",
    "if __name__ == '__main__':\n",
    "    arr = []\n",
    "    arr.append([1, 1, 1, 0, 0, 0])\n",
    "    arr.append([0, 1, 0, 0, 0, 0])\n",
    "    arr.append([1, 1, 1, 0, 0, 0])\n",
    "    arr.append([0, 0, 2, 4, 4, 0])\n",
    "    arr.append([0, 0, 0, 2, 0, 0])\n",
    "    arr.append([0, 0, 1, 2, 4, 0])\n",
    "\n",
    "    result = hourglassSum(arr)\n",
    "    print(result)"
   ],
   "cell_type": "code",
   "metadata": {},
   "execution_count": 6,
   "outputs": [
    {
     "output_type": "stream",
     "name": "stdout",
     "text": [
      "[7, 4, 2, 0, 4, 8, 10, 8, 3, 6, 7, 6, 3, 9, 19, 14]\n"
     ]
    }
   ]
  },
  {
   "cell_type": "code",
   "execution_count": 12,
   "metadata": {},
   "outputs": [
    {
     "output_type": "stream",
     "name": "stdout",
     "text": [
      "[7, 4, 2, 0, 4, 8, 10, 8, 3, 6, 7, 6, 3, 9, 19, 14]\n"
     ]
    }
   ],
   "source": [
    "# wtc : O(4^2)\n",
    "# wsc : O(4^2)\n",
    "\n",
    "#!/bin/python3\n",
    "\n",
    "import math\n",
    "import os\n",
    "import random\n",
    "import re\n",
    "import sys\n",
    "\n",
    "# Complete the hourglassSum function below.\n",
    "def hourglassSum(arr):\n",
    "    lst = []\n",
    "    for m in range(4):\n",
    "        for k in range(4):\n",
    "            sum = 0\n",
    "            sum += arr[0 + m][0 + k] + arr[0 + m][1 + k] + arr[0 + m][2+ k]\n",
    "            sum += arr[1 + m][1 + k]\n",
    "            sum += arr[2 + m][0 + k] + arr[2 + m][1 + k] + arr[2 + m][2+ k]\n",
    "            lst.append(sum)\n",
    "    return max(lst)\n",
    "if __name__ == '__main__':\n",
    "    arr = []\n",
    "    arr.append([1, 1, 1, 0, 0, 0])\n",
    "    arr.append([0, 1, 0, 0, 0, 0])\n",
    "    arr.append([1, 1, 1, 0, 0, 0])\n",
    "    arr.append([0, 0, 2, 4, 4, 0])\n",
    "    arr.append([0, 0, 0, 2, 0, 0])\n",
    "    arr.append([0, 0, 1, 2, 4, 0])\n",
    "\n",
    "    result = hourglassSum(arr)\n",
    "    print(result)"
   ]
  },
  {
   "cell_type": "code",
   "execution_count": null,
   "metadata": {},
   "outputs": [],
   "source": []
  }
 ]
}