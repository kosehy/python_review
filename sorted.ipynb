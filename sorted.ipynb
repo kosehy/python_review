{
 "metadata": {
  "language_info": {
   "codemirror_mode": {
    "name": "ipython",
    "version": 3
   },
   "file_extension": ".py",
   "mimetype": "text/x-python",
   "name": "python",
   "nbconvert_exporter": "python",
   "pygments_lexer": "ipython3",
   "version": 3
  },
  "orig_nbformat": 2,
  "kernelspec": {
   "name": "python_defaultSpec_1597323215585",
   "display_name": "Python 3.8.5 64-bit"
  }
 },
 "nbformat": 4,
 "nbformat_minor": 2,
 "cells": [
  {
   "cell_type": "code",
   "execution_count": 4,
   "metadata": {
    "tags": []
   },
   "outputs": [
    {
     "output_type": "stream",
     "name": "stdout",
     "text": "sorted_str: ['am', 'i', 'man', 'the']\nstr_join: am i man the\n"
    }
   ],
   "source": [
    "str_value = 'i am the man'\n",
    "sorted_str = sorted(str_value.split())\n",
    "print(f'sorted_str: {sorted_str}')\n",
    "str_join = ' '.join(sorted_str)\n",
    "print(f'str_join: {str_join}')"
   ]
  },
  {
   "cell_type": "code",
   "execution_count": 5,
   "metadata": {},
   "outputs": [
    {
     "output_type": "error",
     "ename": "TypeError",
     "evalue": "'<' not supported between instances of 'int' and 'str'",
     "traceback": [
      "\u001b[0;31m---------------------------------------------------------------------------\u001b[0m",
      "\u001b[0;31mTypeError\u001b[0m                                 Traceback (most recent call last)",
      "\u001b[0;32m<ipython-input-5-7254b9c35937>\u001b[0m in \u001b[0;36m<module>\u001b[0;34m\u001b[0m\n\u001b[1;32m      1\u001b[0m \u001b[0;31m# list with non-comparable data types can't be sorted()\u001b[0m\u001b[0;34m\u001b[0m\u001b[0;34m\u001b[0m\u001b[0;34m\u001b[0m\u001b[0m\n\u001b[1;32m      2\u001b[0m \u001b[0mmixed_variables\u001b[0m \u001b[0;34m=\u001b[0m \u001b[0;34m[\u001b[0m\u001b[0;34m'a'\u001b[0m\u001b[0;34m,\u001b[0m \u001b[0;36m0\u001b[0m\u001b[0;34m]\u001b[0m\u001b[0;34m\u001b[0m\u001b[0;34m\u001b[0m\u001b[0m\n\u001b[0;32m----> 3\u001b[0;31m \u001b[0mprint\u001b[0m\u001b[0;34m(\u001b[0m\u001b[0msorted\u001b[0m\u001b[0;34m(\u001b[0m\u001b[0mmixed_variables\u001b[0m\u001b[0;34m)\u001b[0m\u001b[0;34m)\u001b[0m\u001b[0;34m\u001b[0m\u001b[0;34m\u001b[0m\u001b[0m\n\u001b[0m",
      "\u001b[0;31mTypeError\u001b[0m: '<' not supported between instances of 'int' and 'str'"
     ]
    }
   ],
   "source": [
    "# list with non-comparable data types can't be sorted()\n",
    "mixed_variables = ['a', 0]\n",
    "print(sorted(mixed_variables))"
   ]
  },
  {
   "cell_type": "code",
   "execution_count": 8,
   "metadata": {
    "tags": []
   },
   "outputs": [
    {
     "output_type": "stream",
     "name": "stdout",
     "text": "['Kane', 'Lamela', 'Tom', 'son']\n"
    }
   ],
   "source": [
    "names = ['Lamela', 'son', 'Kane', 'Tom']\n",
    "print(sorted(names))"
   ]
  },
  {
   "cell_type": "code",
   "execution_count": 13,
   "metadata": {
    "tags": []
   },
   "outputs": [
    {
     "output_type": "stream",
     "name": "stdout",
     "text": "['kane', 'lamela', 'son', 'tom']\n[(75, 'K'), (76, 'L'), (84, 'T'), (115, 's')]\n[(107, 'k'), (108, 'l'), (115, 's'), (116, 't')]\n"
    }
   ],
   "source": [
    "print(sorted([x.lower() for x in names]))\n",
    "print([(ord(name[0]), name[0]) for name in sorted(names)])\n",
    "print([(ord(name[0]), name[0]) for name in sorted([x.lower() for x in names])])"
   ]
  },
  {
   "cell_type": "markdown",
   "metadata": {},
   "source": [
    "If the first letter is same, then sorted() will check the second character to determine order, and so on, all the way to the end of the string"
   ]
  },
  {
   "cell_type": "code",
   "execution_count": 15,
   "metadata": {
    "tags": []
   },
   "outputs": [
    {
     "output_type": "stream",
     "name": "stdout",
     "text": "sorted(similar_strs: ['abcde', 'aaaac', 'aaaab', 'aaaaa']\n"
    }
   ],
   "source": [
    "similar_strs = ['aaaaa', 'aaaab', 'aaaac', 'abcde']\n",
    "print(f'sorted(similar_strs: {sorted(similar_strs, reverse=True)}')"
   ]
  },
  {
   "cell_type": "code",
   "execution_count": 16,
   "metadata": {
    "tags": []
   },
   "outputs": [
    {
     "output_type": "stream",
     "name": "stdout",
     "text": "['kiwi', 'banana', 'tomato', 'pineapple']\n"
    }
   ],
   "source": [
    "# sorted() with a key argument\n",
    "# sort based on lengh of element\n",
    "words = ['pineapple', 'banana', 'tomato', 'kiwi']\n",
    "print(sorted(words, key=len))"
   ]
  },
  {
   "cell_type": "code",
   "execution_count": 17,
   "metadata": {
    "tags": []
   },
   "outputs": [
    {
     "output_type": "stream",
     "name": "stdout",
     "text": "names: ['Kane', 'Lamela', 'son', 'Tom']\n"
    }
   ],
   "source": [
    "# sort based on first lower letter\n",
    "print(f'names: {sorted(names, key=str.lower)}')"
   ]
  },
  {
   "cell_type": "code",
   "execution_count": 18,
   "metadata": {},
   "outputs": [
    {
     "output_type": "error",
     "ename": "ValueError",
     "evalue": "invalid literal for int() with base 10: 'zero'",
     "traceback": [
      "\u001b[0;31m---------------------------------------------------------------------------\u001b[0m",
      "\u001b[0;31mValueError\u001b[0m                                Traceback (most recent call last)",
      "\u001b[0;32m<ipython-input-18-93f5ef651bc6>\u001b[0m in \u001b[0;36m<module>\u001b[0;34m\u001b[0m\n\u001b[1;32m      1\u001b[0m \u001b[0;31m# the function used with key must be able to handle all the values in the iterable\u001b[0m\u001b[0;34m\u001b[0m\u001b[0;34m\u001b[0m\u001b[0;34m\u001b[0m\u001b[0m\n\u001b[1;32m      2\u001b[0m \u001b[0mtmp\u001b[0m \u001b[0;34m=\u001b[0m \u001b[0;34m[\u001b[0m\u001b[0;34m'1'\u001b[0m\u001b[0;34m,\u001b[0m \u001b[0;34m'2'\u001b[0m\u001b[0;34m,\u001b[0m \u001b[0;34m'3'\u001b[0m\u001b[0;34m,\u001b[0m \u001b[0;34m'zero'\u001b[0m\u001b[0;34m]\u001b[0m\u001b[0;34m\u001b[0m\u001b[0;34m\u001b[0m\u001b[0m\n\u001b[0;32m----> 3\u001b[0;31m \u001b[0mprint\u001b[0m\u001b[0;34m(\u001b[0m\u001b[0msorted\u001b[0m\u001b[0;34m(\u001b[0m\u001b[0mtmp\u001b[0m\u001b[0;34m,\u001b[0m \u001b[0mkey\u001b[0m\u001b[0;34m=\u001b[0m\u001b[0mint\u001b[0m\u001b[0;34m)\u001b[0m\u001b[0;34m)\u001b[0m\u001b[0;34m\u001b[0m\u001b[0;34m\u001b[0m\u001b[0m\n\u001b[0m",
      "\u001b[0;31mValueError\u001b[0m: invalid literal for int() with base 10: 'zero'"
     ]
    }
   ],
   "source": [
    "# the function used with key must be able to handle all the values in the iterable\n",
    "tmp = ['1', '2', '3', 'zero']\n",
    "print(sorted(tmp, key=int))"
   ]
  },
  {
   "cell_type": "code",
   "execution_count": 23,
   "metadata": {
    "tags": []
   },
   "outputs": [
    {
     "output_type": "stream",
     "name": "stdout",
     "text": "['banana', 'apple', 'graph', 'strawberry']\n['strawberry', 'graph', 'apple', 'banana']\n['banana', 'apple', 'graph', 'strawberry']\n['strawberry', 'graph', 'apple', 'banana']\n"
    }
   ],
   "source": [
    "def reverse_word(word):\n",
    "    return word[::-1]\n",
    "\n",
    "words = ['banana', 'apple', 'graph', 'strawberry']\n",
    "print(sorted(words, key=reverse_word))\n",
    "print(sorted(words, key=reverse_word, reverse=True))\n",
    "print(sorted(words, key=lambda x: x[::-1]))\n",
    "print(sorted(words, key=lambda x: x[::-1], reverse=True))"
   ]
  },
  {
   "cell_type": "code",
   "execution_count": 31,
   "metadata": {
    "tags": []
   },
   "outputs": [
    {
     "output_type": "stream",
     "name": "stdout",
     "text": "[StudentFinal(name='son', grade=98), StudentFinal(name='ko', grade=95), StudentFinal(name='kane', grade=87), StudentFinal(name='henry', grade=80)]\n[StudentFinal(name='son', grade=98), StudentFinal(name='ko', grade=95), StudentFinal(name='kane', grade=87), StudentFinal(name='henry', grade=80)]\n"
    }
   ],
   "source": [
    "from collections import namedtuple\n",
    "\n",
    "StudentFinal = namedtuple('StudentFinal', 'name grade')\n",
    "ko = StudentFinal('ko', 95)\n",
    "henry = StudentFinal('henry', 80)\n",
    "son = StudentFinal('son', 98)\n",
    "kane = StudentFinal('kane', 87)\n",
    "students = [ko, henry, son, kane]\n",
    "print(sorted(students, key=lambda x: getattr(x, 'grade'), reverse=True))\n",
    "print(sorted(students, key=lambda x: x.grade, reverse=True))"
   ]
  },
  {
   "cell_type": "code",
   "execution_count": 40,
   "metadata": {
    "tags": []
   },
   "outputs": [
    {
     "output_type": "stream",
     "name": "stdout",
     "text": "['bcd', 'eae', 'edc']\n['bcd', 'edc', 'eae']\n['bcd', 'edc', 'eae']\n"
    }
   ],
   "source": [
    "a = ['eae', 'edc', 'bcd']\n",
    "def check_first_and_last(str):\n",
    "    return str[0], str[-1]\n",
    "\n",
    "print(sorted(a))\n",
    "print(sorted(a, key=check_first_and_last))\n",
    "print(sorted(a, key=lambda x: (x[0], x[-1])))"
   ]
  },
  {
   "cell_type": "code",
   "execution_count": null,
   "metadata": {},
   "outputs": [],
   "source": []
  }
 ]
}