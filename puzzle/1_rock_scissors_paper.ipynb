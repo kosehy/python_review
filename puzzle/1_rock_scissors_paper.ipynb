{
 "metadata": {
  "language_info": {
   "codemirror_mode": {
    "name": "ipython",
    "version": 3
   },
   "file_extension": ".py",
   "mimetype": "text/x-python",
   "name": "python",
   "nbconvert_exporter": "python",
   "pygments_lexer": "ipython3",
   "version": 3
  },
  "orig_nbformat": 2,
  "kernelspec": {
   "name": "python_defaultSpec_1595479683391",
   "display_name": "Python 3.6.9 64-bit"
  }
 },
 "nbformat": 4,
 "nbformat_minor": 2,
 "cells": [
  {
   "cell_type": "code",
   "execution_count": 3,
   "metadata": {
    "tags": []
   },
   "outputs": [
    {
     "output_type": "stream",
     "name": "stdout",
     "text": "5100\n"
    }
   ],
   "source": [
    "N = 100\n",
    "\n",
    "cnt = 0\n",
    "for rock in range(0, N + 1):\n",
    "    for scissors in range(0, N - rock + 1):\n",
    "        paper = N - rock - scissors\n",
    "        all = [rock, scissors, paper]\n",
    "        if all.count(max(all)) == 1:\n",
    "            cnt += 1\n",
    "print(cnt)"
   ]
  },
  {
   "cell_type": "code",
   "execution_count": 4,
   "metadata": {
    "tags": []
   },
   "outputs": [
    {
     "output_type": "stream",
     "name": "stdout",
     "text": "5100\n"
    }
   ],
   "source": [
    "N = 100\n",
    "\n",
    "cnt = 0\n",
    "\n",
    "for l in range(0, N + 1):\n",
    "    for r in range(l, N + 1):\n",
    "        all = [l, r - 1, N - r]\n",
    "        if all.count(max(all)) == 1:\n",
    "            cnt += 1\n",
    "\n",
    "print(cnt)"
   ]
  },
  {
   "cell_type": "code",
   "execution_count": null,
   "metadata": {},
   "outputs": [],
   "source": []
  }
 ]
}