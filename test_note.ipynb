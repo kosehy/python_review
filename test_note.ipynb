{
 "metadata": {
  "language_info": {
   "codemirror_mode": {
    "name": "ipython",
    "version": 3
   },
   "file_extension": ".py",
   "mimetype": "text/x-python",
   "name": "python",
   "nbconvert_exporter": "python",
   "pygments_lexer": "ipython3",
   "version": 3
  },
  "orig_nbformat": 2,
  "kernelspec": {
   "name": "python_defaultSpec_1597305021065",
   "display_name": "Python 3.6.9 64-bit"
  }
 },
 "nbformat": 4,
 "nbformat_minor": 2,
 "cells": [
  {
   "cell_type": "code",
   "execution_count": 5,
   "metadata": {
    "tags": []
   },
   "outputs": [
    {
     "output_type": "stream",
     "name": "stdout",
     "text": "139673449545096\n139673449545096\n139673448498824\n139673448498824\n"
    }
   ],
   "source": [
    "# Immutable str\n",
    "a = 'abc'\n",
    "print(id('abc'))\n",
    "print(id(a))\n",
    "a = 'def'\n",
    "print(id('def'))\n",
    "print(id(a))"
   ]
  },
  {
   "cell_type": "code",
   "execution_count": 6,
   "metadata": {
    "tags": []
   },
   "outputs": [
    {
     "output_type": "stream",
     "name": "stdout",
     "text": "10914784 10914784 10914784\n"
    }
   ],
   "source": [
    "# Immutable int\n",
    "10\n",
    "a = 10\n",
    "b = 10\n",
    "print(id(10), id(a), id(b))"
   ]
  },
  {
   "cell_type": "code",
   "execution_count": 8,
   "metadata": {
    "tags": []
   },
   "outputs": [
    {
     "output_type": "stream",
     "name": "stdout",
     "text": "10914816 10914816 10914816\n"
    }
   ],
   "source": [
    "# Immutable int\n",
    "11\n",
    "a = 11\n",
    "b = 11\n",
    "print(id(11), id(a), id(b))"
   ]
  },
  {
   "cell_type": "code",
   "execution_count": 9,
   "metadata": {
    "tags": []
   },
   "outputs": [
    {
     "output_type": "stream",
     "name": "stdout",
     "text": "10914496 10914496\n1 10914496 10914688\n"
    }
   ],
   "source": [
    "a = 1\n",
    "b = a\n",
    "print(id(a), id(b))\n",
    "b = 7\n",
    "print(a, id(a), id(b))"
   ]
  },
  {
   "cell_type": "code",
   "execution_count": 12,
   "metadata": {
    "tags": []
   },
   "outputs": [
    {
     "output_type": "stream",
     "name": "stdout",
     "text": "True\nTrue\nTrue\nFalse\n"
    }
   ],
   "source": [
    "# is : check object's id value\n",
    "# == : check both object's values\n",
    "a = [1, 1, 1]\n",
    "print(a == a)\n",
    "print(a == list(a))\n",
    "print(a is a)\n",
    "print(a is list(a))"
   ]
  },
  {
   "cell_type": "code",
   "execution_count": 14,
   "metadata": {
    "tags": []
   },
   "outputs": [
    {
     "output_type": "stream",
     "name": "stdout",
     "text": "True\nFalse\n"
    }
   ],
   "source": [
    "import copy\n",
    "\n",
    "a = [1, 2, 3]\n",
    "print(a == copy.deepcopy(a))\n",
    "print(a is copy.deepcopy(a))"
   ]
  },
  {
   "cell_type": "code",
   "execution_count": 1,
   "metadata": {
    "tags": []
   },
   "outputs": [
    {
     "output_type": "stream",
     "name": "stdout",
     "text": "set()\n<class 'set'>\n"
    }
   ],
   "source": [
    "a = set()\n",
    "print(a)\n",
    "print(type(a))"
   ]
  },
  {
   "cell_type": "code",
   "execution_count": 2,
   "metadata": {
    "tags": []
   },
   "outputs": [
    {
     "output_type": "stream",
     "name": "stdout",
     "text": "<class 'set'>\n<class 'dict'>\n"
    }
   ],
   "source": [
    "a = {'1', '2', '4'}\n",
    "print(type(a))\n",
    "a = {'1':'a', '2':'b', '3':'c'}\n",
    "print(type(a))"
   ]
  },
  {
   "cell_type": "code",
   "execution_count": 3,
   "metadata": {
    "tags": []
   },
   "outputs": [
    {
     "output_type": "stream",
     "name": "stdout",
     "text": "{1, 2, 3, 4}\n{1, 2, 3, 4}\n"
    }
   ],
   "source": [
    "a = {2, 4, 3, 2, 1}\n",
    "print(a)\n",
    "print(a)"
   ]
  },
  {
   "cell_type": "code",
   "execution_count": 4,
   "metadata": {
    "tags": []
   },
   "outputs": [
    {
     "output_type": "stream",
     "name": "stdout",
     "text": "new value\nold value\nabc\n"
    }
   ],
   "source": [
    "def foo(a):\n",
    "    a = \"new value\"\n",
    "    print(a)\n",
    "\n",
    "abba = \"old value\"\n",
    "foo(abba)\n",
    "print(abba)\n",
    "abba = \"abc\"\n",
    "print(abba)"
   ]
  },
  {
   "cell_type": "code",
   "execution_count": null,
   "metadata": {},
   "outputs": [],
   "source": [
    "first_names = ['Fred', 'George', 'Bill']\n",
    "last_names = ['Smith', 'Jones', 'Williams']\n",
    "name_tuple = (first_names, last_names)\n",
    "print(name_tuple)\n",
    "\n",
    "first_names.append('Igor')\n",
    "print(name_tuple)"
   ]
  },
  {
   "cell_type": "code",
   "execution_count": 6,
   "metadata": {
    "tags": []
   },
   "outputs": [
    {
     "output_type": "stream",
     "name": "stdout",
     "text": "123 * 42 = 5166\n^^^   ++\n\nKey: ^ points to your number, + points to constant\n"
    }
   ],
   "source": [
    "# blocks and scope\n",
    "GLOBAL_CONSTANT = 42\n",
    "\n",
    "def print_some_weird_calculation(value):\n",
    "    number_of_digits = len(str(value))\n",
    "\n",
    "    def print_formatted_calculation(result):\n",
    "        # value = 3\n",
    "        print('{value} * {constant} = {result}'.format(value=value, constant=GLOBAL_CONSTANT, result=result))\n",
    "        print('{}   {}'.format('^' * number_of_digits, '++'))\n",
    "        print('\\nKey: ^ points to your number, + points to constant')\n",
    "    print_formatted_calculation(value * GLOBAL_CONSTANT)\n",
    "\n",
    "print_some_weird_calculation(123)"
   ]
  },
  {
   "cell_type": "code",
   "execution_count": 7,
   "metadata": {
    "tags": []
   },
   "outputs": [
    {
     "output_type": "stream",
     "name": "stdout",
     "text": "42\n0x0\n0xdeadbeef\n31337\n"
    }
   ],
   "source": [
    "GLOBAL_CONSTANT = 42\n",
    "print(GLOBAL_CONSTANT)\n",
    "def outer_scope_function():\n",
    "    some_value = hex(0x0)\n",
    "    print(some_value)\n",
    "\n",
    "    def inner_scope_function():\n",
    "        nonlocal some_value\n",
    "        some_value = hex(0xDEADBEEF)\n",
    "\n",
    "    inner_scope_function()\n",
    "    print(some_value)\n",
    "    global GLOBAL_CONSTANT\n",
    "    GLOBAL_CONSTANT = 31337\n",
    "outer_scope_function()\n",
    "print(GLOBAL_CONSTANT)"
   ]
  },
  {
   "cell_type": "code",
   "execution_count": 8,
   "metadata": {
    "tags": []
   },
   "outputs": [
    {
     "output_type": "stream",
     "name": "stdout",
     "text": "{}\n{}\n<class 'dict'>\n<class 'dict'>\n"
    }
   ],
   "source": [
    "# dictionary\n",
    "a = dict()\n",
    "b = {}\n",
    "print(a)\n",
    "print(b)\n",
    "print(type(a))\n",
    "print(type(b))"
   ]
  },
  {
   "cell_type": "code",
   "execution_count": 9,
   "metadata": {
    "tags": []
   },
   "outputs": [
    {
     "output_type": "stream",
     "name": "stdout",
     "text": "{'key1': 'value1', 'key2': 'value2'}\n"
    }
   ],
   "source": [
    "tmp = {'key1':'value1', 'key2':'value2'}\n",
    "print(tmp)"
   ]
  },
  {
   "cell_type": "code",
   "execution_count": 11,
   "metadata": {
    "tags": []
   },
   "outputs": [
    {
     "output_type": "stream",
     "name": "stdout",
     "text": "{'key1': 'value1', 'key2': 'value2', 'key3': 'value3'}\n"
    }
   ],
   "source": [
    "tmp['key3'] = 'value3'\n",
    "print(tmp)"
   ]
  },
  {
   "cell_type": "code",
   "execution_count": 13,
   "metadata": {
    "tags": []
   },
   "outputs": [
    {
     "output_type": "stream",
     "name": "stdout",
     "text": "value2\n"
    }
   ],
   "source": [
    "print(tmp['key2'])"
   ]
  },
  {
   "cell_type": "code",
   "execution_count": 14,
   "metadata": {
    "tags": []
   },
   "outputs": [
    {
     "output_type": "stream",
     "name": "stdout",
     "text": "key doesn't existing\n"
    }
   ],
   "source": [
    "try:\n",
    "    print(tmp['key4'])\n",
    "except KeyError:\n",
    "    print(\"key doesn't existing\")"
   ]
  },
  {
   "cell_type": "code",
   "execution_count": 15,
   "metadata": {},
   "outputs": [
    {
     "output_type": "execute_result",
     "data": {
      "text/plain": "False"
     },
     "metadata": {},
     "execution_count": 15
    }
   ],
   "source": [
    "'key4' in tmp"
   ]
  },
  {
   "cell_type": "code",
   "execution_count": 16,
   "metadata": {
    "tags": []
   },
   "outputs": [
    {
     "output_type": "stream",
     "name": "stdout",
     "text": "Key doesn't existing\n"
    }
   ],
   "source": [
    "if 'key4' in tmp:\n",
    "    print(\"Key is existing\")\n",
    "else:\n",
    "    print(\"Key doesn't existing\")"
   ]
  },
  {
   "cell_type": "code",
   "execution_count": 17,
   "metadata": {
    "tags": []
   },
   "outputs": [
    {
     "output_type": "stream",
     "name": "stdout",
     "text": "key1 value1\nkey2 value2\nkey3 value3\n"
    }
   ],
   "source": [
    "for k,v in tmp.items():\n",
    "    print(k,v)"
   ]
  },
  {
   "cell_type": "code",
   "execution_count": 18,
   "metadata": {
    "tags": []
   },
   "outputs": [
    {
     "output_type": "stream",
     "name": "stdout",
     "text": "{'key1': 'value1', 'key3': 'value3'}\n"
    }
   ],
   "source": [
    "del tmp['key2']\n",
    "print(tmp)"
   ]
  },
  {
   "cell_type": "code",
   "execution_count": 21,
   "metadata": {
    "tags": []
   },
   "outputs": [
    {
     "output_type": "stream",
     "name": "stdout",
     "text": "defaultdict(<class 'int'>, {'D': 5, 'E': 2})\ndefaultdict(<class 'int'>, {'D': 5, 'E': 2, 'A': 3})\n"
    }
   ],
   "source": [
    "import collections\n",
    "\n",
    "b = collections.defaultdict(int)\n",
    "b['D'] = 5\n",
    "b['E'] = 2\n",
    "print(b)\n",
    "b['A'] = 3\n",
    "print(b)"
   ]
  },
  {
   "cell_type": "code",
   "execution_count": 22,
   "metadata": {
    "tags": []
   },
   "outputs": [
    {
     "output_type": "stream",
     "name": "stdout",
     "text": "Counter({8: 3, 7: 2, 5: 1, 6: 1, 9: 1, 0: 1})\n"
    }
   ],
   "source": [
    "c = [5, 6, 7, 7, 8, 8, 8, 9, 0]\n",
    "b = collections.Counter(c)\n",
    "print(b)"
   ]
  },
  {
   "cell_type": "code",
   "execution_count": 23,
   "metadata": {
    "tags": []
   },
   "outputs": [
    {
     "output_type": "stream",
     "name": "stdout",
     "text": "<class 'collections.Counter'>\n"
    }
   ],
   "source": [
    "print(type(b))"
   ]
  },
  {
   "cell_type": "code",
   "execution_count": 24,
   "metadata": {
    "tags": []
   },
   "outputs": [
    {
     "output_type": "stream",
     "name": "stdout",
     "text": "[(8, 3), (7, 2)]\n"
    }
   ],
   "source": [
    "print(b.most_common(2))"
   ]
  },
  {
   "cell_type": "code",
   "execution_count": 25,
   "metadata": {
    "tags": []
   },
   "outputs": [
    {
     "output_type": "stream",
     "name": "stdout",
     "text": "OrderedDict([('A', 'banana'), ('B', 'apple'), ('C', 'pine-apple'), ('D', 'coconut')])\n"
    }
   ],
   "source": [
    "d = collections.OrderedDict({'A':'banana', 'B':'apple', 'C':'pine-apple', 'D':'coconut'})\n",
    "print(d)"
   ]
  },
  {
   "cell_type": "code",
   "execution_count": 38,
   "metadata": {
    "tags": []
   },
   "outputs": [
    {
     "output_type": "stream",
     "name": "stdout",
     "text": "ell\nel\nello\nhello\nello\no\ne\nhel\nllo\nhello\nolleh\nhlo\n"
    }
   ],
   "source": [
    "# list slicing\n",
    "a = \"hello\"\n",
    "# print value of index 1 through 3, 4 is not include\n",
    "print(a[1:4])\n",
    "# print value of index 1 through -1, -2 is not include\n",
    "print(a[1:-2])\n",
    "# print values except first index 0\n",
    "print(a[1:])\n",
    "# return the copy version of list\n",
    "print(a[:])\n",
    "# same as a[1:]\n",
    "print(a[1:100])\n",
    "# print the value of index -1\n",
    "print(a[-1])\n",
    "# print the value of index -4\n",
    "print(a[-4])\n",
    "# print the value of index 0 to 2, 3 is not include\n",
    "print(a[:3])\n",
    "# print the value of index -3 through the end(-1)\n",
    "print(a[-3:])\n",
    "# print the default value of list\n",
    "print(a[::1])\n",
    "# print the reversed version of list\n",
    "print(a[::-1])\n",
    "# print the value of index +2 through the end\n",
    "print(a[::2])"
   ]
  },
  {
   "cell_type": "code",
   "execution_count": 2,
   "metadata": {
    "tags": []
   },
   "outputs": [
    {
     "output_type": "stream",
     "name": "stdout",
     "text": "[1, 2, 3, 4, 6]\n"
    }
   ],
   "source": [
    "# sorted() and sort()\n",
    "a = [1, 4, 6, 2, 3]\n",
    "print(sorted(a))"
   ]
  },
  {
   "cell_type": "code",
   "execution_count": 3,
   "metadata": {
    "tags": []
   },
   "outputs": [
    {
     "output_type": "stream",
     "name": "stdout",
     "text": "['a', 'b', 'c', 'c', 'd', 'd', 'd', 'e', 'q']\n"
    }
   ],
   "source": [
    "b = 'dbecdqadc'\n",
    "print(sorted(b))"
   ]
  },
  {
   "cell_type": "code",
   "execution_count": 4,
   "metadata": {
    "tags": []
   },
   "outputs": [
    {
     "output_type": "stream",
     "name": "stdout",
     "text": "abccdddeq\n"
    }
   ],
   "source": [
    "b = ''.join(sorted(b))\n",
    "print(b)"
   ]
  },
  {
   "cell_type": "code",
   "execution_count": null,
   "metadata": {},
   "outputs": [],
   "source": []
  }
 ]
}