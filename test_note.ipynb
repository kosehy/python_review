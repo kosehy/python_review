{
 "metadata": {
  "language_info": {
   "codemirror_mode": {
    "name": "ipython",
    "version": 3
   },
   "file_extension": ".py",
   "mimetype": "text/x-python",
   "name": "python",
   "nbconvert_exporter": "python",
   "pygments_lexer": "ipython3",
   "version": 3
  },
  "orig_nbformat": 2,
  "kernelspec": {
   "name": "python_defaultSpec_1597057510289",
   "display_name": "Python 3.6.9 64-bit"
  }
 },
 "nbformat": 4,
 "nbformat_minor": 2,
 "cells": [
  {
   "cell_type": "code",
   "execution_count": 5,
   "metadata": {
    "tags": []
   },
   "outputs": [
    {
     "output_type": "stream",
     "name": "stdout",
     "text": "139673449545096\n139673449545096\n139673448498824\n139673448498824\n"
    }
   ],
   "source": [
    "# Immutable str\n",
    "a = 'abc'\n",
    "print(id('abc'))\n",
    "print(id(a))\n",
    "a = 'def'\n",
    "print(id('def'))\n",
    "print(id(a))"
   ]
  },
  {
   "cell_type": "code",
   "execution_count": 6,
   "metadata": {
    "tags": []
   },
   "outputs": [
    {
     "output_type": "stream",
     "name": "stdout",
     "text": "10914784 10914784 10914784\n"
    }
   ],
   "source": [
    "# Immutable int\n",
    "10\n",
    "a = 10\n",
    "b = 10\n",
    "print(id(10), id(a), id(b))"
   ]
  },
  {
   "cell_type": "code",
   "execution_count": 8,
   "metadata": {
    "tags": []
   },
   "outputs": [
    {
     "output_type": "stream",
     "name": "stdout",
     "text": "10914816 10914816 10914816\n"
    }
   ],
   "source": [
    "# Immutable int\n",
    "11\n",
    "a = 11\n",
    "b = 11\n",
    "print(id(11), id(a), id(b))"
   ]
  },
  {
   "cell_type": "code",
   "execution_count": 9,
   "metadata": {
    "tags": []
   },
   "outputs": [
    {
     "output_type": "stream",
     "name": "stdout",
     "text": "10914496 10914496\n1 10914496 10914688\n"
    }
   ],
   "source": [
    "a = 1\n",
    "b = a\n",
    "print(id(a), id(b))\n",
    "b = 7\n",
    "print(a, id(a), id(b))"
   ]
  },
  {
   "cell_type": "code",
   "execution_count": 12,
   "metadata": {
    "tags": []
   },
   "outputs": [
    {
     "output_type": "stream",
     "name": "stdout",
     "text": "True\nTrue\nTrue\nFalse\n"
    }
   ],
   "source": [
    "# is : check object's id value\n",
    "# == : check both object's values\n",
    "a = [1, 1, 1]\n",
    "print(a == a)\n",
    "print(a == list(a))\n",
    "print(a is a)\n",
    "print(a is list(a))"
   ]
  },
  {
   "cell_type": "code",
   "execution_count": 14,
   "metadata": {
    "tags": []
   },
   "outputs": [
    {
     "output_type": "stream",
     "name": "stdout",
     "text": "True\nFalse\n"
    }
   ],
   "source": [
    "import copy\n",
    "\n",
    "a = [1, 2, 3]\n",
    "print(a == copy.deepcopy(a))\n",
    "print(a is copy.deepcopy(a))"
   ]
  },
  {
   "cell_type": "code",
   "execution_count": 1,
   "metadata": {
    "tags": []
   },
   "outputs": [
    {
     "output_type": "stream",
     "name": "stdout",
     "text": "set()\n<class 'set'>\n"
    }
   ],
   "source": [
    "a = set()\n",
    "print(a)\n",
    "print(type(a))"
   ]
  },
  {
   "cell_type": "code",
   "execution_count": 2,
   "metadata": {
    "tags": []
   },
   "outputs": [
    {
     "output_type": "stream",
     "name": "stdout",
     "text": "<class 'set'>\n<class 'dict'>\n"
    }
   ],
   "source": [
    "a = {'1', '2', '4'}\n",
    "print(type(a))\n",
    "a = {'1':'a', '2':'b', '3':'c'}\n",
    "print(type(a))"
   ]
  },
  {
   "cell_type": "code",
   "execution_count": 3,
   "metadata": {
    "tags": []
   },
   "outputs": [
    {
     "output_type": "stream",
     "name": "stdout",
     "text": "{1, 2, 3, 4}\n{1, 2, 3, 4}\n"
    }
   ],
   "source": [
    "a = {2, 4, 3, 2, 1}\n",
    "print(a)\n",
    "print(a)"
   ]
  },
  {
   "cell_type": "code",
   "execution_count": 4,
   "metadata": {
    "tags": []
   },
   "outputs": [
    {
     "output_type": "stream",
     "name": "stdout",
     "text": "new value\nold value\nabc\n"
    }
   ],
   "source": [
    "def foo(a):\n",
    "    a = \"new value\"\n",
    "    print(a)\n",
    "\n",
    "abba = \"old value\"\n",
    "foo(abba)\n",
    "print(abba)\n",
    "abba = \"abc\"\n",
    "print(abba)"
   ]
  },
  {
   "cell_type": "code",
   "execution_count": null,
   "metadata": {},
   "outputs": [],
   "source": [
    "first_names = ['Fred', 'George', 'Bill']\n",
    "last_names = ['Smith', 'Jones', 'Williams']\n",
    "name_tuple = (first_names, last_names)\n",
    "print(name_tuple)\n",
    "\n",
    "first_names.append('Igor')\n",
    "print(name_tuple)"
   ]
  }
 ]
}