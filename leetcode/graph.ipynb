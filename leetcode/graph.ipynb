{
 "metadata": {
  "language_info": {
   "codemirror_mode": {
    "name": "ipython",
    "version": 3
   },
   "file_extension": ".py",
   "mimetype": "text/x-python",
   "name": "python",
   "nbconvert_exporter": "python",
   "pygments_lexer": "ipython3",
   "version": "3.8.5-final"
  },
  "orig_nbformat": 2,
  "kernelspec": {
   "name": "Python 3.8.5 64-bit",
   "display_name": "Python 3.8.5 64-bit",
   "metadata": {
    "interpreter": {
     "hash": "11fa44a61085d99ea4f6a9abba32e9367e180273639b7882c106310484974003"
    }
   }
  }
 },
 "nbformat": 4,
 "nbformat_minor": 2,
 "cells": [
  {
   "cell_type": "code",
   "execution_count": 5,
   "metadata": {
    "tags": []
   },
   "outputs": [
    {
     "output_type": "stream",
     "name": "stdout",
     "text": "[1, 4, 3, 5, 7, 6, 2]\n"
    }
   ],
   "source": [
    "'''\n",
    "\n",
    "DFS pesudo code\n",
    "\n",
    "DFS-iterative(G, v)\n",
    "    let S be a stack\n",
    "    S.push(v)\n",
    "    while S is not empty do\n",
    "        v = S.pop()\n",
    "        if v is not labeled as discovered then\n",
    "            label v as discovered\n",
    "            for all edges from v to w in G.adjacentEdges(v) do\n",
    "                S.push(w)\n",
    "'''\n",
    "def iterative_dfs(start_v):\n",
    "    discovered = []\n",
    "    stack = [start_v]\n",
    "    while stack:\n",
    "        v = stack.pop()\n",
    "        if v not in discovered:\n",
    "            discovered.append(v)\n",
    "            for w in graph[v]:\n",
    "                stack.append(w)\n",
    "    return discovered\n",
    "\n",
    "graph = {\n",
    "    1: [2, 3, 4],\n",
    "    2: [5],\n",
    "    3: [5],\n",
    "    4: [],\n",
    "    5: [6, 7],\n",
    "    6: [],\n",
    "    7: [3],\n",
    "}\n",
    "\n",
    "print(iterative_dfs(1))"
   ]
  },
  {
   "cell_type": "code",
   "execution_count": 7,
   "metadata": {
    "tags": []
   },
   "outputs": [
    {
     "output_type": "stream",
     "name": "stdout",
     "text": "[1, 2, 5, 6, 7, 3, 4]\n"
    }
   ],
   "source": [
    "'''\n",
    "DFS(G, v)\n",
    "    label v as discovered\n",
    "    for all directed edges from v to w that are in G.adjacentEdges(v) do\n",
    "        if vertex w is not labeled as discovered then\n",
    "            recursively call DFS(G, w)\n",
    "'''\n",
    "def recurssive_dfs(v, discovered=[]):\n",
    "    discovered.append(v)\n",
    "    for w in graph[v]:\n",
    "        if w not in discovered:\n",
    "            discovered = recurssive_dfs(w, discovered)\n",
    "    return discovered\n",
    "\n",
    "print(recurssive_dfs(1))"
   ]
  },
  {
   "cell_type": "code",
   "execution_count": null,
   "metadata": {},
   "outputs": [],
   "source": []
  }
 ]
}