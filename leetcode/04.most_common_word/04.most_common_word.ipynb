{
 "metadata": {
  "language_info": {
   "codemirror_mode": {
    "name": "ipython",
    "version": 3
   },
   "file_extension": ".py",
   "mimetype": "text/x-python",
   "name": "python",
   "nbconvert_exporter": "python",
   "pygments_lexer": "ipython3",
   "version": "3.8.5-final"
  },
  "orig_nbformat": 2,
  "kernelspec": {
   "name": "python_defaultSpec_1599543516497",
   "display_name": "Python 3.8.5 64-bit"
  }
 },
 "nbformat": 4,
 "nbformat_minor": 2,
 "cells": [
  {
   "cell_type": "markdown",
   "metadata": {},
   "source": [
    "Given a paragraph and a list of banned words, return the most frequent word that is not in the list of banned words.  It is guaranteed there is at least one word that isn't banned, and that the answer is unique.\n",
    "\n",
    "Words in the list of banned words are given in lowercase, and free of punctuation.  Words in the paragraph are not case sensitive.  The answer is in lowercase. \n",
    "\n",
    "Example:\n",
    "\n",
    "Input: \n",
    "paragraph = \"Bob hit a ball, the hit BALL flew far after it was hit.\"\n",
    "banned = [\"hit\"]\n",
    "Output: \"ball\"\n",
    "Explanation: \n",
    "\"hit\" occurs 3 times, but it is a banned word.\n",
    "\"ball\" occurs twice (and no other word does), so it is the most frequent non-banned word in the paragraph. \n",
    "Note that words in the paragraph are not case sensitive,\n",
    "that punctuation is ignored (even if adjacent to words, such as \"ball,\"), \n",
    "and that \"hit\" isn't the answer even though it occurs more because it is banned. \n",
    "\n",
    "Note:\n",
    "\n",
    "    1 <= paragraph.length <= 1000.\n",
    "    0 <= banned.length <= 100.\n",
    "    1 <= banned[i].length <= 10.\n",
    "    The answer is unique, and written in lowercase (even if its occurrences in paragraph may have uppercase symbols, and even if it is a proper noun.)\n",
    "    paragraph only consists of letters, spaces, or the punctuation symbols !?',;.\n",
    "    There are no hyphens or hyphenated words.\n",
    "    Words only consist of letters, never apostrophes or other punctuation symbols."
   ]
  },
  {
   "cell_type": "code",
   "execution_count": 6,
   "metadata": {
    "tags": []
   },
   "outputs": [
    {
     "output_type": "stream",
     "name": "stdout",
     "text": "['bob', 'a', 'ball', 'the', 'ball', 'flew', 'far', 'after', 'it', 'was']\n"
    },
    {
     "output_type": "execute_result",
     "data": {
      "text/plain": "'ball'"
     },
     "metadata": {},
     "execution_count": 6
    }
   ],
   "source": [
    "import re\n",
    "from typing import List\n",
    "import collections\n",
    "\n",
    "def mostCommonWord(paragraph: str, banned: List[str]) -> str:\n",
    "    words = [word for word in re.sub(r'[\\W]', ' ', paragraph).lower().split() if word not in banned]\n",
    "    print(words)\n",
    "    # use defaultdict\n",
    "    counts = collections.defaultdict(int)\n",
    "    for word in words:\n",
    "        counts[word] += 1\n",
    "    return max(counts, key=counts.get)\n",
    "\n",
    "paragraph = \"Bob hit a ball, the hit BALL flew far after it was hit.\"\n",
    "banned = [\"hit\"]\n",
    "mostCommonWord(paragraph, banned)"
   ]
  },
  {
   "cell_type": "code",
   "execution_count": 7,
   "metadata": {},
   "outputs": [
    {
     "output_type": "execute_result",
     "data": {
      "text/plain": "'ball'"
     },
     "metadata": {},
     "execution_count": 7
    }
   ],
   "source": [
    "def mostCommonWord(paragraph: str, banned: List[str]) -> str:\n",
    "    words = [word for word in re.sub(r'[\\W]', ' ', paragraph).lower().split() if word not in banned]\n",
    "    # use COunter.most_common(1)\n",
    "    counts = collections.Counter(words)\n",
    "    return counts.most_common(1)[0][0]\n",
    "\n",
    "mostCommonWord(paragraph, banned)"
   ]
  },
  {
   "cell_type": "markdown",
   "metadata": {},
   "source": [
    "![list](./../../img/leetcode/04.most_common_word/[20200908]04.most_common_word_defaultdict.jpeg)"
   ]
  },
  {
   "cell_type": "code",
   "execution_count": 2,
   "metadata": {},
   "outputs": [
    {
     "output_type": "execute_result",
     "data": {
      "text/plain": "'ball'"
     },
     "metadata": {},
     "execution_count": 2
    }
   ],
   "source": [
    "# using defaultdict\n",
    "# wsc : O(M + N)\n",
    "# wtc : O(M + N)\n",
    "\n",
    "'''\n",
    "1. replace punctuations and convert to lowercase\n",
    "2. split into words\n",
    "3. count word frequency\n",
    "4. select the word with max frequency\n",
    "'''\n",
    "\n",
    "import re\n",
    "from typing import List\n",
    "import collections\n",
    "\n",
    "def mostCommonWord(paragraph: str, banned: List[str]) -> str:\n",
    "    words = [word for word in re.sub(r'[\\W]', ' ', paragraph).lower().split() if word not in banned]\n",
    "    counts = collections.defaultdict(int)\n",
    "    for word in words:\n",
    "        counts[word] += 1\n",
    "    return max(counts, key=counts.get)\n",
    "\n",
    "paragraph = \"Bob hit a ball, the hit BALL flew far after it was hit.\"\n",
    "banned = [\"hit\"]\n",
    "mostCommonWord(paragraph, banned)"
   ]
  },
  {
   "cell_type": "markdown",
   "metadata": {},
   "source": [
    "![list](./../../img/leetcode/04.most_common_word/[20200908]04.most_common_word_counter.jpeg)"
   ]
  },
  {
   "cell_type": "code",
   "execution_count": 19,
   "metadata": {},
   "outputs": [
    {
     "output_type": "error",
     "ename": "NameError",
     "evalue": "name 'defaultdict' is not defined",
     "traceback": [
      "\u001b[0;31m---------------------------------------------------------------------------\u001b[0m",
      "\u001b[0;31mNameError\u001b[0m                                 Traceback (most recent call last)",
      "\u001b[0;32m<ipython-input-19-19b60db778e1>\u001b[0m in \u001b[0;36m<module>\u001b[0;34m\u001b[0m\n\u001b[1;32m     37\u001b[0m \u001b[0mparagraph\u001b[0m \u001b[0;34m=\u001b[0m \u001b[0;34m\"Bob hit a ball, the hit BALL flew far after it was hit.\"\u001b[0m\u001b[0;34m\u001b[0m\u001b[0;34m\u001b[0m\u001b[0m\n\u001b[1;32m     38\u001b[0m \u001b[0mbanned\u001b[0m \u001b[0;34m=\u001b[0m \u001b[0;34m[\u001b[0m\u001b[0;34m\"ball\"\u001b[0m\u001b[0;34m]\u001b[0m\u001b[0;34m\u001b[0m\u001b[0;34m\u001b[0m\u001b[0m\n\u001b[0;32m---> 39\u001b[0;31m \u001b[0mmostCommonWord\u001b[0m\u001b[0;34m(\u001b[0m\u001b[0mparagraph\u001b[0m\u001b[0;34m,\u001b[0m \u001b[0mbanned\u001b[0m\u001b[0;34m)\u001b[0m\u001b[0;34m\u001b[0m\u001b[0;34m\u001b[0m\u001b[0m\n\u001b[0m",
      "\u001b[0;32m<ipython-input-19-19b60db778e1>\u001b[0m in \u001b[0;36mmostCommonWord\u001b[0;34m(paragraph, banned)\u001b[0m\n\u001b[1;32m     24\u001b[0m     \u001b[0mwords\u001b[0m \u001b[0;34m=\u001b[0m \u001b[0mnormalized_str\u001b[0m\u001b[0;34m.\u001b[0m\u001b[0msplit\u001b[0m\u001b[0;34m(\u001b[0m\u001b[0;34m)\u001b[0m\u001b[0;34m\u001b[0m\u001b[0;34m\u001b[0m\u001b[0m\n\u001b[1;32m     25\u001b[0m \u001b[0;34m\u001b[0m\u001b[0m\n\u001b[0;32m---> 26\u001b[0;31m     \u001b[0mword_count\u001b[0m \u001b[0;34m=\u001b[0m \u001b[0mdefaultdict\u001b[0m\u001b[0;34m(\u001b[0m\u001b[0mint\u001b[0m\u001b[0;34m)\u001b[0m\u001b[0;34m\u001b[0m\u001b[0;34m\u001b[0m\u001b[0m\n\u001b[0m\u001b[1;32m     27\u001b[0m     \u001b[0mbanned_words\u001b[0m \u001b[0;34m=\u001b[0m \u001b[0mset\u001b[0m\u001b[0;34m(\u001b[0m\u001b[0mbanned\u001b[0m\u001b[0;34m)\u001b[0m\u001b[0;34m\u001b[0m\u001b[0;34m\u001b[0m\u001b[0m\n\u001b[1;32m     28\u001b[0m \u001b[0;34m\u001b[0m\u001b[0m\n",
      "\u001b[0;31mNameError\u001b[0m: name 'defaultdict' is not defined"
     ]
    }
   ],
   "source": [
    "# using counter\n",
    "# wsc : O(M + N)\n",
    "# wtc : O(M + N)\n",
    "\n",
    "import re\n",
    "from typing import List\n",
    "import collections\n",
    "\n",
    "def mostCommonWord(paragraph: str, banned: List[str]) -> str:\n",
    "    words = [word for word in re.sub(r'[\\W]', ' ', paragraph).lower().split() if word not in banned]\n",
    "    counts = collections.Counter(words)\n",
    "\n",
    "    return counts.most_common(1)[0][0]\n",
    "\n",
    "paragraph = \"Bob hit a ball, the hit BALL flew far after it was hit.\"\n",
    "banned = [\"ball\"]\n",
    "mostCommonWord(paragraph, banned)"
   ]
  },
  {
   "cell_type": "code",
   "execution_count": 24,
   "metadata": {},
   "outputs": [
    {
     "output_type": "execute_result",
     "data": {
      "text/plain": "'ball'"
     },
     "metadata": {},
     "execution_count": 24
    }
   ],
   "source": [
    "# \n",
    "\n",
    "from typing import List\n",
    "import collections\n",
    "import operator\n",
    "\n",
    "def mostCommonWord(paragraph: str, banned: List[str]) -> str:\n",
    "    # replace the puntuations with spaces, and put all letters in lower case and excluding banned word\n",
    "    lower_str = ''.join([c.lower() if c.isalnum() else ' ' for c in paragraph])\n",
    "    # split the string into words\n",
    "    words = lower_str.split()\n",
    "    word_count = collections.defaultdict(int)\n",
    "    banned_words = set(banned)\n",
    "    # count the appearance of each word\n",
    "    for word in words:\n",
    "        if word not in banned_words:\n",
    "            word_count[word] += 1\n",
    "    # return the word with the highest frequency\n",
    "    return max(word_count.items(), key=operator.itemgetter(1))[0]\n",
    "\n",
    "paragraph = \"Bob hit a ball, the hit BALL flew far after it was hit.\"\n",
    "banned = [\"hit\"]\n",
    "mostCommonWord(paragraph, banned)"
   ]
  },
  {
   "cell_type": "code",
   "execution_count": null,
   "metadata": {},
   "outputs": [],
   "source": []
  }
 ]
}