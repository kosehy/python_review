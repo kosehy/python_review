{
 "metadata": {
  "language_info": {
   "codemirror_mode": {
    "name": "ipython",
    "version": 3
   },
   "file_extension": ".py",
   "mimetype": "text/x-python",
   "name": "python",
   "nbconvert_exporter": "python",
   "pygments_lexer": "ipython3",
   "version": "3.8.5-final"
  },
  "orig_nbformat": 2,
  "kernelspec": {
   "name": "python_defaultSpec_1599972523232",
   "display_name": "Python 3.8.5 64-bit"
  }
 },
 "nbformat": 4,
 "nbformat_minor": 2,
 "cells": [
  {
   "cell_type": "markdown",
   "metadata": {},
   "source": [
    "121. Best Time to Buy and Sell Stock\n",
    "\n",
    "Easy\n",
    "\n",
    "Say you have an array for which the ith element is the price of a given stock on day i.\n",
    "\n",
    "If you were only permitted to complete at most one transaction (i.e., buy one and sell one share of the stock), design an algorithm to find the maximum profit.\n",
    "\n",
    "Note that you cannot sell a stock before you buy one.\n",
    "\n",
    "Example 1:\n",
    "\n",
    "Input: [7,1,5,3,6,4]\n",
    "Output: 5\n",
    "Explanation: Buy on day 2 (price = 1) and sell on day 5 (price = 6), profit = 6-1 = 5.\n",
    "             Not 7-1 = 6, as selling price needs to be larger than buying price.\n",
    "\n",
    "Example 2:\n",
    "\n",
    "Input: [7,6,4,3,1]\n",
    "Output: 0\n",
    "Explanation: In this case, no transaction is done, i.e. max profit = 0."
   ]
  },
  {
   "cell_type": "code",
   "execution_count": 9,
   "metadata": {
    "tags": []
   },
   "outputs": [
    {
     "output_type": "stream",
     "name": "stdout",
     "text": "j : 1, first: 7, max_profit: 0\nj : 2, first: 7, max_profit: 0\nj : 3, first: 7, max_profit: 0\nj : 4, first: 7, max_profit: 0\nj : 5, first: 7, max_profit: 0\nj : 2, first: 1, max_profit: 4\nj : 3, first: 1, max_profit: 4\nj : 4, first: 1, max_profit: 5\nj : 5, first: 1, max_profit: 5\nj : 3, first: 5, max_profit: 5\nj : 4, first: 5, max_profit: 5\nj : 5, first: 5, max_profit: 5\nj : 4, first: 3, max_profit: 5\nj : 5, first: 3, max_profit: 5\nj : 5, first: 6, max_profit: 5\n"
    },
    {
     "output_type": "execute_result",
     "data": {
      "text/plain": "5"
     },
     "metadata": {},
     "execution_count": 9
    }
   ],
   "source": [
    "# brute force\n",
    "# worst case space complexity : O(1)\n",
    "# worst case time complexity : O(n^2)\n",
    "# Runtime : time limit exceeded\n",
    "\n",
    "from typing import List\n",
    "\n",
    "def maxProfit(prices: List[int]) -> int:\n",
    "    max_profit = 0\n",
    "    for i in range(len(prices)):\n",
    "        first = prices[i]\n",
    "        for j in range(i + 1, len(prices)):        \n",
    "            max_profit = max(prices[j] - first, max_profit)\n",
    "            print(f'j : {j}, first: {first}, max_profit: {max_profit}')\n",
    "    return max_profit\n",
    "\n",
    "prices = [7,6,4,3,1]\n",
    "prices1 = [7,1,5,3,6,4]\n",
    "maxProfit(prices1)"
   ]
  },
  {
   "cell_type": "code",
   "execution_count": 10,
   "metadata": {},
   "outputs": [
    {
     "output_type": "execute_result",
     "data": {
      "text/plain": "5"
     },
     "metadata": {},
     "execution_count": 10
    }
   ],
   "source": [
    "# find minimun value\n",
    "# worst case space complexity : O(1)\n",
    "# worst case time complexity : O(n)\n",
    "# Runtime : 68ms\n",
    "\n",
    "from typing import List\n",
    "\n",
    "def maxProfit(prices: List[int]) -> int:\n",
    "    max_profit = 0\n",
    "    min_value = sys.maxsize\n",
    "    for i, n in enumerate(prices):\n",
    "        max_profit = max(n - min_value, max_profit)\n",
    "        min_value = min(n, min_value)\n",
    "    return max_profit\n",
    "\n",
    "prices = [7,6,4,3,1]\n",
    "prices1 = [7,1,5,3,6,4]\n",
    "maxProfit(prices1)"
   ]
  },
  {
   "cell_type": "code",
   "execution_count": 12,
   "metadata": {},
   "outputs": [
    {
     "output_type": "execute_result",
     "data": {
      "text/plain": "5"
     },
     "metadata": {},
     "execution_count": 12
    }
   ],
   "source": [
    "# find minimun value\n",
    "# worst case space complexity : O(1)\n",
    "# worst case time complexity : O(n)\n",
    "# Runtime : 68ms\n",
    "\n",
    "from typing import List\n",
    "\n",
    "def maxProfit(prices: List[int]) -> int:\n",
    "    max_profit = 0\n",
    "    min_value = sys.maxsize\n",
    "    for price in prices:\n",
    "        min_value = min(price, min_value)\n",
    "        max_profit = max(price - min_value, max_profit)        \n",
    "    return max_profit\n",
    "\n",
    "prices = [7,6,4,3,1]\n",
    "prices1 = [7,1,5,3,6,4]\n",
    "maxProfit(prices1)"
   ]
  },
  {
   "cell_type": "code",
   "execution_count": 2,
   "metadata": {},
   "outputs": [
    {
     "output_type": "execute_result",
     "data": {
      "text/plain": "5"
     },
     "metadata": {},
     "execution_count": 2
    }
   ],
   "source": [
    "'''\n",
    "brute force\n",
    "wtc : O(N^2)\n",
    "wpc : O(1)\n",
    "'''\n",
    "from typing import List\n",
    "def maxProfit(prices: List[int]) -> int:\n",
    "    max_profit = 0\n",
    "    for i in prices[:-1]:\n",
    "        for j in prices[1:]:\n",
    "            max_profit = max(max_profit, j - i)\n",
    "    return max_profit\n",
    "prices = [7,6,4,3,1]\n",
    "prices1 = [7,1,5,3,6,4]\n",
    "maxProfit(prices1)"
   ]
  },
  {
   "cell_type": "code",
   "execution_count": 3,
   "metadata": {},
   "outputs": [
    {
     "output_type": "execute_result",
     "data": {
      "text/plain": "5"
     },
     "metadata": {},
     "execution_count": 3
    }
   ],
   "source": [
    "'''\n",
    "find min value\n",
    "wtc : O(N)\n",
    "wpc : O(1)\n",
    "'''\n",
    "from typing import List\n",
    "def maxProfit(prices: List[int]) -> int:\n",
    "    max_profit = 0\n",
    "    min_val = sys.maxsize\n",
    "    for i in prices[:-1]:\n",
    "        min_val = min(min_val, i)\n",
    "        max_profit = max(max_profit, i - min_val)\n",
    "    return max_profit\n",
    "prices = [7,6,4,3,1]\n",
    "prices1 = [7,1,5,3,6,4]\n",
    "maxProfit(prices1)"
   ]
  },
  {
   "cell_type": "code",
   "execution_count": null,
   "metadata": {},
   "outputs": [],
   "source": []
  }
 ]
}