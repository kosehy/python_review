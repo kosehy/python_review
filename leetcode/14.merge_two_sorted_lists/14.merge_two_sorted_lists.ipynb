{
 "metadata": {
  "language_info": {
   "codemirror_mode": {
    "name": "ipython",
    "version": 3
   },
   "file_extension": ".py",
   "mimetype": "text/x-python",
   "name": "python",
   "nbconvert_exporter": "python",
   "pygments_lexer": "ipython3",
   "version": "3.8.0-final"
  },
  "orig_nbformat": 2,
  "kernelspec": {
   "name": "python_defaultSpec_1600068436882",
   "display_name": "Python 3.8.0 64-bit"
  }
 },
 "nbformat": 4,
 "nbformat_minor": 2,
 "cells": [
  {
   "source": [
    "21. Merge Two Sorted Lists\n",
    "\n",
    "Easy\n",
    "\n",
    "Merge two sorted linked lists and return it as a new sorted list. The new list should be made by splicing together the nodes of the first two lists.\n",
    "\n",
    "Example:\n",
    "\n",
    "Input: 1->2->4, 1->3->4\n",
    "Output: 1->1->2->3->4->4"
   ],
   "cell_type": "markdown",
   "metadata": {}
  },
  {
   "cell_type": "code",
   "execution_count": 11,
   "metadata": {
    "tags": []
   },
   "outputs": [
    {
     "output_type": "stream",
     "name": "stdout",
     "text": "1 -> \n2 -> \n3 -> \n4 -> \n8 -> \n10 -> \n"
    }
   ],
   "source": [
    "'''\n",
    "iterative approach\n",
    "wtc : O(N)\n",
    "wsc : O(N)\n",
    "'''\n",
    "\n",
    "class ListNode:\n",
    "    def __init__(self, val=0, next=None):\n",
    "        self.val = val\n",
    "        self.next = next\n",
    "\n",
    "def mergeTwoLists(l1: ListNode, l2: ListNode) -> ListNode:\n",
    "    ans = cur = ListNode(0)\n",
    "    while l1 and l2:\n",
    "        if l1.val <= l2.val:\n",
    "            cur.next = l1\n",
    "            l1 = l1.next\n",
    "        else:\n",
    "            cur.next = l2\n",
    "            l2 = l2.next\n",
    "        cur = cur.next\n",
    "    cur.next = l1 or l2\n",
    "    return ans.next\n",
    "\n",
    "def printNode(l1: ListNode):\n",
    "    while l1:\n",
    "        print(f'{l1.val} -> ')\n",
    "        l1 = l1.next\n",
    "\n",
    "l1_1 = ListNode(1)\n",
    "l1_2 = ListNode(4)\n",
    "l1_3 = ListNode(8)\n",
    "\n",
    "l1_1.next = l1_2\n",
    "l1_2.next = l1_3\n",
    "\n",
    "l2_1 = ListNode(2)\n",
    "l2_2 = ListNode(3)\n",
    "l2_3 = ListNode(10)\n",
    "\n",
    "l2_1.next = l2_2\n",
    "l2_2.next = l2_3\n",
    "\n",
    "printNode(mergeTwoLists(l1_1, l2_1))"
   ]
  },
  {
   "cell_type": "code",
   "execution_count": null,
   "metadata": {},
   "outputs": [],
   "source": [
    "'''\n",
    "recurssive approach\n",
    "wtc : O()\n",
    "wsc : O()\n",
    "'''\n",
    "\n",
    "class ListNode:\n",
    "    def __init__(self, val=0, next=None):\n",
    "        self.val = val\n",
    "        self.next = next\n",
    "\n",
    "def mergeTwoLists(l1: ListNode, l2: ListNode) -> ListNode:\n",
    "    if (not l1) or (l2 and l1.val > l2.val):\n",
    "        l1, l2 = l2, l1\n",
    "    \n",
    "    if l1:\n",
    "        l1.next = self.mergeTwoLists(l1.next, l2)\n",
    "    return l1"
   ]
  }
 ]
}