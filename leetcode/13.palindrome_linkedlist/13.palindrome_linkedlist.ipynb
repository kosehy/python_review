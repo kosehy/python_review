{
 "metadata": {
  "language_info": {
   "codemirror_mode": {
    "name": "ipython",
    "version": 3
   },
   "file_extension": ".py",
   "mimetype": "text/x-python",
   "name": "python",
   "nbconvert_exporter": "python",
   "pygments_lexer": "ipython3",
   "version": "3.8.5-final"
  },
  "orig_nbformat": 2,
  "kernelspec": {
   "name": "python_defaultSpec_1600068004852",
   "display_name": "Python 3.8.5 64-bit"
  }
 },
 "nbformat": 4,
 "nbformat_minor": 2,
 "cells": [
  {
   "cell_type": "markdown",
   "metadata": {},
   "source": [
    "234. Palindrome Linked List\n",
    "\n",
    "Easy\n",
    "\n",
    "Given a singly linked list, determine if it is a palindrome.\n",
    "\n",
    "Example 1:\n",
    "\n",
    "Input: 1->2\n",
    "Output: false\n",
    "\n",
    "Example 2:\n",
    "\n",
    "Input: 1->2->2->1\n",
    "Output: true\n",
    "\n",
    "Follow up:\n",
    "Could you do it in O(n) time and O(1) space?"
   ]
  },
  {
   "cell_type": "code",
   "execution_count": 9,
   "metadata": {},
   "outputs": [
    {
     "output_type": "execute_result",
     "data": {
      "text/plain": "True"
     },
     "metadata": {},
     "execution_count": 9
    }
   ],
   "source": [
    "# change linked list to list\n",
    "# worst case space complexity : O(n)\n",
    "# worst case time complexity : O(n)\n",
    "# Runtime : 164ms\n",
    "\n",
    "from typing import List\n",
    "\n",
    "class ListNode:\n",
    "    def __init__(self, val=0, next=None):\n",
    "        self.val = 0\n",
    "        self.next = next\n",
    "        \n",
    "def isPalindrome(head: ListNode) -> bool:\n",
    "    if head is None:\n",
    "        return True\n",
    "\n",
    "    q: List = []\n",
    "    \n",
    "    node = head\n",
    "    while node:\n",
    "        q.append(node.val)\n",
    "        node = node.next\n",
    "\n",
    "    while len(q) > 1:\n",
    "        if q.pop(0) != q.pop():\n",
    "            return False\n",
    "\n",
    "    return True\n",
    "\n",
    "l1 = ListNode()\n",
    "l2 = ListNode()\n",
    "l3 = ListNode()\n",
    "l4 = ListNode()\n",
    "l1.val = 1\n",
    "l2.val = 2\n",
    "l3.val = 2\n",
    "l4.val = 1\n",
    "l1.next = l2\n",
    "l2.next = l3\n",
    "l3.next = l4\n",
    "\n",
    "isPalindrome(l1)"
   ]
  },
  {
   "cell_type": "code",
   "execution_count": 11,
   "metadata": {},
   "outputs": [
    {
     "output_type": "execute_result",
     "data": {
      "text/plain": "True"
     },
     "metadata": {},
     "execution_count": 11
    }
   ],
   "source": [
    "# using deque\n",
    "# worst case space complexity : O(n)\n",
    "# worst case time complexity : O(n)\n",
    "# Runtime : 72ms\n",
    "\n",
    "import collections\n",
    "\n",
    "class ListNode:\n",
    "    def __init__(self, val=0, next=None):\n",
    "        self.val = 0\n",
    "        self.next = next\n",
    "        \n",
    "def isPalindrome(head: ListNode) -> bool:\n",
    "    if head is None:\n",
    "        return True\n",
    "\n",
    "    q: Deque = collections.deque()\n",
    "    \n",
    "    node = head\n",
    "    while node:\n",
    "        q.append(node.val)\n",
    "        node = node.next\n",
    "\n",
    "    while len(q) > 1:\n",
    "        if q.popleft() != q.pop():\n",
    "            return False\n",
    "\n",
    "    return True\n",
    "\n",
    "l1 = ListNode()\n",
    "l2 = ListNode()\n",
    "l3 = ListNode()\n",
    "l4 = ListNode()\n",
    "l1.val = 1\n",
    "l2.val = 2\n",
    "l3.val = 2\n",
    "l4.val = 1\n",
    "l1.next = l2\n",
    "l2.next = l3\n",
    "l3.next = l4\n",
    "\n",
    "isPalindrome(l1)"
   ]
  },
  {
   "cell_type": "code",
   "execution_count": 12,
   "metadata": {},
   "outputs": [
    {
     "output_type": "execute_result",
     "data": {
      "text/plain": "True"
     },
     "metadata": {},
     "execution_count": 12
    }
   ],
   "source": [
    "# using runner technique\n",
    "# worst case space complexity : O(n)\n",
    "# worst case time complexity : O(1)\n",
    "# Runtime : 68ms\n",
    "\n",
    "import collections\n",
    "\n",
    "class ListNode:\n",
    "    def __init__(self, val=0, next=None):\n",
    "        self.val = 0\n",
    "        self.next = next\n",
    "        \n",
    "def isPalindrome(head: ListNode) -> bool:\n",
    "    rev = None\n",
    "    slow = fast = head\n",
    "\n",
    "    # using runner to make reverse linked list\n",
    "    while fast and fast.next:\n",
    "        fast = fast.next.next\n",
    "        rev, rev.next, slow = slow, rev, slow.next\n",
    "    if fast:\n",
    "        slow = slow.next\n",
    "\n",
    "    # check palindrome\n",
    "    while rev and rev.val == slow.val:\n",
    "        slow, rev = slow.next, rev.next\n",
    "    return not rev\n",
    "\n",
    "l1 = ListNode()\n",
    "l2 = ListNode()\n",
    "l3 = ListNode()\n",
    "l4 = ListNode()\n",
    "l1.val = 1\n",
    "l2.val = 2\n",
    "l3.val = 2\n",
    "l4.val = 1\n",
    "l1.next = l2\n",
    "l2.next = l3\n",
    "l3.next = l4\n",
    "\n",
    "isPalindrome(l1)"
   ]
  },
  {
   "cell_type": "code",
   "execution_count": 5,
   "metadata": {},
   "outputs": [
    {
     "output_type": "execute_result",
     "data": {
      "text/plain": "True"
     },
     "metadata": {},
     "execution_count": 5
    }
   ],
   "source": [
    "'''\n",
    "convert linked list to list\n",
    "wtc : O(N^2)\n",
    "wsc : O(N)\n",
    "'''\n",
    "from typing import List\n",
    "\n",
    "class ListNode:\n",
    "    def __init__(self, val=0, next=None):\n",
    "        self.val = val\n",
    "        self.next = next\n",
    "def isPalindrome(head: ListNode) -> bool:\n",
    "    if not head:\n",
    "        return True\n",
    "    \n",
    "    q: List = []\n",
    "    node = head\n",
    "    # transfer linked list to list\n",
    "    while node:\n",
    "        q.append(node.val)\n",
    "        node = node.next\n",
    "    \n",
    "    # check palindrome\n",
    "    while len(q) > 1:\n",
    "        if q.pop(0) != q.pop():\n",
    "            return False\n",
    "    return True\n",
    "    \n",
    "l1 = ListNode(1)\n",
    "l2 = ListNode(2)\n",
    "l3 = ListNode(2)\n",
    "l4 = ListNode(1)\n",
    "l1.next = l2\n",
    "l2.next = l3\n",
    "l3.next = l4\n",
    "\n",
    "isPalindrome(l1)\n"
   ]
  },
  {
   "cell_type": "code",
   "execution_count": 6,
   "metadata": {},
   "outputs": [
    {
     "output_type": "execute_result",
     "data": {
      "text/plain": "True"
     },
     "metadata": {},
     "execution_count": 6
    }
   ],
   "source": [
    "'''\n",
    "using deque\n",
    "wtc : O(N)\n",
    "wsc : O(N)\n",
    "'''\n",
    "import collections\n",
    "\n",
    "class ListNode:\n",
    "    def __init__(self, val=0, next=None):\n",
    "        self.val = val\n",
    "        self.next = next\n",
    "\n",
    "def isPalindrome(head: ListNode) -> bool:\n",
    "    if not head:\n",
    "        return True\n",
    "\n",
    "    q: Deque = collections.deque()\n",
    "    node = head\n",
    "    while node:\n",
    "        q.append(node.val)\n",
    "        node = node.next\n",
    "\n",
    "    while len(q) > 1:\n",
    "        if q.popleft() != q.pop():\n",
    "            return False\n",
    "    return True\n",
    "\n",
    "l1 = ListNode(1)\n",
    "l2 = ListNode(1)\n",
    "l1.next = l2\n",
    "isPalindrome(l1)"
   ]
  },
  {
   "source": [
    "<img src=\"./img/[20200913]09.three_sum_two_pointer.png\" width=\"800\" height=\"600\" />\n",
    "<img src=\"./img/[20200914]13.palindrome_linkedlist_runner_v1.jpg.\" width=\"800\" height=\"600\" />\n",
    "<img src=\"./img/[20200914]13.palindrome_linkedlist_runner_v2.jpg.\" width=\"800\" height=\"600\" />"
   ],
   "cell_type": "markdown",
   "metadata": {}
  },
  {
   "cell_type": "code",
   "execution_count": 2,
   "metadata": {},
   "outputs": [
    {
     "output_type": "execute_result",
     "data": {
      "text/plain": "False"
     },
     "metadata": {},
     "execution_count": 2
    }
   ],
   "source": [
    "'''\n",
    "using runner technique\n",
    "wtc : O(N)\n",
    "wsc : O(N)\n",
    "'''\n",
    "class ListNode:\n",
    "    def __init__(self, val=0, next=None):\n",
    "        self.val = val\n",
    "        self.next = next\n",
    "\n",
    "def isPalindrome(head: ListNode) -> bool:\n",
    "    rev = None\n",
    "    slow = fast = head\n",
    "\n",
    "    # make reverse linked list using runner\n",
    "    while fast and fast.next:\n",
    "        fast = fast.next.next\n",
    "        rev, rev.next, slow = slow, rev, slow.next\n",
    "    # check lengh of linked list is odd\n",
    "    if fast:\n",
    "        slow = slow.next\n",
    "\n",
    "    # check palindrome\n",
    "    while rev and rev.val == slow.val:\n",
    "        rev, slow = rev.next, slow.next\n",
    "    return not rev\n",
    "\n",
    "l1 = ListNode(1)\n",
    "l2 = ListNode(3)\n",
    "l3 = ListNode(3)\n",
    "l4 = ListNode(1)\n",
    "\n",
    "l1.next = l2\n",
    "l2.next = l3\n",
    "l3.next = l4\n",
    "\n",
    "isPalindrome(l1)"
   ]
  },
  {
   "cell_type": "code",
   "execution_count": null,
   "metadata": {},
   "outputs": [],
   "source": []
  }
 ]
}