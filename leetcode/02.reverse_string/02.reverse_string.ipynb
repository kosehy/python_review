{
 "metadata": {
  "language_info": {
   "codemirror_mode": {
    "name": "ipython",
    "version": 3
   },
   "file_extension": ".py",
   "mimetype": "text/x-python",
   "name": "python",
   "nbconvert_exporter": "python",
   "pygments_lexer": "ipython3",
   "version": "3.8.5-final"
  },
  "orig_nbformat": 2,
  "kernelspec": {
   "name": "python_defaultSpec_1599443609713",
   "display_name": "Python 3.8.5 64-bit"
  }
 },
 "nbformat": 4,
 "nbformat_minor": 2,
 "cells": [
  {
   "cell_type": "markdown",
   "metadata": {},
   "source": [
    "344. Reverse String\n",
    "\n",
    "Easy\n",
    "\n",
    "Write a function that reverses a string. The input string is given as an array of characters char[].\n",
    "\n",
    "Do not allocate extra space for another array, you must do this by modifying the input array in-place with O(1) extra memory.\n",
    "\n",
    "You may assume all the characters consist of printable ascii characters.\n",
    "\n",
    " \n",
    "\n",
    "Example 1:\n",
    "\n",
    "Input: [\"h\",\"e\",\"l\",\"l\",\"o\"]\n",
    "Output: [\"o\",\"l\",\"l\",\"e\",\"h\"]\n",
    "\n",
    "Example 2:\n",
    "\n",
    "Input: [\"H\",\"a\",\"n\",\"n\",\"a\",\"h\"]\n",
    "Output: [\"h\",\"a\",\"n\",\"n\",\"a\",\"H\"]"
   ]
  },
  {
   "cell_type": "code",
   "execution_count": 1,
   "metadata": {
    "tags": []
   },
   "outputs": [
    {
     "output_type": "stream",
     "name": "stdout",
     "text": "['h', 'e', 'l', 'l', 'o']\n['o', 'l', 'l', 'e', 'h']\n"
    }
   ],
   "source": [
    "from typing import List\n",
    "\n",
    "# using two pointer to swap the value\n",
    "def reverseString(s: List[str]) -> None:\n",
    "    left, right = 0, len(s) - 1\n",
    "    while left < right:\n",
    "        s[left], s[right] = s[right], s[left]\n",
    "        left += 1\n",
    "        right -= 1\n",
    "tmp = [\"h\",\"e\",\"l\",\"l\",\"o\"]\n",
    "print(tmp)\n",
    "reverseString(tmp)\n",
    "print(tmp)\n",
    "        "
   ]
  },
  {
   "cell_type": "code",
   "execution_count": 2,
   "metadata": {
    "tags": []
   },
   "outputs": [
    {
     "output_type": "stream",
     "name": "stdout",
     "text": "['o', 'l', 'l', 'e', 'h']\n['h', 'e', 'l', 'l', 'o']\n"
    }
   ],
   "source": [
    "# use reverse\n",
    "def reverseStringReverse(s: List[str]) -> None:\n",
    "    s.reverse()\n",
    "print(tmp)\n",
    "reverseStringReverse(tmp)\n",
    "print(tmp)"
   ]
  },
  {
   "cell_type": "code",
   "execution_count": 3,
   "metadata": {
    "tags": []
   },
   "outputs": [
    {
     "output_type": "stream",
     "name": "stdout",
     "text": "['h', 'e', 'l', 'l', 'o']\n['o', 'l', 'l', 'e', 'h']\n"
    }
   ],
   "source": [
    "# use list slicing\n",
    "def reverseStringSlicing(s: List[str]) -> None:\n",
    "    s[:] = s[::-1]\n",
    "print(tmp)\n",
    "reverseStringSlicing(tmp)\n",
    "print(tmp)"
   ]
  },
  {
   "cell_type": "markdown",
   "metadata": {},
   "source": [
    "![list](./../../img/leetcode/02.reverse_string/[20200907]02.reverse_string_recursion.PNG)"
   ]
  },
  {
   "cell_type": "code",
   "execution_count": 12,
   "metadata": {
    "tags": []
   },
   "outputs": [
    {
     "output_type": "stream",
     "name": "stdout",
     "text": "['o', 'l', 'l', 'e', 'h']\n['h', 'e', 'l', 'l', 'o']\n"
    }
   ],
   "source": [
    "# recursion\n",
    "# wsc : O(N)\n",
    "# wtc : O(N)\n",
    "\n",
    "def reverseString(s: List[str]) -> None:\n",
    "    def helper(left, right):\n",
    "        if left < right:\n",
    "            s[left], s[right] = s[right], s[left]\n",
    "            helper(left + 1, right - 1)\n",
    "    helper(0, len(0) - 1)\n",
    "\n",
    "print(tmp)\n",
    "reverseStringSlicing(tmp)\n",
    "print(tmp)"
   ]
  },
  {
   "cell_type": "markdown",
   "metadata": {},
   "source": [
    "![list](./../../img/leetcode/02.reverse_string/[20200907]02.reverse_string_two_pointer_swap.PNG)"
   ]
  },
  {
   "cell_type": "code",
   "execution_count": 8,
   "metadata": {
    "tags": []
   },
   "outputs": [
    {
     "output_type": "stream",
     "name": "stdout",
     "text": "['h', 'e', 'l', 'l', 'o']\n['o', 'l', 'l', 'e', 'h']\n"
    }
   ],
   "source": [
    "# using two pointer swap\n",
    "# wsc : O(1)\n",
    "# wtc : O(N)\n",
    "\n",
    "from typing import List\n",
    "\n",
    "def reverseString(s: List[str]) -> None:\n",
    "    left, right = 0, len(s) - 1\n",
    "    while left < right:\n",
    "        s[left], s[right] = s[right], s[left]\n",
    "        left += 1\n",
    "        right -= 1\n",
    "    return s\n",
    "\n",
    "print(tmp)\n",
    "reverseString(tmp)\n",
    "print(tmp)"
   ]
  },
  {
   "cell_type": "markdown",
   "metadata": {},
   "source": [
    "![list](./../../img/leetcode/02.reverse_string/[20200907]02.reverse_string_reverse_builtin.PNG)"
   ]
  },
  {
   "cell_type": "code",
   "execution_count": 9,
   "metadata": {
    "tags": []
   },
   "outputs": [
    {
     "output_type": "stream",
     "name": "stdout",
     "text": "['o', 'l', 'l', 'e', 'h']\n['h', 'e', 'l', 'l', 'o']\n"
    }
   ],
   "source": [
    "# using built-in function reverse\n",
    "# wsc : O(1)\n",
    "# wtc : O(N)\n",
    "\n",
    "def reverseString(s: List[str]) -> None:\n",
    "    s.reverse()\n",
    "\n",
    "print(tmp)\n",
    "reverseString(tmp)\n",
    "print(tmp)"
   ]
  },
  {
   "cell_type": "markdown",
   "metadata": {},
   "source": [
    "![list](./../../img/leetcode/02.reverse_string/[20200907]02.reverse_string_list_slicing.PNG)"
   ]
  },
  {
   "cell_type": "code",
   "execution_count": 11,
   "metadata": {
    "tags": []
   },
   "outputs": [
    {
     "output_type": "stream",
     "name": "stdout",
     "text": "['h', 'e', 'l', 'l', 'o']\n['o', 'l', 'l', 'e', 'h']\n"
    }
   ],
   "source": [
    "# using list slicing\n",
    "# wsc : O(1)\n",
    "# wtc : O(N)\n",
    "\n",
    "def reverseString(s: List[str]) -> None:\n",
    "    s[:] = s[::-1]\n",
    "\n",
    "print(tmp)\n",
    "reverseString(tmp)\n",
    "print(tmp)"
   ]
  }
 ]
}