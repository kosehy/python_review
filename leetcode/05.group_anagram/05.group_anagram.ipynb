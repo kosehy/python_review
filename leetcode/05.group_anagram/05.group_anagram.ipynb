{
 "metadata": {
  "language_info": {
   "codemirror_mode": {
    "name": "ipython",
    "version": 3
   },
   "file_extension": ".py",
   "mimetype": "text/x-python",
   "name": "python",
   "nbconvert_exporter": "python",
   "pygments_lexer": "ipython3",
   "version": "3.8.5-final"
  },
  "orig_nbformat": 2,
  "kernelspec": {
   "name": "python_defaultSpec_1599814089930",
   "display_name": "Python 3.8.5 64-bit"
  }
 },
 "nbformat": 4,
 "nbformat_minor": 2,
 "cells": [
  {
   "cell_type": "markdown",
   "metadata": {},
   "source": [
    "Given an array of strings, group anagrams together.\n",
    "\n",
    "Example:\n",
    "\n",
    "Input: [\"eat\", \"tea\", \"tan\", \"ate\", \"nat\", \"bat\"],\n",
    "Output:\n",
    "[\n",
    "  [\"ate\",\"eat\",\"tea\"],\n",
    "  [\"nat\",\"tan\"],\n",
    "  [\"bat\"]\n",
    "]\n",
    "\n",
    "Note:\n",
    "\n",
    "    All inputs will be in lowercase.\n",
    "    The order of your output does not matter."
   ]
  },
  {
   "cell_type": "code",
   "execution_count": 1,
   "metadata": {
    "tags": []
   },
   "outputs": [
    {
     "output_type": "stream",
     "name": "stdout",
     "text": "a: aet\na: aet\na: ant\na: aet\na: ant\na: abt\nanagrams: defaultdict(<class 'list'>, {'aet': ['eat', 'tea', 'ate'], 'ant': ['tan', 'nat'], 'abt': ['bat']})\n"
    },
    {
     "output_type": "execute_result",
     "data": {
      "text/plain": "dict_values([['eat', 'tea', 'ate'], ['tan', 'nat'], ['bat']])"
     },
     "metadata": {},
     "execution_count": 1
    }
   ],
   "source": [
    "import collections\n",
    "from typing import List\n",
    "\n",
    "def groupAnagrams(strs: List[str]) -> List[List[str]]:\n",
    "    anagrams = collections.defaultdict(list)\n",
    "    for word in strs:\n",
    "        a = ''.join(sorted(word))\n",
    "        print(f'a: {a}')\n",
    "        anagrams[a].append(word)\n",
    "    print(f'anagrams: {anagrams}')\n",
    "    return anagrams.values()\n",
    "\n",
    "tmp = [\"eat\", \"tea\", \"tan\", \"ate\", \"nat\", \"bat\"]\n",
    "groupAnagrams(tmp)"
   ]
  },
  {
   "cell_type": "code",
   "execution_count": 2,
   "metadata": {
    "tags": []
   },
   "outputs": [
    {
     "output_type": "stream",
     "name": "stdout",
     "text": "word: eat\ntmp: eat\nword: tea\ntmp: tea\nword: tan\ntmp: tan\nword: ate\ntmp: ate\nword: nat\ntmp: nat\nword: bat\ntmp: bat\n"
    },
    {
     "output_type": "execute_result",
     "data": {
      "text/plain": "dict_values([['eat', 'tea', 'ate'], ['tan', 'nat'], ['bat']])"
     },
     "metadata": {},
     "execution_count": 2
    }
   ],
   "source": [
    "import collections\n",
    "\n",
    "def groupAnagrams(strs: List[str]) -> List[List[str]]:\n",
    "    # make defaultdict based on list\n",
    "    anagrams = collections.defaultdict(list)\n",
    "    for word in strs:\n",
    "        # using join and sort function to sort index\n",
    "        print(f'word: {word}')\n",
    "        tmp = ''.join(word)\n",
    "        print(f'tmp: {tmp}')\n",
    "        idx = ''.join(sorted(word))\n",
    "        anagrams[idx].append(word)\n",
    "    \n",
    "    # print(anagrams.keys())\n",
    "    # print(anagrams.values())\n",
    "    return anagrams.values()\n",
    "\n",
    "tmp = [\"eat\", \"tea\", \"tan\", \"ate\", \"nat\", \"bat\"]\n",
    "groupAnagrams(tmp)"
   ]
  },
  {
   "cell_type": "code",
   "execution_count": 2,
   "metadata": {
    "tags": []
   },
   "outputs": [
    {
     "output_type": "stream",
     "name": "stdout",
     "text": "anagrams: defaultdict(<class 'list'>, {'aet': ['eat', 'tea', 'ate'], 'ant': ['tan', 'nat'], 'abt': ['bat']})\n"
    },
    {
     "output_type": "execute_result",
     "data": {
      "text/plain": "dict_values([['eat', 'tea', 'ate'], ['tan', 'nat'], ['bat']])"
     },
     "metadata": {},
     "execution_count": 2
    }
   ],
   "source": [
    "# using defaultdict\n",
    "# wsc : O()\n",
    "# wtc : O()\n",
    "\n",
    "from typing import List\n",
    "import collections\n",
    "\n",
    "def groupAnagrams(strs: List[str]) -> List[List[str]]:\n",
    "    # make defaultdict based on List\n",
    "    anagrams = collections.defaultdict(list)\n",
    "    for word in strs:\n",
    "        # use join and sort function to sort index and append it\n",
    "        idx = ''.join(sorted(word))\n",
    "        anagrams[idx].append(word)\n",
    "    # return defaultdict's values\n",
    "    print(f'anagrams: {anagrams}')\n",
    "    return anagrams.values()\n",
    "    \n",
    "tmp = [\"eat\", \"tea\", \"tan\", \"ate\", \"nat\", \"bat\"]\n",
    "groupAnagrams(tmp)"
   ]
  },
  {
   "cell_type": "code",
   "execution_count": 1,
   "metadata": {
    "tags": []
   },
   "outputs": [
    {
     "output_type": "execute_result",
     "data": {
      "text/plain": "dict_values([['eat', 'tea', 'ate'], ['tan', 'nat'], ['bat']])"
     },
     "metadata": {},
     "execution_count": 1
    }
   ],
   "source": [
    "'''\n",
    "using categorize by count\n",
    "wtc : O(NK) where N is the length of strs, and K is the maximum length of a string in strs.\n",
    "wsc : O(NK) the total information content stored in ans\n",
    "http://net-informations.com/python/iq/unhashable.htm\n",
    "'''\n",
    "\n",
    "from typing import List\n",
    "import collections\n",
    "\n",
    "def groupAnagrams(strs: List[str]) -> List[List[str]]:\n",
    "    ans = collections.defaultdict(list)\n",
    "    for s in strs:\n",
    "        count = [0] * 26\n",
    "        for c in s:\n",
    "            count[ord(c) - ord('a')] += 1\n",
    "        # print(f'count: {count}')\n",
    "        ans[tuple(count)].append(s)\n",
    "    # print(f'ans : {ans}')\n",
    "    return ans.values()\n",
    "\n",
    "    \n",
    "tmp = [\"eat\", \"tea\", \"tan\", \"ate\", \"nat\", \"bat\"]\n",
    "groupAnagrams(tmp)"
   ]
  },
  {
   "cell_type": "code",
   "execution_count": null,
   "metadata": {},
   "outputs": [],
   "source": []
  }
 ]
}