{
 "metadata": {
  "language_info": {
   "codemirror_mode": {
    "name": "ipython",
    "version": 3
   },
   "file_extension": ".py",
   "mimetype": "text/x-python",
   "name": "python",
   "nbconvert_exporter": "python",
   "pygments_lexer": "ipython3",
   "version": "3.8.5-final"
  },
  "orig_nbformat": 2,
  "kernelspec": {
   "name": "python_defaultSpec_1597456295192",
   "display_name": "Python 3.8.5 64-bit"
  }
 },
 "nbformat": 4,
 "nbformat_minor": 2,
 "cells": [
  {
   "cell_type": "markdown",
   "metadata": {},
   "source": [
    "Given a string s, find the longest palindromic substring in s. You may assume that the maximum length of s is 1000.\n",
    "\n",
    "Example 1:\n",
    "\n",
    "Input: \"babad\"\n",
    "Output: \"bab\"\n",
    "Note: \"aba\" is also a valid answer.\n",
    "\n",
    "Example 2:\n",
    "\n",
    "Input: \"cbbd\"\n",
    "Output: \"bb\""
   ]
  },
  {
   "cell_type": "code",
   "execution_count": 23,
   "metadata": {
    "tags": []
   },
   "outputs": [
    {
     "output_type": "execute_result",
     "data": {
      "text/plain": "'abcba'"
     },
     "metadata": {},
     "execution_count": 23
    }
   ],
   "source": [
    "def longestPalindrome(s: str) -> str:\n",
    "    # check palindrome using two pointer expanding\n",
    "    def expand(left: int, right: int) -> str:\n",
    "        print(f'left >= 0: {left >= 0}')\n",
    "        print(f'right <= len(s): {right <= len(s)}')\n",
    "        print(f's[left] == s[right - 1]: {s[left] == s[right - 1]}')\n",
    "        while left >= 0 and right <= len(s) and s[left] == s[right - 1]:\n",
    "            left -= 1\n",
    "            right += 1\n",
    "        print(f's[{left + 1}:{right - 1}] = {s[left + 1:right - 1]}')\n",
    "        return s[left + 1:right - 1]\n",
    "\n",
    "    # if two pointer cannot exapnd, exit\n",
    "    if len(s) < 2 or s == s[::-1]:\n",
    "        return s\n",
    "\n",
    "    result = ''\n",
    "    # sliding window to right\n",
    "    # best case len(s)\n",
    "    # l = lens(s) - 1\n",
    "    # l * ()\n",
    "    for i in range(len(s) - 1):\n",
    "        print(f'i: {i}')\n",
    "        result = max(result,\n",
    "                        expand(i, i + 1),\n",
    "                        expand(i, i + 2),\n",
    "                        key=len)\n",
    "    return result\n",
    "\n",
    "# input1 = \"babad\"\n",
    "# longestPalindrome(input1)\n",
    "# input2 = 'cbba'\n",
    "# longestPalindrome(input2)\n",
    "input3 = 'abcba'\n",
    "longestPalindrome(input3)"
   ]
  },
  {
   "cell_type": "code",
   "execution_count": 12,
   "metadata": {
    "tags": []
   },
   "outputs": [
    {
     "output_type": "stream",
     "name": "stdout",
     "text": "i : 0\ns[0:4]: abcd\ns[4:0]: dcba\ns[0:3]: abc\ns[3:0]: cba\ns[0:2]: ab\ns[2:0]: ba\ni : 1\ns[1:4]: bcd\ns[4:1]: dcb\ns[1:3]: bc\ns[3:1]: cb\ni : 2\ns[2:4]: cd\ns[4:2]: dc\ni : 3\n"
    },
    {
     "output_type": "execute_result",
     "data": {
      "text/plain": "'b'"
     },
     "metadata": {},
     "execution_count": 12
    }
   ],
   "source": [
    "# brute force solution\n",
    "def longestPalindromeBF(s: str) -> str:\n",
    "    if len(s) < 2:\n",
    "        return s\n",
    "    if len(s) == 2:\n",
    "        if s == s[::-1]:\n",
    "            return s\n",
    "        return s[0]\n",
    "\n",
    "    result = ''\n",
    "    for i in range(len(s)):\n",
    "        print(f'i : {i}')\n",
    "        for j in range(len(s) - 1, i, -1):\n",
    "            # print(f'j : {j}')\n",
    "            print(f's[{i}:{j + 1}]: {s[i:j + 1]}')\n",
    "            print(f's[{j + 1}:{i}]: {s[i:j + 1][::-1]}')\n",
    "            if s[i:j + 1] == s[i:j + 1][::-1]:\n",
    "                if len(result) < len(s[i:j + 1]):\n",
    "                    result = s[i:j + 1]\n",
    "    if not result:\n",
    "        return s[1]\n",
    "    return result\n",
    "\n",
    "\n",
    "input3 = 'abcd'\n",
    "longestPalindromeBF(input3)"
   ]
  },
  {
   "cell_type": "code",
   "execution_count": null,
   "metadata": {},
   "outputs": [],
   "source": []
  }
 ]
}