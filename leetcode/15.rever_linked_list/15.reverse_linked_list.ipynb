{
 "metadata": {
  "language_info": {
   "codemirror_mode": {
    "name": "ipython",
    "version": 3
   },
   "file_extension": ".py",
   "mimetype": "text/x-python",
   "name": "python",
   "nbconvert_exporter": "python",
   "pygments_lexer": "ipython3",
   "version": "3.8.5-final"
  },
  "orig_nbformat": 2,
  "kernelspec": {
   "name": "python_defaultSpec_1600566257160",
   "display_name": "Python 3.8.5 64-bit"
  }
 },
 "nbformat": 4,
 "nbformat_minor": 2,
 "cells": [
  {
   "source": [
    "206. Reverse Linked List\n",
    "\n",
    "Easy\n",
    "\n",
    "Reverse a singly linked list.\n",
    "\n",
    "Example:\n",
    "\n",
    "Input: 1->2->3->4->5->NULL\n",
    "Output: 5->4->3->2->1->NULL\n",
    "\n",
    "Follow up:\n",
    "\n",
    "A linked list can be reversed either iteratively or recursively. Could you implement both?"
   ],
   "cell_type": "markdown",
   "metadata": {}
  },
  {
   "cell_type": "code",
   "execution_count": 5,
   "metadata": {
    "tags": []
   },
   "outputs": [
    {
     "output_type": "stream",
     "name": "stdout",
     "text": "4\n3\n2\n1\n"
    }
   ],
   "source": [
    "'''\n",
    "iterative approach v1\n",
    "wtc : O(N)\n",
    "wsc : O(N)\n",
    "'''\n",
    "\n",
    "class ListNode:\n",
    "    def __init__(self, val=0, next=None):\n",
    "        self.val = val\n",
    "        self.next = next\n",
    "\n",
    "def reverseList(head: ListNode) -> ListNode:    \n",
    "    rev, cur = None, head\n",
    "    while cur:\n",
    "        rev, rev.next, cur = cur, rev, cur.next\n",
    "    return rev\n",
    "\n",
    "def printList(head: ListNode):\n",
    "    cur = head\n",
    "    while cur:\n",
    "        print(cur.val)\n",
    "        cur = cur.next\n",
    "\n",
    "l1 = ListNode(1)\n",
    "l2 = ListNode(2)\n",
    "l3 = ListNode(3)\n",
    "l4 = ListNode(4)\n",
    "l1.next = l2\n",
    "l2.next = l3\n",
    "l3.next = l4\n",
    "\n",
    "printList(reverseList(l1))"
   ]
  },
  {
   "cell_type": "code",
   "execution_count": 2,
   "metadata": {
    "tags": []
   },
   "outputs": [
    {
     "output_type": "stream",
     "name": "stdout",
     "text": "4\n3\n2\n1\n"
    }
   ],
   "source": [
    "'''\n",
    "iterative approach v2\n",
    "wtc : O(N)\n",
    "wsc : O(N)\n",
    "'''\n",
    "\n",
    "class ListNode:\n",
    "    def __init__(self, val=0, next=None):\n",
    "        self.val = val\n",
    "        self.next = next\n",
    "\n",
    "def reverseList(head: ListNode) -> ListNode:    \n",
    "    node, rev = head, None\n",
    "    while node:\n",
    "        next, node.next = node.next, rev\n",
    "        rev, node = node, next\n",
    "\n",
    "    return rev\n",
    "\n",
    "def printList(head: ListNode):\n",
    "    cur = head\n",
    "    while cur:\n",
    "        print(cur.val)\n",
    "        cur = cur.next\n",
    "\n",
    "l1 = ListNode(1)\n",
    "l2 = ListNode(2)\n",
    "l3 = ListNode(3)\n",
    "l4 = ListNode(4)\n",
    "l1.next = l2\n",
    "l2.next = l3\n",
    "l3.next = l4\n",
    "\n",
    "printList(reverseList(l1))"
   ]
  },
  {
   "cell_type": "code",
   "execution_count": 5,
   "metadata": {
    "tags": []
   },
   "outputs": [
    {
     "output_type": "stream",
     "name": "stdout",
     "text": "4\n3\n2\n1\n"
    }
   ],
   "source": [
    "'''\n",
    "recurssive approach\n",
    "wtc : O(N)\n",
    "wsc : O(N)\n",
    "'''\n",
    "\n",
    "class ListNode:\n",
    "    def __init__(self, val=0, next=None):\n",
    "        self.val = val\n",
    "        self.next = next\n",
    "\n",
    "def reverseList(head: ListNode) -> ListNode:\n",
    "    def reverse(node: ListNode, rev: ListNode = None):\n",
    "        if not node:\n",
    "            return rev\n",
    "        next, node.next = node.next, rev\n",
    "        return reverse(next, node)\n",
    "\n",
    "    return reverse(head)\n",
    "\n",
    "def printList(head: ListNode):\n",
    "    cur = head\n",
    "    while cur:\n",
    "        print(cur.val)\n",
    "        cur = cur.next\n",
    "\n",
    "l1 = ListNode(1)\n",
    "l2 = ListNode(2)\n",
    "l3 = ListNode(3)\n",
    "l4 = ListNode(4)\n",
    "l1.next = l2\n",
    "l2.next = l3\n",
    "l3.next = l4\n",
    "\n",
    "printList(reverseList(l1))"
   ]
  },
  {
   "cell_type": "code",
   "execution_count": null,
   "metadata": {},
   "outputs": [],
   "source": []
  }
 ]
}