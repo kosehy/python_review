{
 "metadata": {
  "language_info": {
   "codemirror_mode": {
    "name": "ipython",
    "version": 3
   },
   "file_extension": ".py",
   "mimetype": "text/x-python",
   "name": "python",
   "nbconvert_exporter": "python",
   "pygments_lexer": "ipython3",
   "version": "3.8.5-final"
  },
  "orig_nbformat": 2,
  "kernelspec": {
   "name": "Python 3.8.5 64-bit",
   "display_name": "Python 3.8.5 64-bit",
   "metadata": {
    "interpreter": {
     "hash": "11fa44a61085d99ea4f6a9abba32e9367e180273639b7882c106310484974003"
    }
   }
  }
 },
 "nbformat": 4,
 "nbformat_minor": 2,
 "cells": [
  {
   "source": [
    "200. Number of Islands\n",
    "\n",
    "Medium\n",
    "\n",
    "Given a 2d grid map of '1's (land) and '0's (water), count the number of islands. An island is surrounded by water and is formed by connecting adjacent lands horizontally or vertically. You may assume all four edges of the grid are all surrounded by water.\n",
    "\n",
    " \n",
    "\n",
    "Example 1:\n",
    "\n",
    "Input: grid = [\n",
    "\n",
    "  [\"1\",\"1\",\"1\",\"1\",\"0\"],\n",
    "  \n",
    "  [\"1\",\"1\",\"0\",\"1\",\"0\"],\n",
    "\n",
    "  [\"1\",\"1\",\"0\",\"0\",\"0\"],\n",
    "\n",
    "  [\"0\",\"0\",\"0\",\"0\",\"0\"]\n",
    "\n",
    "]\n",
    "\n",
    "Output: 1\n",
    "\n",
    "Example 2:\n",
    "\n",
    "Input: grid = [\n",
    "\n",
    "  [\"1\",\"1\",\"0\",\"0\",\"0\"],\n",
    "\n",
    "  [\"1\",\"1\",\"0\",\"0\",\"0\"],\n",
    "\n",
    "  [\"0\",\"0\",\"1\",\"0\",\"0\"],\n",
    "\n",
    "  [\"0\",\"0\",\"0\",\"1\",\"1\"]\n",
    "  \n",
    "]\n",
    "\n",
    "Output: 3"
   ],
   "cell_type": "markdown",
   "metadata": {}
  },
  {
   "cell_type": "code",
   "execution_count": 6,
   "metadata": {
    "tags": []
   },
   "outputs": [
    {
     "output_type": "execute_result",
     "data": {
      "text/plain": "2"
     },
     "metadata": {},
     "execution_count": 6
    }
   ],
   "source": [
    "'''\n",
    "using DFS\n",
    "'''\n",
    "from typing import List\n",
    "def dfs(grid, i, j):\n",
    "    if i < 0 or i >= len(grid) or j < 0 or j >= len(grid[0]) or grid[i][j] != '1':\n",
    "        return\n",
    "    grid[i][j] = '0'\n",
    "\n",
    "    dfs(grid, i + 1, j)\n",
    "    dfs(grid, i - 1, j)\n",
    "    dfs(grid, i, j +1)\n",
    "    dfs(grid, i, j - 1)\n",
    "\n",
    "def numIslands(grid: List[List[str]]) -> int:\n",
    "    if not grid:\n",
    "        return 0\n",
    "\n",
    "    count = 0\n",
    "    for i in range(len(grid)):\n",
    "        for j in range(len(grid[0])):\n",
    "            if grid[i][j] == '1':\n",
    "                dfs(grid, i, j)\n",
    "                count += 1\n",
    "    return count\n",
    "\n",
    "grid = [\n",
    "  [\"1\",\"1\",\"1\",\"1\",\"0\"],\n",
    "  [\"1\",\"1\",\"0\",\"1\",\"0\"],\n",
    "  [\"1\",\"1\",\"0\",\"0\",\"0\"],\n",
    "  [\"0\",\"0\",\"0\",\"0\",\"0\"]\n",
    "]\n",
    "numIslands(grid)"
   ]
  },
  {
   "cell_type": "code",
   "execution_count": null,
   "metadata": {},
   "outputs": [],
   "source": []
  }
 ]
}