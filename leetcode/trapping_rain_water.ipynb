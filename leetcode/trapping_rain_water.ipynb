{
 "metadata": {
  "language_info": {
   "codemirror_mode": {
    "name": "ipython",
    "version": 3
   },
   "file_extension": ".py",
   "mimetype": "text/x-python",
   "name": "python",
   "nbconvert_exporter": "python",
   "pygments_lexer": "ipython3",
   "version": "3.8.5-final"
  },
  "orig_nbformat": 2,
  "kernelspec": {
   "name": "python_defaultSpec_1598354604390",
   "display_name": "Python 3.8.5 64-bit"
  }
 },
 "nbformat": 4,
 "nbformat_minor": 2,
 "cells": [
  {
   "cell_type": "markdown",
   "metadata": {},
   "source": [
    "Given n non-negative integers representing an elevation map where the width of each bar is 1, compute how much water it is able to trap after raining.\n",
    "\n",
    "![Rain Water Trap](./../img/leetcode/rainwatertrap.png)\n",
    "\n",
    "The above elevation map is represented by array [0,1,0,2,1,0,1,3,2,1,2,1]. In this case, 6 units of rain water (blue section) are being trapped. Thanks Marcos for contributing this image!\n",
    "\n",
    "Example:\n",
    "\n",
    "Input: [0,1,0,2,1,0,1,3,2,1,2,1]\n",
    "Output: 6\n",
    "\n"
   ]
  },
  {
   "cell_type": "code",
   "execution_count": null,
   "metadata": {},
   "outputs": [],
   "source": []
  },
  {
   "cell_type": "code",
   "execution_count": 10,
   "metadata": {
    "tags": []
   },
   "outputs": [
    {
     "output_type": "stream",
     "name": "stdout",
     "text": "left: 0, right: 0\nheight[0] : 0\nheight[0] : 0\nleft: 0, right: 1\nheight[0] : 0\nheight[1] : 1\nleft: 1, right: 1\nheight[1] : 1\nheight[1] : 1\nleft: 1, right: 2\nheight[1] : 1\nheight[2] : 0\ntrap: 1\nleft: 1, right: 3\nheight[1] : 1\nheight[3] : 2\nleft: 2, right: 3\nheight[2] : 0\nheight[3] : 2\nleft: 3, right: 3\nheight[3] : 2\nheight[3] : 2\nleft: 3, right: 4\nheight[3] : 2\nheight[4] : 1\ntrap: 2\nleft: 3, right: 5\nheight[3] : 2\nheight[5] : 0\ntrap: 4\nleft: 3, right: 6\nheight[3] : 2\nheight[6] : 1\ntrap: 5\nleft: 3, right: 7\nheight[3] : 2\nheight[7] : 3\nleft: 4, right: 7\nheight[4] : 1\nheight[7] : 3\nleft: 5, right: 7\nheight[5] : 0\nheight[7] : 3\nleft: 6, right: 7\nheight[6] : 1\nheight[7] : 3\nleft: 7, right: 7\nheight[7] : 3\nheight[7] : 3\nleft: 7, right: 8\nheight[7] : 3\nheight[8] : 2\ntrap: 6\nleft: 7, right: 9\nheight[7] : 3\nheight[9] : 1\ntrap: 8\nleft: 7, right: 10\nheight[7] : 3\nheight[10] : 2\ntrap: 9\n"
    },
    {
     "output_type": "execute_result",
     "data": {
      "text/plain": "9"
     },
     "metadata": {},
     "execution_count": 10
    }
   ],
   "source": [
    "from typing import List\n",
    "\n",
    "def trap(height: List[int]) -> int:\n",
    "    left, right, trap = 0, 0, 0\n",
    "    while left != len(height) -1 and right != len(height) -1:\n",
    "        print(f'left: {left}, right: {right}')\n",
    "        print(f'height[{left}] : {height[left]}')\n",
    "        print(f'height[{right}] : {height[right]}')\n",
    "        if height[left] == height[right]:\n",
    "            right += 1\n",
    "        elif height[left] <= height[right]:\n",
    "            left += 1\n",
    "        elif height[left] > height[right]:\n",
    "            trap += height[left] - height[right]\n",
    "            print(f'trap: {trap}')\n",
    "            right += 1\n",
    "    return trap\n",
    "\n",
    "input = [0,1,0,2,1,0,1,3,2,1,2,1]\n",
    "trap(input)"
   ]
  },
  {
   "cell_type": "code",
   "execution_count": 4,
   "metadata": {
    "tags": []
   },
   "outputs": [
    {
     "output_type": "execute_result",
     "data": {
      "text/plain": "6"
     },
     "metadata": {},
     "execution_count": 4
    }
   ],
   "source": [
    "# using two pointer\n",
    "# worst case space complexity : O(1)\n",
    "# worst case time complexity : O(n)\n",
    "# Runtime 52ms\n",
    "\n",
    "from typing import List\n",
    "\n",
    "def trap(height: List[int]) -> int:\n",
    "    if not height:\n",
    "        return 0\n",
    "    \n",
    "    trap = 0\n",
    "    left, right = 0, len(height) - 1\n",
    "    left_max, right_max = height[left], height[right]\n",
    "\n",
    "    while left < right:\n",
    "        left_max, right_max = max(height[left], left_max), max(height[right], right_max)\n",
    "        \n",
    "        if left_max <= right_max:\n",
    "            trap += left_max - height[left]\n",
    "            left += 1\n",
    "        else:\n",
    "            trap += right_max - height[right]\n",
    "            right -= 1\n",
    "    return trap\n",
    "\n",
    "input = [0,1,0,2,1,0,1,3,2,1,2,1]\n",
    "trap(input)"
   ]
  },
  {
   "cell_type": "code",
   "execution_count": 9,
   "metadata": {},
   "outputs": [
    {
     "output_type": "execute_result",
     "data": {
      "text/plain": "6"
     },
     "metadata": {},
     "execution_count": 9
    }
   ],
   "source": [
    "# using two pointer\n",
    "# worst case space complexity : O(1)\n",
    "# worst case time complexity : O(n)\n",
    "# Runtime 52ms\n",
    "# review\n",
    "from typing import List\n",
    "\n",
    "def trap(height: List[int]) -> int:\n",
    "    if not height:\n",
    "        return 0\n",
    "    \n",
    "    volume = 0\n",
    "    left, right = 0, len(height) - 1\n",
    "    left_max, right_max = height[left], height[right]\n",
    "\n",
    "    while left < right:\n",
    "        left_max, right_max = max(height[left], left_max), max(height[right], right_max)\n",
    "\n",
    "        # moving two pointer to the higher position\n",
    "        if left_max <= right_max:\n",
    "            volume += left_max - height[left]\n",
    "            left += 1\n",
    "        else:\n",
    "            volume += right_max - height[right]\n",
    "            right -= 1\n",
    "    return volume\n",
    "\n",
    "input = [0,1,0,2,1,0,1,3,2,1,2,1]\n",
    "trap(input)"
   ]
  },
  {
   "cell_type": "code",
   "execution_count": 10,
   "metadata": {
    "tags": []
   },
   "outputs": [
    {
     "output_type": "stream",
     "name": "stdout",
     "text": "height[0]: 0, height[-1]: 1\nheight[1]: 1, height[-1]: 1\ntop: 0\nheight[2]: 0, height[-1]: 1\nheight[3]: 2, height[-1]: 1\ntop: 2\ndistance: 1\nwaters: 1\ntop: 1\nheight[4]: 1, height[-1]: 1\nheight[5]: 0, height[-1]: 1\nheight[6]: 1, height[-1]: 1\ntop: 5\ndistance: 1\nwaters: 1\nheight[7]: 3, height[-1]: 1\ntop: 6\ndistance: 2\nwaters: 0\ntop: 4\ndistance: 3\nwaters: 1\ntop: 3\nheight[8]: 2, height[-1]: 1\nheight[9]: 1, height[-1]: 1\nheight[10]: 2, height[-1]: 1\ntop: 9\ndistance: 1\nwaters: 1\nheight[11]: 1, height[-1]: 1\n"
    },
    {
     "output_type": "execute_result",
     "data": {
      "text/plain": "6"
     },
     "metadata": {},
     "execution_count": 10
    }
   ],
   "source": [
    "# using stack\n",
    "# worst case space complexity : O(1)\n",
    "# worst case time complexity : O(n)\n",
    "# Runtime 52ms\n",
    "\n",
    "def trap(height: List[int]) -> int:\n",
    "    stack = []\n",
    "    volume = 0\n",
    "\n",
    "    for i in range(len(height)):\n",
    "        print(f'height[{i}]: {height[i]}, height[-1]: {height[-1]}')\n",
    "        while stack and height[i] > height[stack[-1]]:\n",
    "            top = stack.pop()\n",
    "            print(f'top: {top}')\n",
    "            if not len(stack):\n",
    "                break\n",
    "\n",
    "            distance = i - stack[-1] - 1\n",
    "            print(f'distance: {distance}')\n",
    "            waters = min(height[i], height[stack[-1]]) - height[top]\n",
    "            print(f'waters: {waters}')\n",
    "\n",
    "            volume += distance * waters\n",
    "        \n",
    "        stack.append(i)\n",
    "    return volume\n",
    "input = [0,1,0,2,1,0,1,3,2,1,2,1]\n",
    "trap(input)"
   ]
  },
  {
   "cell_type": "code",
   "execution_count": null,
   "metadata": {},
   "outputs": [],
   "source": []
  }
 ]
}