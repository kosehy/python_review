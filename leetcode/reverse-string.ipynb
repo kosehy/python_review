{
 "metadata": {
  "language_info": {
   "codemirror_mode": {
    "name": "ipython",
    "version": 3
   },
   "file_extension": ".py",
   "mimetype": "text/x-python",
   "name": "python",
   "nbconvert_exporter": "python",
   "pygments_lexer": "ipython3",
   "version": 3
  },
  "orig_nbformat": 2,
  "kernelspec": {
   "name": "python_defaultSpec_1597136783671",
   "display_name": "Python 3.8.5 64-bit"
  }
 },
 "nbformat": 4,
 "nbformat_minor": 2,
 "cells": [
  {
   "cell_type": "code",
   "execution_count": null,
   "metadata": {},
   "outputs": [],
   "source": [
    "'''\n",
    "Write a function that reverses a string. The input string is given as an array of characters char[].\n",
    "Do not allocate extra space for another array, you must do this by modifying the input array in-place with O(1) extra memory.\n",
    "You may assume all the characters consist of printable ascii characters. \n",
    "\n",
    "Example 1:\n",
    "\n",
    "Input: [\"h\",\"e\",\"l\",\"l\",\"o\"]\n",
    "Output: [\"o\",\"l\",\"l\",\"e\",\"h\"]\n",
    "\n",
    "Example 2:\n",
    "\n",
    "Input: [\"H\",\"a\",\"n\",\"n\",\"a\",\"h\"]\n",
    "Output: [\"h\",\"a\",\"n\",\"n\",\"a\",\"H\"]\n",
    "'''"
   ]
  },
  {
   "cell_type": "code",
   "execution_count": 9,
   "metadata": {
    "tags": []
   },
   "outputs": [
    {
     "output_type": "stream",
     "name": "stdout",
     "text": "['h', 'e', 'l', 'l', 'o']\n['o', 'l', 'l', 'e', 'h']\n"
    }
   ],
   "source": [
    "from typing import List\n",
    "\n",
    "# using two pointer to swap the value\n",
    "def reverseString(s: List[str]) -> None:\n",
    "    left, right = 0, len(s) - 1\n",
    "    while left < right:\n",
    "        s[left], s[right] = s[right], s[left]\n",
    "        left += 1\n",
    "        right -= 1\n",
    "tmp = [\"h\",\"e\",\"l\",\"l\",\"o\"]\n",
    "print(tmp)\n",
    "reverseString(tmp)\n",
    "print(tmp)\n",
    "        "
   ]
  },
  {
   "cell_type": "code",
   "execution_count": 11,
   "metadata": {
    "tags": []
   },
   "outputs": [
    {
     "output_type": "stream",
     "name": "stdout",
     "text": "['h', 'e', 'l', 'l', 'o']\n['o', 'l', 'l', 'e', 'h']\n"
    }
   ],
   "source": [
    "# use reverse\n",
    "def reverseStringReverse(s: List[str]) -> None:\n",
    "    s.reverse()\n",
    "print(tmp)\n",
    "reverseStringReverse(tmp)\n",
    "print(tmp)"
   ]
  },
  {
   "cell_type": "code",
   "execution_count": 12,
   "metadata": {
    "tags": []
   },
   "outputs": [
    {
     "output_type": "stream",
     "name": "stdout",
     "text": "['o', 'l', 'l', 'e', 'h']\n['h', 'e', 'l', 'l', 'o']\n"
    }
   ],
   "source": [
    "# use list slicing\n",
    "def reverseStringSlicing(s: List[str]) -> None:\n",
    "    s[:] = s[::-1]\n",
    "print(tmp)\n",
    "reverseStringSlicing(tmp)\n",
    "print(tmp)"
   ]
  },
  {
   "cell_type": "code",
   "execution_count": null,
   "metadata": {},
   "outputs": [],
   "source": []
  }
 ]
}