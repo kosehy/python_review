{
 "metadata": {
  "language_info": {
   "codemirror_mode": {
    "name": "ipython",
    "version": 3
   },
   "file_extension": ".py",
   "mimetype": "text/x-python",
   "name": "python",
   "nbconvert_exporter": "python",
   "pygments_lexer": "ipython3",
   "version": "3.8.5-final"
  },
  "orig_nbformat": 2,
  "kernelspec": {
   "name": "python_defaultSpec_1599816154357",
   "display_name": "Python 3.8.5 64-bit"
  }
 },
 "nbformat": 4,
 "nbformat_minor": 2,
 "cells": [
  {
   "cell_type": "markdown",
   "metadata": {},
   "source": [
    "5. Longest Palindromic Substring\n",
    "\n",
    "Medium\n",
    "\n",
    "Given a string s, find the longest palindromic substring in s. You may assume that the maximum length of s is 1000.\n",
    "\n",
    "Example 1:\n",
    "\n",
    "Input: \"babad\"\n",
    "Output: \"bab\"\n",
    "Note: \"aba\" is also a valid answer.\n",
    "\n",
    "Example 2:\n",
    "\n",
    "Input: \"cbbd\"\n",
    "Output: \"bb\""
   ]
  },
  {
   "cell_type": "code",
   "execution_count": 6,
   "metadata": {
    "tags": []
   },
   "outputs": [
    {
     "output_type": "stream",
     "name": "stdout",
     "text": "i: 0\nleft >= 0: True\nright <= len(s): True\ns[left] == s[right - 1]: True\ns[0:1] = a\nleft >= 0: True\nright <= len(s): True\ns[left] == s[right - 1]: False\ns[1:1] = \ni: 1\nleft >= 0: True\nright <= len(s): True\ns[left] == s[right - 1]: True\ns[1:2] = b\nleft >= 0: True\nright <= len(s): True\ns[left] == s[right - 1]: False\ns[2:2] = \ni: 2\nleft >= 0: True\nright <= len(s): True\ns[left] == s[right - 1]: True\ns[2:3] = c\nleft >= 0: True\nright <= len(s): True\ns[left] == s[right - 1]: False\ns[3:3] = \n"
    },
    {
     "output_type": "execute_result",
     "data": {
      "text/plain": "'a'"
     },
     "metadata": {},
     "execution_count": 6
    }
   ],
   "source": [
    "def longestPalindrome(s: str) -> str:\n",
    "    # check palindrome using two pointer expanding\n",
    "    def expand(left: int, right: int) -> str:\n",
    "        print(f'left >= 0: {left >= 0}')\n",
    "        print(f'right <= len(s): {right <= len(s)}')\n",
    "        print(f's[left] == s[right - 1]: {s[left] == s[right - 1]}')\n",
    "        while left >= 0 and right <= len(s) and s[left] == s[right - 1]:\n",
    "            left -= 1\n",
    "            right += 1\n",
    "        print(f's[{left + 1}:{right - 1}] = {s[left + 1:right - 1]}')\n",
    "        return s[left + 1:right - 1]\n",
    "\n",
    "    # if two pointer cannot exapnd, exit\n",
    "    if len(s) < 2 or s == s[::-1]:\n",
    "        return s\n",
    "\n",
    "    result = ''\n",
    "    # sliding window to right\n",
    "    # best case len(s)\n",
    "    # l = lens(s) - 1\n",
    "    # l * ()\n",
    "    for i in range(len(s) - 1):\n",
    "        print(f'i: {i}')\n",
    "        result = max(result,\n",
    "                        expand(i, i + 1),\n",
    "                        expand(i, i + 2),\n",
    "                        key=len)\n",
    "    return result\n",
    "\n",
    "# input1 = \"babad\"\n",
    "# longestPalindrome(input1)\n",
    "# input2 = 'cbba'\n",
    "# longestPalindrome(input2)\n",
    "input3 = 'abcd'\n",
    "longestPalindrome(input3)"
   ]
  },
  {
   "cell_type": "code",
   "execution_count": 12,
   "metadata": {
    "tags": []
   },
   "outputs": [
    {
     "output_type": "stream",
     "name": "stdout",
     "text": "i : 0\ns[0:4]: abcd\ns[4:0]: dcba\ns[0:3]: abc\ns[3:0]: cba\ns[0:2]: ab\ns[2:0]: ba\ni : 1\ns[1:4]: bcd\ns[4:1]: dcb\ns[1:3]: bc\ns[3:1]: cb\ni : 2\ns[2:4]: cd\ns[4:2]: dc\ni : 3\n"
    },
    {
     "output_type": "execute_result",
     "data": {
      "text/plain": "'b'"
     },
     "metadata": {},
     "execution_count": 12
    }
   ],
   "source": [
    "# brute force solution\n",
    "def longestPalindromeBF(s: str) -> str:\n",
    "    if len(s) < 2:\n",
    "        return s\n",
    "    if len(s) == 2:\n",
    "        if s == s[::-1]:\n",
    "            return s\n",
    "        return s[0]\n",
    "\n",
    "    result = ''\n",
    "    for i in range(len(s)):\n",
    "        print(f'i : {i}')\n",
    "        for j in range(len(s) - 1, i, -1):\n",
    "            # print(f'j : {j}')\n",
    "            print(f's[{i}:{j + 1}]: {s[i:j + 1]}')\n",
    "            print(f's[{j + 1}:{i}]: {s[i:j + 1][::-1]}')\n",
    "            if s[i:j + 1] == s[i:j + 1][::-1]:\n",
    "                if len(result) < len(s[i:j + 1]):\n",
    "                    result = s[i:j + 1]\n",
    "    if not result:\n",
    "        return s[1]\n",
    "    return result\n",
    "\n",
    "\n",
    "input3 = 'abcd'\n",
    "longestPalindromeBF(input3)"
   ]
  },
  {
   "cell_type": "markdown",
   "metadata": {},
   "source": [
    "![list](./img/[20200911]06.logest_palindromic_substring_brute_force.jpg)"
   ]
  },
  {
   "cell_type": "markdown",
   "metadata": {},
   "source": [
    "![list](./img/[20200911]06.logest_palindromic_substring_two_pointer_sliding.jpg)"
   ]
  },
  {
   "cell_type": "code",
   "execution_count": 7,
   "metadata": {},
   "outputs": [
    {
     "output_type": "execute_result",
     "data": {
      "text/plain": "'abba'"
     },
     "metadata": {},
     "execution_count": 7
    }
   ],
   "source": [
    "'''\n",
    "using two pointer sliding\n",
    "wtc : O(n^2)\n",
    "wsc : O(1)\n",
    "'''\n",
    "def longestPalindrome(s: str) -> str:\n",
    "    # check palindrome using two pointer\n",
    "    def expand(left: int, right: int) -> str:\n",
    "        while left >= 0 and right <= len(s) and s[left] == s[right - 1]:\n",
    "            left -= 1\n",
    "            right += 1\n",
    "        return s[left + 1:right - 1]\n",
    "    \n",
    "    # return self palindrome\n",
    "    if len(s) < 2 or s == s[::-1]:\n",
    "        return s\n",
    "    \n",
    "    result = ''\n",
    "    # sliding window\n",
    "    for i in range(len(s) - 1):\n",
    "        result = max(result,\n",
    "                     expand(i, i + 1),\n",
    "                     expand(i, i + 2),\n",
    "                     key=len)\n",
    "    return result\n",
    "\n",
    "input3 = 'abba'\n",
    "longestPalindrome(input3)"
   ]
  },
  {
   "cell_type": "code",
   "execution_count": null,
   "metadata": {},
   "outputs": [],
   "source": []
  }
 ]
}