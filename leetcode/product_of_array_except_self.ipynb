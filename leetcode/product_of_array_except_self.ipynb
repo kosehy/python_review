{
 "metadata": {
  "language_info": {
   "codemirror_mode": {
    "name": "ipython",
    "version": 3
   },
   "file_extension": ".py",
   "mimetype": "text/x-python",
   "name": "python",
   "nbconvert_exporter": "python",
   "pygments_lexer": "ipython3",
   "version": "3.8.5-final"
  },
  "orig_nbformat": 2,
  "kernelspec": {
   "name": "python_defaultSpec_1598623912558",
   "display_name": "Python 3.8.5 64-bit"
  }
 },
 "nbformat": 4,
 "nbformat_minor": 2,
 "cells": [
  {
   "cell_type": "markdown",
   "metadata": {},
   "source": [
    "238. Product of Array Except Self\n",
    "\n",
    "Medium\n",
    "\n",
    "Given an array nums of n integers where n > 1,  return an array output such that output[i] is equal to the product of all the elements of nums except nums[i].\n",
    "\n",
    "Example:\n",
    "\n",
    "Input:  [1,2,3,4]\n",
    "Output: [24,12,8,6]\n",
    "\n",
    "Constraint: It's guaranteed that the product of the elements of any prefix or suffix of the array (including the whole array) fits in a 32 bit integer.\n",
    "\n",
    "Note: Please solve it without division and in O(n).\n",
    "\n",
    "Follow up:\n",
    "Could you solve it with constant space complexity? (The output array does not count as extra space for the purpose of space complexity analysis.)"
   ]
  },
  {
   "cell_type": "code",
   "execution_count": 4,
   "metadata": {
    "tags": []
   },
   "outputs": [
    {
     "output_type": "execute_result",
     "data": {
      "text/plain": "[24, 12, 8, 6]"
     },
     "metadata": {},
     "execution_count": 4
    }
   ],
   "source": [
    "# brute force\n",
    "# worst case space complexity : O(1)\n",
    "# worst case time complexity : O(n^2)\n",
    "# Runtime : time limit exceeded\n",
    "\n",
    "from typing import List\n",
    "\n",
    "def productExceptSelf(nums: List[int]) -> List[int]:\n",
    "    result = []\n",
    "    idx = 0\n",
    "    while idx < len(nums):\n",
    "        prod = 1\n",
    "        for i, n in enumerate(nums):\n",
    "            if idx == i:\n",
    "                continue\n",
    "            prod *= n\n",
    "        idx += 1\n",
    "        result.append(prod)\n",
    "    return result\n",
    "\n",
    "nums = [1,2,3,4]\n",
    "productExceptSelf(nums)"
   ]
  },
  {
   "cell_type": "code",
   "execution_count": 5,
   "metadata": {},
   "outputs": [
    {
     "output_type": "execute_result",
     "data": {
      "text/plain": "[24, 12, 8, 6]"
     },
     "metadata": {},
     "execution_count": 5
    }
   ],
   "source": [
    "# use left product and right product\n",
    "# worst case space complexity : O(1)\n",
    "# worst case time complexity : O(n)\n",
    "# Runtime : 120ms\n",
    "\n",
    "from typing import List\n",
    "\n",
    "def productExceptSelf(nums: List[int]) -> List[int]:\n",
    "    result = []\n",
    "    prod = 1\n",
    "    for i in range(0, len(nums)):\n",
    "        result.append(prod)\n",
    "        prod *= nums[i]\n",
    "\n",
    "    prod = 1\n",
    "    for i in range(len(nums) - 1, 0 - 1, -1):\n",
    "        result[i] *= prod\n",
    "        prod *= nums[i]\n",
    "    return result\n",
    "\n",
    "nums = [1,2,3,4]\n",
    "productExceptSelf(nums)"
   ]
  }
 ]
}