{
 "metadata": {
  "language_info": {
   "codemirror_mode": {
    "name": "ipython",
    "version": 3
   },
   "file_extension": ".py",
   "mimetype": "text/x-python",
   "name": "python",
   "nbconvert_exporter": "python",
   "pygments_lexer": "ipython3",
   "version": "3.8.5-final"
  },
  "orig_nbformat": 2,
  "kernelspec": {
   "name": "python_defaultSpec_1599966047707",
   "display_name": "Python 3.8.5 64-bit"
  }
 },
 "nbformat": 4,
 "nbformat_minor": 2,
 "cells": [
  {
   "cell_type": "markdown",
   "metadata": {},
   "source": [
    "561. Array Partition I\n",
    "\n",
    "Easy\n",
    "\n",
    "Given an array of 2n integers, your task is to group these integers into n pairs of integer, say (a1, b1), (a2, b2), ..., (an, bn) which makes sum of min(ai, bi) for all i from 1 to n as large as possible.\n",
    "\n",
    "Example 1:\n",
    "\n",
    "Input: [1,4,3,2]\n",
    "\n",
    "Output: 4\n",
    "\n",
    "Explanation: n is 2, and the maximum sum of pairs is 4 = min(1, 2) + min(3, 4).\n",
    "\n",
    "Note:\n",
    "\n",
    "    n is a positive integer, which is in the range of [1, 10000].\n",
    "\n",
    "    All the integers in the array will be in the range of [-10000, 10000]."
   ]
  },
  {
   "cell_type": "code",
   "execution_count": 5,
   "metadata": {},
   "outputs": [
    {
     "output_type": "execute_result",
     "data": {
      "text/plain": "4"
     },
     "metadata": {},
     "execution_count": 5
    }
   ],
   "source": [
    "# brute force\n",
    "# worst case space complexity : O(1)\n",
    "# worst case time complexity : O(nlogn)\n",
    "# Runtime : 320ms\n",
    "\n",
    "from typing import List\n",
    "\n",
    "def arrayPairSum(nums: List[int]) -> int:\n",
    "    result = []\n",
    "    nums.sort()\n",
    "    idx = 0\n",
    "    sum = 0\n",
    "    while idx < len(nums):\n",
    "        result.append((nums[idx], nums[idx + 1]))\n",
    "        idx += 2\n",
    "    for i in result:\n",
    "        sum += i[0]\n",
    "    return sum\n",
    "\n",
    "nums = [1,4,3,2,8,10,9,23]\n",
    "arrayPairSum(nums)"
   ]
  },
  {
   "cell_type": "code",
   "execution_count": 9,
   "metadata": {
    "tags": []
   },
   "outputs": [
    {
     "output_type": "stream",
     "name": "stdout",
     "text": "[1, 2, 2, 3]\n1\n2\n"
    },
    {
     "output_type": "execute_result",
     "data": {
      "text/plain": "3"
     },
     "metadata": {},
     "execution_count": 9
    }
   ],
   "source": [
    "# pick even number\n",
    "# worst case space complexity : O(1)\n",
    "# worst case time complexity : O(nlogn)\n",
    "# Runtime : 300ms\n",
    "\n",
    "from typing import List\n",
    "\n",
    "def arrayPairSum(nums: List[int]) -> int:\n",
    "    nums.sort()\n",
    "    sum = 0\n",
    "    for i in nums[::2]:\n",
    "        print(i)\n",
    "        sum += i\n",
    "    return sum\n",
    "\n",
    "nums = [1, 2, 3, 2]\n",
    "nums.sort()\n",
    "print(nums)\n",
    "arrayPairSum(nums)"
   ]
  },
  {
   "cell_type": "code",
   "execution_count": 10,
   "metadata": {
    "tags": []
   },
   "outputs": [
    {
     "output_type": "stream",
     "name": "stdout",
     "text": "[1, 2, 2, 3]\n"
    },
    {
     "output_type": "execute_result",
     "data": {
      "text/plain": "3"
     },
     "metadata": {},
     "execution_count": 10
    }
   ],
   "source": [
    "# pick even number\n",
    "# worst case space complexity : O(1)\n",
    "# worst case time complexity : O(nlogn)\n",
    "# Runtime : \n",
    "\n",
    "from typing import List\n",
    "\n",
    "def arrayPairSum(nums: List[int]) -> int:\n",
    "    nums.sort()\n",
    "    sum = 0\n",
    "    for i, n in enumerate(nums):\n",
    "        if i % 2 == 0:\n",
    "            sum += n\n",
    "    return sum\n",
    "\n",
    "nums = [1, 2, 3, 2]\n",
    "nums.sort()\n",
    "print(nums)\n",
    "arrayPairSum(nums)"
   ]
  },
  {
   "cell_type": "code",
   "execution_count": 11,
   "metadata": {
    "tags": []
   },
   "outputs": [
    {
     "output_type": "stream",
     "name": "stdout",
     "text": "[1, 2, 2, 3]\n"
    },
    {
     "output_type": "execute_result",
     "data": {
      "text/plain": "3"
     },
     "metadata": {},
     "execution_count": 11
    }
   ],
   "source": [
    "# pythonic way\n",
    "# worst case space complexity : O(1)\n",
    "# worst case time complexity : O(nlogn)\n",
    "# Runtime : \n",
    "\n",
    "from typing import List\n",
    "\n",
    "def arrayPairSum(nums: List[int]) -> int:\n",
    "    return sum(sorted(nums[::2]))\n",
    "\n",
    "nums = [1, 2, 3, 2]\n",
    "nums.sort()\n",
    "print(nums)\n",
    "arrayPairSum(nums)"
   ]
  },
  {
   "cell_type": "code",
   "execution_count": 2,
   "metadata": {
    "tags": []
   },
   "outputs": [
    {
     "output_type": "stream",
     "name": "stdout",
     "text": "[1, 2, 2, 3]\n"
    },
    {
     "output_type": "execute_result",
     "data": {
      "text/plain": "3"
     },
     "metadata": {},
     "execution_count": 2
    }
   ],
   "source": [
    "'''\n",
    "using sorted list\n",
    "wtc : O(NlogN)\n",
    "wpc : O(N)\n",
    "'''\n",
    "from typing import List\n",
    "def arrayPairSum(nums: List[int]) -> int:\n",
    "    sum = 0\n",
    "    pair = []\n",
    "    nums.sort()\n",
    "\n",
    "    for n in nums:\n",
    "        # make pair to calculate min sum\n",
    "        pair.append(n)\n",
    "        if len(pair) == 2:\n",
    "            sum += min(pair)\n",
    "            pair = []\n",
    "    return sum\n",
    "\n",
    "nums = [1, 2, 3, 2]\n",
    "nums.sort()\n",
    "print(nums)\n",
    "arrayPairSum(nums)"
   ]
  },
  {
   "cell_type": "code",
   "execution_count": 5,
   "metadata": {
    "tags": []
   },
   "outputs": [
    {
     "output_type": "stream",
     "name": "stdout",
     "text": "[1, 2, 2, 3]\n"
    },
    {
     "output_type": "execute_result",
     "data": {
      "text/plain": "3"
     },
     "metadata": {},
     "execution_count": 5
    }
   ],
   "source": [
    "'''\n",
    "adding second elements to sum\n",
    "wtc : O(NlogN)\n",
    "wsc : O(1)\n",
    "'''\n",
    "from typing import List\n",
    "\n",
    "def arrayPartition(nums: List[int]) -> int:\n",
    "    sum = 0\n",
    "    for i, n in enumerate(nums):\n",
    "        if i % 2 == 0:\n",
    "            sum += n\n",
    "    return sum\n",
    "\n",
    "nums = [1, 2, 3, 2]\n",
    "nums.sort()\n",
    "print(nums)\n",
    "arrayPairSum(nums)"
   ]
  },
  {
   "cell_type": "code",
   "execution_count": 6,
   "metadata": {
    "tags": []
   },
   "outputs": [
    {
     "output_type": "stream",
     "name": "stdout",
     "text": "[1, 2, 2, 3]\n"
    },
    {
     "output_type": "execute_result",
     "data": {
      "text/plain": "3"
     },
     "metadata": {},
     "execution_count": 6
    }
   ],
   "source": [
    "'''\n",
    "using pythonic way\n",
    "wtc : O(NlogN)\n",
    "wsc : O(1)\n",
    "'''\n",
    "from typing import List\n",
    "\n",
    "def arrayPartition(nums: List[int]) -> int:\n",
    "    return sum(sorted(nums[::2]))\n",
    "\n",
    "nums = [1, 2, 3, 2]\n",
    "nums.sort()\n",
    "print(nums)\n",
    "arrayPairSum(nums)"
   ]
  },
  {
   "cell_type": "code",
   "execution_count": null,
   "metadata": {},
   "outputs": [],
   "source": []
  }
 ]
}