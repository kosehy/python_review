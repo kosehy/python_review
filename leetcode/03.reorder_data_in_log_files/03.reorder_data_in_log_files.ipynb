{
 "metadata": {
  "language_info": {
   "codemirror_mode": {
    "name": "ipython",
    "version": 3
   },
   "file_extension": ".py",
   "mimetype": "text/x-python",
   "name": "python",
   "nbconvert_exporter": "python",
   "pygments_lexer": "ipython3",
   "version": "3.8.5-final"
  },
  "orig_nbformat": 2,
  "kernelspec": {
   "name": "python_defaultSpec_1599446878027",
   "display_name": "Python 3.8.5 64-bit"
  }
 },
 "nbformat": 4,
 "nbformat_minor": 2,
 "cells": [
  {
   "cell_type": "markdown",
   "metadata": {},
   "source": [
    "937. Reorder Data in Log Files\n",
    "\n",
    "Easy\n",
    "\n",
    "You have an array of logs.  Each log is a space delimited string of words.\n",
    "\n",
    "For each log, the first word in each log is an alphanumeric identifier.  Then, either:\n",
    "\n",
    "    Each word after the identifier will consist only of lowercase letters, or;\n",
    "    Each word after the identifier will consist only of digits.\n",
    "\n",
    "We will call these two varieties of logs letter-logs and digit-logs.  It is guaranteed that each log has at least one word after its identifier.\n",
    "\n",
    "Reorder the logs so that all of the letter-logs come before any digit-log.  The letter-logs are ordered lexicographically ignoring identifier, with the identifier used in case of ties.  The digit-logs should be put in their original order.\n",
    "\n",
    "Return the final order of the logs.\n",
    "\n",
    " \n",
    "\n",
    "Example 1:\n",
    "\n",
    "Input: logs = [\"dig1 8 1 5 1\",\"let1 art can\",\"dig2 3 6\",\"let2 own kit dig\",\"let3 art zero\"]\n",
    "\n",
    "Output: [\"let1 art can\",\"let3 art zero\",\"let2 own kit dig\",\"dig1 8 1 5 1\",\"dig2 3 6\"]\n",
    "\n",
    " \n",
    "\n",
    "Constraints:\n",
    "\n",
    "    0 <= logs.length <= 100\n",
    "    3 <= logs[i].length <= 100\n",
    "    logs[i] is guaranteed to have an identifier, and a word after the identifier."
   ]
  },
  {
   "cell_type": "code",
   "execution_count": 18,
   "metadata": {
    "tags": []
   },
   "outputs": [
    {
     "output_type": "stream",
     "name": "stdout",
     "text": "letterLogs: [['let1', 'art', 'can'], ['let2', 'own', 'kit', 'dig'], ['let3', 'art', 'zero']]\ndigitLogs: [['dig1', '8', '1', '5', '1'], ['dig2', '3', '6']]\n"
    }
   ],
   "source": [
    "from typing import List\n",
    "\n",
    "def reorderLogFiles(logs: List[str]) -> List[str]:\n",
    "    letterLogs = []\n",
    "    digitLogs = []\n",
    "    for i in logs:\n",
    "        i = i.split()\n",
    "        # print(f'i[1][0]: {i[1][0]}')\n",
    "        if i[1].isalpha():\n",
    "            letterLogs.append(i)\n",
    "        else:\n",
    "            digitLogs.append(i)\n",
    "    print(f'letterLogs: {letterLogs}')\n",
    "    print(f'digitLogs: {digitLogs}')\n",
    "logs = [\"dig1 8 1 5 1\",\"let1 art can\",\"dig2 3 6\",\"let2 own kit dig\",\"let3 art zero\"]\n",
    "reorderLogFiles(logs)"
   ]
  },
  {
   "cell_type": "code",
   "execution_count": 22,
   "metadata": {
    "tags": []
   },
   "outputs": [
    {
     "output_type": "stream",
     "name": "stdout",
     "text": "['let1 art can', 'let3 art zero', 'let2 own kit dig', 'dig1 8 1 5 1', 'dig2 3 6']\n"
    }
   ],
   "source": [
    "from typing import List\n",
    "\n",
    "def reorderLogFiles(logs: List[str]) -> List[str]:\n",
    "    letterLogs = []\n",
    "    digitLogs = []\n",
    "    for i in logs:\n",
    "        if i.split()[1].isalpha():\n",
    "            letterLogs.append(i)\n",
    "        else:\n",
    "            digitLogs.append(i)\n",
    "    # func(letterLogs)\n",
    "    # print(letterLogs)\n",
    "    # for i in letterLogs:\n",
    "        # print(f'i.split()[1:] : {i.split()[1:]}')\n",
    "        # print(f'i.split()[0] : {i.split()[0]}')\n",
    "    # use lambda expression to sort letterLogs based on letters without identifier,\n",
    "    # with the identifier used in case of ties\n",
    "    letterLogs.sort(key=lambda x: (x.split()[1:], x.split()[0]))\n",
    "    return letterLogs + digitLogs\n",
    "\n",
    "logs = [\"dig1 8 1 5 1\",\"let1 art can\",\"dig2 3 6\",\"let2 own kit dig\",\"let3 art zero\"]\n",
    "print(reorderLogFiles(logs))"
   ]
  },
  {
   "cell_type": "markdown",
   "metadata": {},
   "source": [
    "![list](./../../img/leetcode/03.reorder_data_in_log_files/[20200907]03.reorder_data_in_log_files_sort.PNG)"
   ]
  },
  {
   "cell_type": "code",
   "execution_count": 21,
   "metadata": {},
   "outputs": [
    {
     "output_type": "execute_result",
     "data": {
      "text/plain": "['let1 art can',\n 'let3 art zero',\n 'let2 own kit dig',\n 'dig1 8 1 5 1',\n 'dig2 3 6']"
     },
     "metadata": {},
     "execution_count": 21
    }
   ],
   "source": [
    "# using sort and lambda function\n",
    "# wsc : O(MNlogN)\n",
    "# wtc : O(MN)\n",
    "\n",
    "from typing import List\n",
    "\n",
    "def reorderLogFiles(logs: List[str]) -> List[str]:\n",
    "    letterLogs = []\n",
    "    digitLogs = []\n",
    "    \n",
    "    for i in logs:\n",
    "        if i.split()[1].isalpha():\n",
    "            letterLogs.append(i)\n",
    "        else:\n",
    "            digitLogs.append(i)\n",
    "    \n",
    "    # how to compare remaining list elements\n",
    "    letterLogs.sort(key=compareElements)\n",
    "    # letterLogs.sort(key=lambda x: (x.split()[1:], x.split()[0]))\n",
    "    return letterLogs + digitLogs\n",
    "\n",
    "def compareElements(x):\n",
    "    return (x.split()[1:], x.split()[0])\n",
    "logs = [\"dig1 8 1 5 1\",\"let1 art can\",\"dig2 3 6\",\"let2 own kit dig\",\"let3 art zero\"]\n",
    "reorderLogFiles(logs)\n"
   ]
  },
  {
   "cell_type": "code",
   "execution_count": 20,
   "metadata": {},
   "outputs": [
    {
     "output_type": "execute_result",
     "data": {
      "text/plain": "['let1 art can',\n 'let3 art zero',\n 'let2 own kit dig',\n 'dig1 8 1 5 1',\n 'dig2 3 6']"
     },
     "metadata": {},
     "execution_count": 20
    }
   ],
   "source": [
    "# using sort and lambda funciton 2\n",
    "# wsc : O(MNlogN)\n",
    "# wtc : O(MN)\n",
    "\n",
    "from typing import List\n",
    "\n",
    "def reorderLogFiles(logs: List[str]) -> List[str]:\n",
    "    letterLogs = []\n",
    "    digitLogs = []\n",
    "    \n",
    "    for i in logs:\n",
    "        if i.split()[1].isalpha():\n",
    "            letterLogs.append(i)\n",
    "        else:\n",
    "            digitLogs.append(i)\n",
    "    \n",
    "    letterLogs.sort(key=lambda x: (x.split()[1:], x.split()[0]))\n",
    "    return letterLogs + digitLogs\n",
    "\n",
    "logs = [\"dig1 8 1 5 1\",\"let1 art can\",\"dig2 3 6\",\"let2 own kit dig\",\"let3 art zero\"]\n",
    "reorderLogFiles(logs)"
   ]
  },
  {
   "cell_type": "code",
   "execution_count": null,
   "metadata": {},
   "outputs": [],
   "source": []
  }
 ]
}