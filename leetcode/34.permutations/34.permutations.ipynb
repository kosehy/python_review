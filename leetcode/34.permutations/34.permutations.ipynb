{
 "metadata": {
  "language_info": {
   "codemirror_mode": {
    "name": "ipython",
    "version": 3
   },
   "file_extension": ".py",
   "mimetype": "text/x-python",
   "name": "python",
   "nbconvert_exporter": "python",
   "pygments_lexer": "ipython3",
   "version": "3.8.5-final"
  },
  "orig_nbformat": 2,
  "kernelspec": {
   "name": "Python 3.8.5 64-bit",
   "display_name": "Python 3.8.5 64-bit",
   "metadata": {
    "interpreter": {
     "hash": "11fa44a61085d99ea4f6a9abba32e9367e180273639b7882c106310484974003"
    }
   }
  }
 },
 "nbformat": 4,
 "nbformat_minor": 2,
 "cells": [
  {
   "source": [
    "46. Permutations\n",
    "\n",
    "Medium\n",
    "\n",
    "Given a collection of distinct integers, return all possible permutations.\n",
    "\n",
    "Example:\n",
    "\n",
    "Input: [1,2,3]\n",
    "\n",
    "Output:\n",
    "\n",
    "[\n",
    "  \n",
    "  [1,2,3],\n",
    "\n",
    "  [1,3,2],\n",
    "\n",
    "  [2,1,3],\n",
    "\n",
    "  [2,3,1],\n",
    "\n",
    "  [3,1,2],\n",
    "  \n",
    "  [3,2,1]\n",
    "  \n",
    "]"
   ],
   "cell_type": "markdown",
   "metadata": {}
  },
  {
   "cell_type": "code",
   "execution_count": 3,
   "metadata": {
    "tags": []
   },
   "outputs": [
    {
     "output_type": "stream",
     "name": "stdout",
     "text": "[[1, 2, 3], [1, 3, 2], [2, 1, 3], [2, 3, 1], [3, 1, 2], [3, 2, 1]]\n"
    }
   ],
   "source": [
    "'''\n",
    "using recurssive\n",
    "wtc : O()\n",
    "wsc : O()\n",
    "'''\n",
    "\n",
    "from typing import List\n",
    "\n",
    "def permutation(nums: List[int]) -> List[List[int]]:\n",
    "    results = []\n",
    "    prev_elements = []\n",
    "\n",
    "    def dfs(elements):\n",
    "        # if reached to leaf node, add to result\n",
    "        if len(elements) == 0:\n",
    "            results.append(prev_elements[:])\n",
    "\n",
    "        # recurssive call for making permutation\n",
    "        for e in elements:\n",
    "            next_elements = elements[:]\n",
    "            next_elements.remove(e)\n",
    "\n",
    "            prev_elements.append(e)\n",
    "            dfs(next_elements)\n",
    "            prev_elements.pop()\n",
    "            \n",
    "    dfs(nums)\n",
    "    return results\n",
    "\n",
    "input = [1, 2, 3]\n",
    "\n",
    "print(permutation(input))"
   ]
  },
  {
   "cell_type": "code",
   "execution_count": null,
   "metadata": {},
   "outputs": [],
   "source": []
  }
 ]
}