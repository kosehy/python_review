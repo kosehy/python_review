{
 "metadata": {
  "language_info": {
   "codemirror_mode": {
    "name": "ipython",
    "version": 3
   },
   "file_extension": ".py",
   "mimetype": "text/x-python",
   "name": "python",
   "nbconvert_exporter": "python",
   "pygments_lexer": "ipython3",
   "version": "3.8.5-final"
  },
  "orig_nbformat": 2,
  "kernelspec": {
   "name": "python_defaultSpec_1598573683399",
   "display_name": "Python 3.8.5 64-bit"
  }
 },
 "nbformat": 4,
 "nbformat_minor": 2,
 "cells": [
  {
   "cell_type": "markdown",
   "metadata": {},
   "source": [
    "Given an array nums of n integers, are there elements a, b, c in nums such that a + b + c = 0? Find all unique triplets in the array which gives the sum of zero.\n",
    "\n",
    "Note:\n",
    "The solution set must not contain duplicate triplets.\n",
    "\n",
    "Example:\n",
    "Given array nums = [-1, 0, 1, 2, -1, -4],\n",
    "\n",
    "A solution set is:\n",
    "[\n",
    "  [-1, 0, 1],\n",
    "  [-1, -1, 2]\n",
    "]\n",
    "\n"
   ]
  },
  {
   "cell_type": "code",
   "execution_count": 7,
   "metadata": {},
   "outputs": [
    {
     "output_type": "execute_result",
     "data": {
      "text/plain": "[(-1, -1, 2), (-1, 0, 1)]"
     },
     "metadata": {},
     "execution_count": 7
    }
   ],
   "source": [
    "# using three pointer\n",
    "# worst case space complexity : O(1)\n",
    "# worst case time complexity : O(n^3)\n",
    "# Runtime 52ms\n",
    "\n",
    "from typing import List\n",
    "\n",
    "def threeSum(nums: List[int]) -> List[List[int]]:\n",
    "    result = []\n",
    "    nums.sort()\n",
    "\n",
    "    # brute force\n",
    "    for i in range(len(nums) - 2):\n",
    "        if i > 0 and nums[i] == nums[i - 1]:\n",
    "            continue\n",
    "        for j in range(i + 1, len(nums) - 1):\n",
    "            if  j > i + 1 and nums[j] == nums[j - 1]:\n",
    "                continue\n",
    "            for k in range(j + 1, len(nums)):\n",
    "                if k > j + 1 and nums[k] == nums[k - 1]:\n",
    "                    continue\n",
    "                if nums[i] + nums[j] + nums[k] == 0:\n",
    "                    result.append((nums[i], nums[j], nums[k]))\n",
    "    return result\n",
    "\n",
    "nums = [-1, 0, 1, 2, -1, -4]\n",
    "threeSum(nums)"
   ]
  },
  {
   "cell_type": "code",
   "execution_count": 6,
   "metadata": {
    "tags": []
   },
   "outputs": [
    {
     "output_type": "stream",
     "name": "stdout",
     "text": "nums.sort: [-7, -4, -2, -1, -1, 0, 1, 2, 2, 7]\n"
    },
    {
     "output_type": "execute_result",
     "data": {
      "text/plain": "[(-7, 0, 7), (-4, 2, 2), (-2, 0, 2), (-1, -1, 2), (-1, 0, 1)]"
     },
     "metadata": {},
     "execution_count": 6
    }
   ],
   "source": [
    "# using two pointer\n",
    "# worst case space complexity : O(1)\n",
    "# worst case time complexity : O(n^2)\n",
    "# Runtime time : limit exceed\n",
    "\n",
    "from typing import List\n",
    "\n",
    "def threeSum(nums: List[int]) -> List[List[int]]:\n",
    "    result = []\n",
    "    nums.sort()\n",
    "\n",
    "    # brute force\n",
    "    for i in range(len(nums) - 2):\n",
    "        if i > 0 and nums[i] == nums[i - 1]:\n",
    "            continue\n",
    "        left, right = i + 1, len(nums) - 1\n",
    "        while left < right:\n",
    "            sum = nums[i] + nums[left] + nums[right]\n",
    "            if sum < 0:\n",
    "                left += 1\n",
    "            elif sum > 0:\n",
    "                right -= 1\n",
    "            else:\n",
    "                result.append((nums[i], nums[left], nums[right]))\n",
    "\n",
    "                while left < right and nums[left] == nums[left + 1]:\n",
    "                    left += 1\n",
    "                while left < right and nums[right] == nums[right - 1]:\n",
    "                    right -= 1\n",
    "                left += 1\n",
    "                right -= 1\n",
    "\n",
    "    return result\n",
    "\n",
    "nums1 = [-1, 0, 1, 2, -1, -4]\n",
    "nums = [-1, 0, 1, 2, -1, -4, 7, -7, 2, -2]\n",
    "nums.sort()\n",
    "print(f'nums.sort: {nums}')\n",
    "threeSum(nums)"
   ]
  },
  {
   "cell_type": "code",
   "execution_count": 15,
   "metadata": {},
   "outputs": [
    {
     "output_type": "execute_result",
     "data": {
      "text/plain": "[(-7, 0, 7), (-4, 2, 2), (-2, 0, 2), (-1, -1, 2), (-1, 0, 1)]"
     },
     "metadata": {},
     "execution_count": 15
    }
   ],
   "source": [
    "# using two pointer\n",
    "# worst case space complexity : O(1)\n",
    "# worst case time complexity : O(n^2)\n",
    "# Runtime time : 956ms\n",
    "\n",
    "def threeSum(nums: List[int]) -> List[List[int]]:\n",
    "    result = []\n",
    "    nums.sort()\n",
    "\n",
    "    for i in range(len(nums) - 2):\n",
    "        if i > 0 and nums[i - 1] == nums[i]:\n",
    "            continue\n",
    "        left, right = i + 1, len(nums) - 1\n",
    "        while left < right:\n",
    "            sum = nums[i] + nums[left] + nums[right]\n",
    "            if sum < 0:\n",
    "                left += 1\n",
    "            elif sum > 0:\n",
    "                right -= 1\n",
    "            else:\n",
    "                result.append((nums[i], nums[left], nums[right]))\n",
    "\n",
    "                while left < right and nums[left + 1] == nums[left]:\n",
    "                    left += 1\n",
    "                while left < right and nums[right - 1] == nums[right]:\n",
    "                    right -= 1\n",
    "                left += 1\n",
    "                right -= 1\n",
    "    return result\n",
    "\n",
    "nums1 = [-1, 0, 1, 2, -1, -4]\n",
    "nums = [-1, 0, 1, 2, -1, -4, 7, -7, 2, -2]\n",
    "threeSum(nums)"
   ]
  },
  {
   "cell_type": "code",
   "execution_count": null,
   "metadata": {},
   "outputs": [],
   "source": []
  }
 ]
}