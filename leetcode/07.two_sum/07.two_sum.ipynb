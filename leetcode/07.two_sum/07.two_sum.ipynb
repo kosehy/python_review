{
 "metadata": {
  "language_info": {
   "codemirror_mode": {
    "name": "ipython",
    "version": 3
   },
   "file_extension": ".py",
   "mimetype": "text/x-python",
   "name": "python",
   "nbconvert_exporter": "python",
   "pygments_lexer": "ipython3",
   "version": "3.8.5-final"
  },
  "orig_nbformat": 2,
  "kernelspec": {
   "name": "python_defaultSpec_1597712492251",
   "display_name": "Python 3.8.5 64-bit"
  }
 },
 "nbformat": 4,
 "nbformat_minor": 2,
 "cells": [
  {
   "cell_type": "markdown",
   "metadata": {},
   "source": [
    "Given an array of integers, return indices of the two numbers such that they add up to a specific target.\n",
    "\n",
    "You may assume that each input would have exactly one solution, and you may not use the same element twice.\n",
    "\n",
    "Example:\n",
    "\n",
    "Given nums = [2, 7, 11, 15], target = 9,\n",
    "\n",
    "Because nums[0] + nums[1] = 2 + 7 = 9,\n",
    "return [0, 1]"
   ]
  },
  {
   "cell_type": "code",
   "execution_count": 7,
   "metadata": {
    "tags": []
   },
   "outputs": [
    {
     "output_type": "stream",
     "name": "stdout",
     "text": "[0, 1]\n"
    }
   ],
   "source": [
    "from typing import List\n",
    "\n",
    "# brute force v1\n",
    "# worst case space complexity : O(1)\n",
    "# worst case time complexity : O(n^2)\n",
    "# Runtime 5940ms\n",
    "def twoSum(nums: List[int], target: int) -> List[int]:\n",
    "    result = []\n",
    "    for i in range(len(nums) - 1):\n",
    "        for j in range(i + 1, len(nums)):\n",
    "            if nums[i] + nums[j] == target:\n",
    "                result.append(i)\n",
    "                result.append(j)\n",
    "                return result\n",
    "\n",
    "nums = [2, 7, 11, 15]\n",
    "target = 9\n",
    "print(twoSum(nums, target))"
   ]
  },
  {
   "cell_type": "code",
   "execution_count": 8,
   "metadata": {
    "tags": []
   },
   "outputs": [
    {
     "output_type": "stream",
     "name": "stdout",
     "text": "[0, 1]\n"
    }
   ],
   "source": [
    "from typing import List\n",
    "\n",
    "# brute force v2\n",
    "# worst case space complexity : O(1)\n",
    "# worst case time complexity : O(n^2)\n",
    "# Runtime 5860ms\n",
    "def twoSum(nums: List[int], target: int) -> List[int]:\n",
    "    for i in range(len(nums) - 1):\n",
    "        for j in range(i + 1, len(nums)):\n",
    "            if nums[i] + nums[j] == target:\n",
    "                return [i, j]\n",
    "nums = [2, 7, 11, 15]\n",
    "target = \n",
    "print(twoSum(nums, target))"
   ]
  },
  {
   "cell_type": "code",
   "execution_count": 15,
   "metadata": {
    "tags": []
   },
   "outputs": [
    {
     "output_type": "stream",
     "name": "stdout",
     "text": "[0, 1]\n"
    }
   ],
   "source": [
    "from typing import List\n",
    "\n",
    "# brute force with in function\n",
    "# worst case space complexity : O(1)\n",
    "# worst case time complexity : O(n^2)\n",
    "# Runtime 1112ms\n",
    "def twoSum(nums: List[int], target: int) -> List[int]:\n",
    "    for i, n in enumerate(nums):\n",
    "        complement = target - n\n",
    "\n",
    "        if complement in nums[i + 1:]:\n",
    "            return [nums.index(n), nums[i + 1:].index(complement) + (i + 1)]\n",
    "\n",
    "nums = [2, 7, 11, 15]\n",
    "target = 9\n",
    "print(twoSum(nums, target))"
   ]
  },
  {
   "cell_type": "code",
   "execution_count": 14,
   "metadata": {
    "tags": []
   },
   "outputs": [
    {
     "output_type": "stream",
     "name": "stdout",
     "text": "0\n"
    }
   ],
   "source": [
    "nums = [2, 7, 11, 15]\n",
    "print(nums[1:].index(7))"
   ]
  },
  {
   "cell_type": "code",
   "execution_count": 9,
   "metadata": {
    "tags": []
   },
   "outputs": [
    {
     "output_type": "stream",
     "name": "stdout",
     "text": "{2: 0, 7: 1, 11: 2, 15: 3}\nnums_map: {2: 0, 7: 1, 11: 2, 15: 3}\n9 - 2: 7\n[0, 1]\n"
    }
   ],
   "source": [
    "from typing import List\n",
    "\n",
    "# Dictionary v1\n",
    "# worst case space complexity : O(1)\n",
    "# worst case time complexity : O(n^2)\n",
    "# amortized time complexity : O(n)\n",
    "# Runtime 48ms\n",
    "def twoSum(nums: List[int], target: int) -> List[int]:\n",
    "    nums_map = {}\n",
    "    for i, num in enumerate(nums):\n",
    "        nums_map[num] = i\n",
    "    print(nums_map)\n",
    "    for i, num in enumerate(nums):\n",
    "        if target - num in nums_map and i != nums_map[target - num]:\n",
    "            print(f'nums_map: {nums_map}')\n",
    "            print(f'{target} - {num}: {target - num}')\n",
    "            return [nums.index(num), nums_map[target - num]]\n",
    "nums = [2, 7, 11, 15]\n",
    "target = 9\n",
    "print(twoSum(nums, target))"
   ]
  },
  {
   "cell_type": "code",
   "execution_count": 8,
   "metadata": {
    "tags": []
   },
   "outputs": [
    {
     "output_type": "stream",
     "name": "stdout",
     "text": "nums_map: {2: 0}\n9 - 7: 2\n[0, 1]\n"
    }
   ],
   "source": [
    "from typing import List\n",
    "\n",
    "# Dictionary v2\n",
    "# worst case space complexity : O(1)\n",
    "# worst case time complexity : O(n^2)\n",
    "# amortized time complexity : O(n)\n",
    "# Runtime ms\n",
    "def twoSum(nums: List[int], target: int) -> List[int]:\n",
    "    nums_map = {}\n",
    "    for i, num in enumerate(nums):\n",
    "        if target - num in nums_map:\n",
    "            print(f'nums_map: {nums_map}')\n",
    "            print(f'{target} - {num}: {target - num}')\n",
    "            return [nums_map[target - num], i]\n",
    "        nums_map[num] = i\n",
    "nums = [2, 7, 11, 15]\n",
    "target = 9\n",
    "print(twoSum(nums, target))"
   ]
  },
  {
   "cell_type": "code",
   "execution_count": null,
   "metadata": {},
   "outputs": [],
   "source": []
  }
 ]
}