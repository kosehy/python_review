{
 "metadata": {
  "language_info": {
   "codemirror_mode": {
    "name": "ipython",
    "version": 3
   },
   "file_extension": ".py",
   "mimetype": "text/x-python",
   "name": "python",
   "nbconvert_exporter": "python",
   "pygments_lexer": "ipython3",
   "version": 3
  },
  "orig_nbformat": 2,
  "kernelspec": {
   "name": "python_defaultSpec_1597151052517",
   "display_name": "Python 3.8.5 64-bit"
  }
 },
 "nbformat": 4,
 "nbformat_minor": 2,
 "cells": [
  {
   "cell_type": "code",
   "execution_count": null,
   "metadata": {},
   "outputs": [],
   "source": [
    "'''\n",
    "What are lambda functions in python?\n",
    "In Python, an anonymous function is a function that is defined without a name.\n",
    "WHile normal functions are defined using the def keyword in Python, anonymous functions are defined using the lambda keyword.\n",
    "Hence, anonymous functions are also called lambda functions.\n",
    "'''"
   ]
  },
  {
   "cell_type": "markdown",
   "metadata": {},
   "source": [
    "Syntax of Lambda Function in python\n",
    "\n",
    "lambda arguments: expression\n",
    "\n",
    "Example of Lambda Function in python"
   ]
  },
  {
   "cell_type": "code",
   "execution_count": 1,
   "metadata": {
    "tags": []
   },
   "outputs": [
    {
     "output_type": "stream",
     "name": "stdout",
     "text": "6\n"
    }
   ],
   "source": [
    "# Program to show the use of lambda functions\n",
    "double = lambda x: x * 2\n",
    "print(double(3))\n"
   ]
  },
  {
   "cell_type": "code",
   "execution_count": 16,
   "metadata": {
    "tags": []
   },
   "outputs": [
    {
     "output_type": "stream",
     "name": "stdout",
     "text": "[('jane', 'B', 12), ('kave', 'A', 15), ('dave', 'B', 15)]\n[('jane', 'B', 12), ('dave', 'B', 15), ('kave', 'A', 15)]\n"
    }
   ],
   "source": [
    "student_tuples = [\n",
    "    ('kave', 'A', 15),\n",
    "    ('jane', 'B', 12),\n",
    "    ('dave', 'B', 15),\n",
    "]\n",
    "# sort by age\n",
    "print(sorted(student_tuples, key=lambda student: student[2]))\n",
    "# first sort by age, if age is same, then sort by name\n",
    "print(sorted(student_tuples, key=lambda student: (student[2], student[0])))"
   ]
  },
  {
   "cell_type": "code",
   "execution_count": null,
   "metadata": {},
   "outputs": [],
   "source": []
  }
 ]
}