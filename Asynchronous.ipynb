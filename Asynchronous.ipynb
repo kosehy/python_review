{
 "metadata": {
  "language_info": {
   "codemirror_mode": {
    "name": "ipython",
    "version": 3
   },
   "file_extension": ".py",
   "mimetype": "text/x-python",
   "name": "python",
   "nbconvert_exporter": "python",
   "pygments_lexer": "ipython3",
   "version": 3
  },
  "orig_nbformat": 2,
  "kernelspec": {
   "name": "python_defaultSpec_1595219399787",
   "display_name": "Python 3.8.3 32-bit"
  }
 },
 "nbformat": 4,
 "nbformat_minor": 2,
 "cells": [
  {
   "cell_type": "code",
   "execution_count": 8,
   "metadata": {
    "tags": []
   },
   "outputs": [
    {
     "output_type": "stream",
     "name": "stdout",
     "text": "Square 1\nEnd square 1\n1\n"
    },
    {
     "output_type": "error",
     "ename": "RuntimeError",
     "evalue": "Cannot close a running event loop",
     "traceback": [
      "\u001b[1;31m---------------------------------------------------------------------------\u001b[0m",
      "\u001b[1;31mRuntimeError\u001b[0m                              Traceback (most recent call last)",
      "\u001b[1;32m<ipython-input-8-82e728561c64>\u001b[0m in \u001b[0;36m<module>\u001b[1;34m\u001b[0m\n\u001b[0;32m     18\u001b[0m \u001b[1;33m\u001b[0m\u001b[0m\n\u001b[0;32m     19\u001b[0m \u001b[1;31m# Close the loop\u001b[0m\u001b[1;33m\u001b[0m\u001b[1;33m\u001b[0m\u001b[1;33m\u001b[0m\u001b[0m\n\u001b[1;32m---> 20\u001b[1;33m \u001b[0mloop\u001b[0m\u001b[1;33m.\u001b[0m\u001b[0mclose\u001b[0m\u001b[1;33m(\u001b[0m\u001b[1;33m)\u001b[0m\u001b[1;33m\u001b[0m\u001b[1;33m\u001b[0m\u001b[0m\n\u001b[0m",
      "\u001b[1;32m~\\AppData\\Local\\Programs\\Python\\Python38-32\\lib\\asyncio\\selector_events.py\u001b[0m in \u001b[0;36mclose\u001b[1;34m(self)\u001b[0m\n\u001b[0;32m     87\u001b[0m     \u001b[1;32mdef\u001b[0m \u001b[0mclose\u001b[0m\u001b[1;33m(\u001b[0m\u001b[0mself\u001b[0m\u001b[1;33m)\u001b[0m\u001b[1;33m:\u001b[0m\u001b[1;33m\u001b[0m\u001b[1;33m\u001b[0m\u001b[0m\n\u001b[0;32m     88\u001b[0m         \u001b[1;32mif\u001b[0m \u001b[0mself\u001b[0m\u001b[1;33m.\u001b[0m\u001b[0mis_running\u001b[0m\u001b[1;33m(\u001b[0m\u001b[1;33m)\u001b[0m\u001b[1;33m:\u001b[0m\u001b[1;33m\u001b[0m\u001b[1;33m\u001b[0m\u001b[0m\n\u001b[1;32m---> 89\u001b[1;33m             \u001b[1;32mraise\u001b[0m \u001b[0mRuntimeError\u001b[0m\u001b[1;33m(\u001b[0m\u001b[1;34m\"Cannot close a running event loop\"\u001b[0m\u001b[1;33m)\u001b[0m\u001b[1;33m\u001b[0m\u001b[1;33m\u001b[0m\u001b[0m\n\u001b[0m\u001b[0;32m     90\u001b[0m         \u001b[1;32mif\u001b[0m \u001b[0mself\u001b[0m\u001b[1;33m.\u001b[0m\u001b[0mis_closed\u001b[0m\u001b[1;33m(\u001b[0m\u001b[1;33m)\u001b[0m\u001b[1;33m:\u001b[0m\u001b[1;33m\u001b[0m\u001b[1;33m\u001b[0m\u001b[0m\n\u001b[0;32m     91\u001b[0m             \u001b[1;32mreturn\u001b[0m\u001b[1;33m\u001b[0m\u001b[1;33m\u001b[0m\u001b[0m\n",
      "\u001b[1;31mRuntimeError\u001b[0m: Cannot close a running event loop"
     ]
    }
   ],
   "source": [
    "import asyncio\n",
    "import nest_asyncio\n",
    "\n",
    "nest_asyncio.apply()\n",
    "\n",
    "async def square(x):\n",
    "    print('Square', x)\n",
    "    await asyncio.sleep(1)\n",
    "    print('End square', x)\n",
    "    return x * x\n",
    "\n",
    "# Create event loop\n",
    "loop = asyncio.get_event_loop()\n",
    "\n",
    "# Run async function and wait for completion\n",
    "results = loop.run_until_complete(square(1))\n",
    "print(results)\n",
    "\n",
    "# Close the loop\n",
    "loop.close()"
   ]
  },
  {
   "cell_type": "code",
   "execution_count": 16,
   "metadata": {
    "tags": []
   },
   "outputs": [
    {
     "output_type": "stream",
     "name": "stdout",
     "text": "3\n"
    }
   ],
   "source": [
    "# Challenge 1: Implement an Asynchronous Function\n",
    "\n",
    "import asyncio\n",
    "import nest_asyncio\n",
    "\n",
    "nest_asyncio.apply()\n",
    "async def sum(n1, n2):\n",
    "    x = n1 + n2\n",
    "    await asyncio.sleep(1)\n",
    "    return x\n",
    "\n",
    "# Create event loop\n",
    "loop = asyncio.get_event_loop()\n",
    "\n",
    "# Run asyn function and wait for completion\n",
    "# results = loop.run_until_complete(asyncio.gather(\n",
    "#     sum(1, 2),\n",
    "#     sum(2, 3),\n",
    "#     sum(12, 15)\n",
    "# ))\n",
    "results = loop.run_until_complete(sum(1, 2))\n",
    "\n",
    "print(results)"
   ]
  },
  {
   "cell_type": "code",
   "execution_count": 15,
   "metadata": {
    "tags": []
   },
   "outputs": [
    {
     "output_type": "stream",
     "name": "stdout",
     "text": "[3, 5, 27]\n"
    }
   ],
   "source": [
    "# Challenge 2: Multiple Asynchronous Calls\n",
    "\n",
    "import asyncio\n",
    "import nest_asyncio\n",
    "\n",
    "nest_asyncio.apply()\n",
    "\n",
    "async def sum(n1, n2):\n",
    "    x = n1 + n2\n",
    "    await asyncio.sleep(1)\n",
    "    return x\n",
    "# Create event loop\n",
    "loop = asyncio.get_event_loop()\n",
    "\n",
    "results = loop.run_until_complete(asyncio.gather(\n",
    "    sum(1, 2),\n",
    "    sum(2, 3),\n",
    "    sum(12, 15)\n",
    "))\n",
    "\n",
    "print(results)\n",
    "# Close the loop\n",
    "# loop.close()"
   ]
  },
  {
   "cell_type": "code",
   "execution_count": 17,
   "metadata": {
    "tags": []
   },
   "outputs": [
    {
     "output_type": "stream",
     "name": "stdout",
     "text": "Reuslt: 30\nReuslt: 3\nReuslt: 10\n"
    }
   ],
   "source": [
    "# Challenge 3: Multiple Asynchronous Calls with await\n",
    "\n",
    "import asyncio\n",
    "import nest_asyncio\n",
    "\n",
    "nest_asyncio.apply()\n",
    "\n",
    "async def sum(n1, n2):\n",
    "    x = n1 + n2\n",
    "    await asyncio.sleep(1)\n",
    "    return x\n",
    "# Create event loop\n",
    "loop = asyncio.get_event_loop()\n",
    "\n",
    "async def when_done(tasks):\n",
    "    for res in asyncio.as_completed(tasks):\n",
    "        print('Reuslt:', await res)\n",
    "\n",
    "loop = asyncio.get_event_loop()\n",
    "# Run async function and wait for completion\n",
    "loop.run_until_complete(when_done([\n",
    "    sum(1,2),\n",
    "    sum(4,6),\n",
    "    sum(14,16)\n",
    "]))\n",
    "\n",
    "# Close the loop\n",
    "# loop.close()\n"
   ]
  },
  {
   "cell_type": "code",
   "execution_count": null,
   "metadata": {},
   "outputs": [],
   "source": []
  }
 ]
}