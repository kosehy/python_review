{
 "cells": [
  {
   "cell_type": "code",
   "execution_count": 1,
   "metadata": {
    "tags": []
   },
   "outputs": [
    {
     "output_type": "stream",
     "name": "stdout",
     "text": "Hello, my name is Peter!\nHello, my name is Anna!\nPeter\n20\nAnna\n19\n"
    }
   ],
   "source": [
    "class Person:\n",
    "\n",
    "    def __init__(self, name, age): # class constructor\n",
    "        self.name = name # class variable\n",
    "        self.age = age\n",
    "\n",
    "    def greet(self): # class function to print a greeting sentence\n",
    "        print(\"Hello, my name is %s!\" % self.name)\n",
    "\n",
    "a = Person(\"Peter\", 20) # instantiation\n",
    "b = Person(\"Anna\", 19) # instantiation\n",
    "\n",
    "a.greet() # call a's greet method\n",
    "b.greet() # call b's greet method\n",
    "\n",
    "print(a.name)\n",
    "print(a.age) # We can also access the attributes of an object\n",
    "\n",
    "print(b.name)\n",
    "print(b.age) # We can also access the attributes of an object"
   ]
  },
  {
   "cell_type": "code",
   "execution_count": 12,
   "metadata": {
    "tags": []
   },
   "outputs": [
    {
     "output_type": "stream",
     "name": "stdout",
     "text": "Rectangle (2, 7, 8, 4) created\n"
    }
   ],
   "source": [
    "# Challenge 1: Implement a Rectangle Class\n",
    "class Rectangle:\n",
    "    def __init__(self, x1, y1, x2, y2): # class constructor\n",
    "        self.x1 = x1\n",
    "        self.y1 = y1\n",
    "        self.x2 = x2\n",
    "        self.y2 = y2\n",
    "    \n",
    "    def rect_create(self): # calss function to print the rectangle coordinates(x1, y1, x2, y2)\n",
    "        print('Rectangle ({}, {}, {}, {}) created'.format(self.x1, self.y1, self.x2, self.y2))\n",
    "\n",
    "r = Rectangle(2, 7 ,8, 4) # instantiation\n",
    "r.rect_create() # call r's rect_create method\n"
   ]
  },
  {
   "cell_type": "code",
   "execution_count": 15,
   "metadata": {
    "tags": []
   },
   "outputs": [
    {
     "output_type": "stream",
     "name": "stdout",
     "text": "Rectangle (2, 7, 8, 4) created\n"
    }
   ],
   "source": [
    "# Challenge 1: Implement a Rectangle Class\n",
    "class Rectangle:\n",
    "    def __init__(self, x1, y1, x2, y2): # class constructor\n",
    "        if x1 < x2 and y1 > y2:\n",
    "            self.x1 = x1\n",
    "            self.y1 = y1\n",
    "            self.x2 = x2\n",
    "            self.y2 = y2\n",
    "        else:\n",
    "            print('Incorrect coordinates of the rectangle!')\n",
    "    \n",
    "    def rect_create(self): # calss function to print the rectangle coordinates(x1, y1, x2, y2)\n",
    "        print('Rectangle ({}, {}, {}, {}) created'.format(self.x1, self.y1, self.x2, self.y2))\n",
    "\n",
    "r = Rectangle(2, 7 ,8, 4) # instantiation\n",
    "r.rect_create() # call r's rect_create method\n"
   ]
  },
  {
   "cell_type": "code",
   "execution_count": 16,
   "metadata": {
    "tags": []
   },
   "outputs": [
    {
     "output_type": "stream",
     "name": "stdout",
     "text": "width = 6\nheight = 3\n"
    }
   ],
   "source": [
    "# Challenge 2: Implement Getter Methods\n",
    "class Rectangle:\n",
    "    def __init__(self, x1, y1, x2, y2): # class constructor\n",
    "        if x1 < x2 and y1 > y2:\n",
    "            self.x1 = x1\n",
    "            self.y1 = y1\n",
    "            self.x2 = x2\n",
    "            self.y2 = y2\n",
    "        else:\n",
    "            print('Incorrect coordinates of the rectangle!')\n",
    "    \n",
    "    def width(self): # class function to get rectangle's width\n",
    "        return self.x2 - self.x1\n",
    "\n",
    "    def height(self): # class function to get rectangle's height\n",
    "        return self.y1 - self.y2\n",
    "        \n",
    "r = Rectangle(2, 7, 8, 4)\n",
    "r.width()\n",
    "r.height()"
   ]
  },
  {
   "cell_type": "code",
   "execution_count": 22,
   "metadata": {
    "tags": []
   },
   "outputs": [
    {
     "output_type": "stream",
     "name": "stdout",
     "text": "12\n14\n"
    }
   ],
   "source": [
    "# Challenge 3: Implement Area and Perimeter Member Methods\n",
    "class Rectangle:\n",
    "    def __init__(self, x1, y1, x2, y2): # class constructor\n",
    "        if x1 < x2 and y1 > y2:\n",
    "            self.x1 = x1\n",
    "            self.y1 = y1\n",
    "            self.x2 = x2\n",
    "            self.y2 = y2\n",
    "        else:\n",
    "            print('Incorrect coordinates of the rectangle!')\n",
    "    \n",
    "    def width(self): # class function to get rectangle's width\n",
    "        return self.x2 - self.x1\n",
    "\n",
    "    def height(self): # class function to get rectangle's height\n",
    "        return self.y1 - self.y2\n",
    "\n",
    "    def area(self): # class function to get rectangle's area\n",
    "        return self.width() * self.height()\n",
    "    \n",
    "    def perimeter(self): # class function to get rectangle's perimeter\n",
    "        return 2 * self.width() + 2 * self.height()\n",
    "\n",
    "r = Rectangle(2, 7, 5, 3)\n",
    "print(r.area())\n",
    "print(r.perimeter())\n",
    "\n",
    "    "
   ]
  },
  {
   "cell_type": "code",
   "execution_count": 35,
   "metadata": {
    "tags": []
   },
   "outputs": [
    {
     "output_type": "stream",
     "name": "stdout",
     "text": "2, 3, 5, 7\n"
    }
   ],
   "source": [
    "# Challenge 4: Implement a Print Method\n",
    "# str():\n",
    "# 1. makes the object readable\n",
    "# 2. generates output for end-user\n",
    "class Rectangle:\n",
    "    def __init__(self, x1, y1, x2, y2): # class constructor\n",
    "            self.x1 = x1\n",
    "            self.y1 = y1\n",
    "            self.x2 = x2\n",
    "            self.y2 = y2\n",
    "\n",
    "    def __str__(self): # class constructor for print\n",
    "        return str(self.x1) + ', ' + str(self.y1) + ', ' + str(self.x2) + ', ' + str(self.y2)\n",
    "r = Rectangle(2, 3, 5, 7)\n",
    "print(r)"
   ]
  },
  {
   "cell_type": "code",
   "execution_count": 36,
   "metadata": {
    "tags": []
   },
   "outputs": [
    {
     "output_type": "stream",
     "name": "stdout",
     "text": "2, 3, 5, 7\n"
    }
   ],
   "source": [
    "# Challenge 4: Implement a Print Method\n",
    "# repr():\n",
    "# 1. needs code that reproduces the object\n",
    "# 2. generates output for developer\n",
    "class Rectangle:\n",
    "    def __init__(self, x1, y1, x2, y2): # class constructor\n",
    "            self.x1 = x1\n",
    "            self.y1 = y1\n",
    "            self.x2 = x2\n",
    "            self.y2 = y2\n",
    "\n",
    "    def __repr__(self): # class constructor for print\n",
    "        return str(self.x1) + ', ' + str(self.y1) + ', ' + str(self.x2) + ', ' + str(self.y2)\n",
    "r = Rectangle(2, 3, 5, 7)\n",
    "print(r)"
   ]
  },
  {
   "cell_type": "code",
   "execution_count": 37,
   "metadata": {
    "tags": []
   },
   "outputs": [
    {
     "output_type": "stream",
     "name": "stdout",
     "text": "I don't talk to strangers!!\n"
    }
   ],
   "source": [
    "# Inheritance\n",
    "class Person:\n",
    "    def __init__(self, name, age): # Person's constructor\n",
    "        self.name = name # Person's attribute\n",
    "        self.age = age\n",
    "\n",
    "    def greet(self): # Person's method\n",
    "        print('Hello, my name is {}!'.format(self.name))\n",
    "\n",
    "class TenYearOldPerson(Person): # TenYearOldPerson inherits from Person\n",
    "    def __init__(self, name): # TenYearOldPerson's constructor\n",
    "        Person.__init__(self, name, 10) # accesses Person's constructor\n",
    "\n",
    "    def greet(self): # rewrites the greet method\n",
    "        print(\"I don't talk to strangers!!\")\n",
    "tyo = TenYearOldPerson(\"JACK\") # instance of TenYearOldPerson\n",
    "tyo.greet() # call greet method of the TenYearOldPerson"
   ]
  },
  {
   "cell_type": "code",
   "execution_count": 1,
   "metadata": {
    "tags": []
   },
   "outputs": [
    {
     "output_type": "stream",
     "name": "stdout",
     "text": "I am a lion.\nI am warm blooded.\nI eat meat.\n"
    }
   ],
   "source": [
    "# Multi-Level Inheritance\n",
    "class Animal ():\n",
    "    def __init__(self, name, food, characteristic): # Animal's constructor\n",
    "        self.name = name # Animal's attribute\n",
    "        self.characteristic = characteristic # Animal's attribute\n",
    "        self.food = food # Animal's attribute\n",
    "        print (\"I am a \" + str(self.name) + \".\")\n",
    "\n",
    "class Mammal (Animal): # Mammal inherits from Animal\n",
    "    def __init__(self, name, food): # Mammal's constructor\n",
    "        Animal.__init__(self, name, food, \"warm blooded\") # Animal's constructor\n",
    "        print(\"I am warm blooded.\")\n",
    "\n",
    "class Carnivore (Mammal): # Carnivore inherits from Mammal\n",
    "    def __init__(self, name): # Carnivore's constructor\n",
    "        Mammal.__init__(self, name, \"meat\") # Mammal's constructor\n",
    "        print(\"I eat meat.\")\n",
    "\n",
    "lion = Carnivore(\"lion\") # lion is an instance of Carnivore"
   ]
  },
  {
   "cell_type": "code",
   "execution_count": 2,
   "metadata": {
    "tags": []
   },
   "outputs": [
    {
     "output_type": "stream",
     "name": "stdout",
     "text": "I eat meat.\n"
    }
   ],
   "source": [
    "# Multi-Level Inheritance\n",
    "class Animal ():\n",
    "    def __init__(self, name, food, characteristic): # Animal's constructor\n",
    "        self.name = name # Animal's attribute\n",
    "        self.characteristic = characteristic # Animal's attribute\n",
    "        self.food = food # Animal's attribute\n",
    "    def printer(self):\n",
    "        print (\"I am a \" + str(self.name) + \".\")\n",
    "\n",
    "class Mammal (Animal): # Mammal inherits from Animal\n",
    "    def __init__(self, name, food): # Mammal's constructor\n",
    "        Animal.__init__(self, name, food, \"warm blooded\") # Animal's constructor\n",
    "    def printer(self):\n",
    "        print(\"I am warm blooded.\")\n",
    "\n",
    "class Carnivore (Mammal): # Carnivore inherits from Mammal\n",
    "    def __init__(self, name): # Carnivore's constructor\n",
    "        Mammal.__init__(self, name, \"meat\") # Mammal's constructor\n",
    "    def printer(self):\n",
    "        print(\"I eat meat.\")\n",
    "\n",
    "lion = Carnivore(\"lion\") # lion is an instance of Carnivore\n",
    "lion.printer()"
   ]
  },
  {
   "cell_type": "code",
   "execution_count": 2,
   "metadata": {
    "tags": []
   },
   "outputs": [
    {
     "output_type": "stream",
     "name": "stdout",
     "text": "Hi, I am Ali.\nMy roll number is 13k-1234.\nI teach Data Structures.\nI got an A in Data Structures.\n\n\nAhmed, you can not apply for TAship.\n"
    }
   ],
   "source": [
    "\n",
    "#Multiple Inheritance\n",
    "class Person:\n",
    "    def __init__(self, name):\n",
    "            self.name = name\n",
    "\n",
    "    def greet(self):\n",
    "        print(\"Hi, I am \" + self.name + \".\")\n",
    "\n",
    "class Student (Person): # Student inherits from Person class\n",
    "    def __init__(self, name, rollNumber):\n",
    "        self.name = name # Attribute inherited from the Person class\n",
    "        self.rollNumber = rollNumber # Student's attribute\n",
    "        Person.__init__(self, name) # Person's constructor\n",
    "\n",
    "    def report(self): # Student's method\n",
    "        print(\"My roll number is \" + self.rollNumber + \".\")\n",
    "\n",
    "class Teacher (Person): # Teacher inherits from Person class\n",
    "    def __init__(self, name, course):\n",
    "        self.name = name # Attribute inherited from the Person class\n",
    "        self.course = course # Teacher's attribute\n",
    "        Person.__init__(self, name) # Person's constructor\n",
    "\n",
    "    def introduce(self): # Teacher's method\n",
    "        print(\"I teach \" + self.course + \".\")\n",
    "\n",
    "class TA (Student, Teacher): # TA inherits from Student and Teacher class\n",
    "    def __init__(self, name, rollNumber, course, grade):\n",
    "        self.name = name # Attribute inherited form the Person class\n",
    "        self.rollNumber = rollNumber # Attribute inherited from the Student class\n",
    "        self.course = course # Attribute inherited from the Teacher class\n",
    "        self.grade = grade # TA's attribute\n",
    "\n",
    "    def details(self): # TA's method\n",
    "        if self.grade == \"A*\" or self.grade == \"A\" or self.grade == \"A-\": # if person is elligible for TAship\n",
    "            Person.greet(self) # cna access Person's greet method\n",
    "            Student.report(self) # can access Student's report method\n",
    "            Teacher.introduce(self) # can access Teacher's introduce method\n",
    "            print(\"I got an \" + self.grade + \" in \" + self.course + \".\")\n",
    "        else: # person is not elligible for TAship\n",
    "            print(self.name + \", you can not apply for TAship.\")\n",
    "\n",
    "ta = TA('Ali', '13k-1234','Data Structures', 'A') # TA object\n",
    "ta.details()\n",
    "\n",
    "# uncomment any of the following lines of code and see how they work\n",
    "# ta.greet()\n",
    "# ta.report()\n",
    "# ta.introduce()\n",
    "\n",
    "print(\"\\n\")\n",
    "\n",
    "ta2 = TA('Ahmed', '14k-5678', 'Algorithms', 'B')\n",
    "ta2.details()"
   ]
  },
  {
   "cell_type": "code",
   "execution_count": 1,
   "metadata": {
    "tags": []
   },
   "outputs": [
    {
     "output_type": "stream",
     "name": "stdout",
     "text": "Hi, I'm ALi.\nI am a PhD student.\n"
    }
   ],
   "source": [
    "# Super Method\n",
    "\n",
    "class Person(object): # Super class\n",
    "    def __init__(self, name):\n",
    "        self.name = name\n",
    "    def greet(self):\n",
    "        print (\"Hi, I'm \" + self.name + \".\") # Super class does something\n",
    "\n",
    "class Student(Person): # Subclass inheriting from the super class\n",
    "    def __init__(self, name, degree):\n",
    "        self.name = name\n",
    "        self.degree =degree\n",
    "        Person.__init__(self, name) # calls constructor of super class\n",
    "    def greet(self):\n",
    "        Person.greet(self) # calls method of super class\n",
    "        print(\"I am a \" + self.degree + \" student.\")\n",
    "\n",
    "student = Student(\"ALi\", \"PhD\") # Create an object of the subclass\n",
    "student.greet()"
   ]
  },
  {
   "cell_type": "code",
   "execution_count": 3,
   "metadata": {
    "tags": []
   },
   "outputs": [
    {
     "output_type": "stream",
     "name": "stdout",
     "text": "Hi, I'm Ali.\nI am a PhD student.\n"
    }
   ],
   "source": [
    "class Person(object): # Super class\n",
    "    def __init__(self, name):\n",
    "        self.name = name\n",
    "    def greet(self):\n",
    "        print (\"Hi, I'm \" + self.name + \".\") # Super class does something\n",
    "\n",
    "class Student(Person): # Subclass inheriting from the super class\n",
    "    def __init__(self, name, degree):\n",
    "        self.name = name\n",
    "        self.degree = degree\n",
    "        super().__init__(name) # calls constructor of super class\n",
    "    def greet(self):\n",
    "        super().greet() # calls method of super class\n",
    "        print( \"I am a \" + self.degree + \" student.\")\n",
    "\n",
    "student = Student(\"Ali\", \"PhD\") # Create an object of the subclass\n",
    "student.greet()\n"
   ]
  },
  {
   "cell_type": "code",
   "execution_count": 17,
   "metadata": {
    "tags": []
   },
   "outputs": [
    {
     "output_type": "stream",
     "name": "stdout",
     "text": "Area = 25\n"
    },
    {
     "output_type": "execute_result",
     "data": {
      "text/plain": "<__main__.Square at 0x71f7880>"
     },
     "metadata": {},
     "execution_count": 17
    }
   ],
   "source": [
    "# Challenge 5: Inheritance\n",
    "class Rectangle:\n",
    "    def __init__(self, x1, y1, x2, y2): # class constructor\n",
    "        self.x1 = x1 # class variable\n",
    "        self.y1 = y1 # class variable\n",
    "        self.x2 = x2 # class variable\n",
    "        self.y2 = y2 # class variable\n",
    "\n",
    "    def width(self):\n",
    "        return self.x2 - self.x1\n",
    "\n",
    "    def height(self):\n",
    "        return self.y2 - self.y1\n",
    "    \n",
    "    def area(self):\n",
    "        return self.width() * self.height()\n",
    "\n",
    "class Square:\n",
    "    def __init__(self, x1, y1, length):\n",
    "        self.x1 = x1\n",
    "        self.y1 = y1\n",
    "        self.x2 = x1 + length\n",
    "        self.y2 = y1 + length\n",
    "        self.length = length\n",
    "        Rectangle.__init__(self, x1, y1, self.x2, self.y2)\n",
    "    def area(self):\n",
    "        print(\"Area = {}\".format(Rectangle.width(self) * Rectangle.height(self)))\n",
    "\n",
    "Square(2, 3, 5)"
   ]
  },
  {
   "cell_type": "code",
   "execution_count": null,
   "metadata": {},
   "outputs": [],
   "source": []
  }
 ],
 "metadata": {
  "language_info": {
   "codemirror_mode": {
    "name": "ipython",
    "version": 3
   },
   "file_extension": ".py",
   "mimetype": "text/x-python",
   "name": "python",
   "nbconvert_exporter": "python",
   "pygments_lexer": "ipython3",
   "version": "3.8.3-final"
  },
  "orig_nbformat": 2,
  "kernelspec": {
   "name": "python38332bitb8361c779dfd480f8935c4534bbf884b",
   "display_name": "Python 3.8.3 32-bit"
  }
 },
 "nbformat": 4,
 "nbformat_minor": 2
}