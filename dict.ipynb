{
 "cells": [
  {
   "cell_type": "code",
   "execution_count": 1,
   "metadata": {
    "tags": []
   },
   "outputs": [
    {
     "output_type": "stream",
     "name": "stdout",
     "text": "Get age of peter: 10\n"
    }
   ],
   "source": [
    "ages = {\n",
    "    \"Peter\": 10,\n",
    "    \"Isabel\" : 11,\n",
    "    \"Anna\": 9,\n",
    "    \"Thomas\": 10,\n",
    "    \"Bob\": 10,\n",
    "    \"Joseph\": 10,\n",
    "    \"Maria\": 12,\n",
    "    \"Gabrial\": 10,\n",
    "}\n",
    "\n",
    "# print one item\n",
    "print(\"Get age of peter: {}\".format(ages[\"Peter\"]))"
   ]
  },
  {
   "cell_type": "code",
   "execution_count": 3,
   "metadata": {
    "tags": []
   },
   "outputs": [
    {
     "output_type": "stream",
     "name": "stdout",
     "text": "Peter 10\nIsabel 11\nAnna 9\nThomas 10\nBob 10\nJoseph 10\nMaria 12\nGabrial 10\n"
    }
   ],
   "source": [
    "## print the whole dictionary\n",
    "for key, value in ages.items():\n",
    "    print(key, value)"
   ]
  },
  {
   "cell_type": "code",
   "execution_count": 6,
   "metadata": {
    "tags": []
   },
   "outputs": [
    {
     "output_type": "stream",
     "name": "stdout",
     "text": "Peter 12\nSusan 13\n"
    }
   ],
   "source": [
    "ages = dict()\n",
    "ages = {}\n",
    "ages['Peter'] = 12\n",
    "ages['Susan'] = 13\n",
    "for key, value in ages.items():\n",
    "    print(key, value)"
   ]
  },
  {
   "cell_type": "code",
   "execution_count": 5,
   "metadata": {
    "tags": []
   },
   "outputs": [
    {
     "output_type": "stream",
     "name": "stdout",
     "text": "Peter 12\nSusan 10\nMaria 5\n"
    }
   ],
   "source": [
    "from collections import OrderedDict\n",
    "# ordered dictionary\n",
    "\n",
    "ages = OrderedDict()\n",
    "\n",
    "ages['Peter'] = 12\n",
    "ages['Susan'] = 10\n",
    "ages['Maria'] = 5\n",
    "\n",
    "for key, value in ages.items():\n",
    "    print(key, value)"
   ]
  },
  {
   "cell_type": "code",
   "execution_count": 7,
   "metadata": {
    "tags": []
   },
   "outputs": [
    {
     "output_type": "stream",
     "name": "stdout",
     "text": "[2, 2, 2]\n"
    }
   ],
   "source": [
    "d = {\n",
    "    0 : [0, 0, 0],\n",
    "    1 : [1, 1, 1],\n",
    "    2 : [2, 2, 2]\n",
    "}\n",
    "\n",
    "print(d[2])"
   ]
  },
  {
   "cell_type": "code",
   "execution_count": 14,
   "metadata": {
    "tags": []
   },
   "outputs": [
    {
     "output_type": "stream",
     "name": "stdout",
     "text": "Peter\nIsabel\nAnna\nThomas\nBob\nJoseph\nMaria\nGabriel\n10\n11\n9\n10\n10\n11\n12\n10\n10\n11\n9\n10\n10\n11\n12\n10\nPeter 10\nIsabel 11\nAnna 9\nThomas 10\nBob 10\nJoseph 11\nMaria 12\nGabriel 10\n"
    }
   ],
   "source": [
    "# loop\n",
    "ages = {\n",
    "    \"Peter\": 10,\n",
    "    \"Isabel\": 11,\n",
    "    \"Anna\": 9,\n",
    "    \"Thomas\": 10,\n",
    "    \"Bob\": 10,\n",
    "    \"Joseph\": 11,\n",
    "    \"Maria\": 12,\n",
    "    \"Gabriel\": 10,\n",
    "}\n",
    "\n",
    "for x in ages:\n",
    "    print(x)\n",
    "\n",
    "for x in ages:\n",
    "    print(ages[x])\n",
    "\n",
    "for x in ages.values():\n",
    "    print(x)\n",
    "\n",
    "# for name, age in ages.items\n",
    "for name, age in ages.items():\n",
    "    print(name, age)"
   ]
  },
  {
   "cell_type": "code",
   "execution_count": 18,
   "metadata": {
    "tags": []
   },
   "outputs": [
    {
     "output_type": "stream",
     "name": "stdout",
     "text": "{'Peter': {'age': 21, 'address': 'Lisbon'}, 'Susan': {'age': 22, 'address': 'Sweden'}, 'Charles': {'age': 32, 'address': 'Turkey'}}\n{'age': 21, 'address': 'Lisbon'}\nLisbon\n"
    }
   ],
   "source": [
    "# nested dictionary\n",
    "students = {\n",
    "    \"Peter\": {\"age\": 21, \"address\": \"Lisbon\"},\n",
    "    \"Susan\": {\"age\": 22, \"address\": \"Sweden\"},\n",
    "    \"Charles\": {\"age\": 32, \"address\": \"Turkey\"},\n",
    "}\n",
    "\n",
    "print(students)\n",
    "print(students['Peter'])\n",
    "print(students['Peter']['address'])"
   ]
  },
  {
   "cell_type": "code",
   "execution_count": 19,
   "metadata": {
    "tags": []
   },
   "outputs": [
    {
     "output_type": "stream",
     "name": "stdout",
     "text": "\nPerson:name: Peter\nage: 21\naddress: Lisbon\n\nPerson:name: Susan\nage: 22\naddress: Sweden\n\nPerson:name: Charles\nage: 32\naddress: Turkey\n"
    }
   ],
   "source": [
    "# loop nested dictionary\n",
    "for p_id, p_info in students.items():\n",
    "    print('\\nPerson:name:', p_id)\n",
    "    for key in p_info:\n",
    "        print(key + ':', p_info[key])"
   ]
  },
  {
   "cell_type": "code",
   "execution_count": 22,
   "metadata": {},
   "outputs": [
    {
     "output_type": "execute_result",
     "data": {
      "text/plain": "8"
     },
     "metadata": {},
     "execution_count": 22
    }
   ],
   "source": [
    "# Challenge 1: Determine Size of a Dictionary\n",
    "Students = {\n",
    "    'Peter' : 10,\n",
    "    'Isabel' : 11,\n",
    "    'Anna' : 9,\n",
    "    'Thomas' : 10,\n",
    "    'Bob' : 10,\n",
    "    'Joseph' : 11,\n",
    "    'Maria' : 12,\n",
    "    'Gabriel' : 10,\n",
    "}\n",
    "\n",
    "def lengthDictionary(Students):\n",
    "    length = 0\n",
    "    for i in Students:\n",
    "        length += 1\n",
    "    return length\n",
    "\n",
    "lengthDictionary(Students)"
   ]
  },
  {
   "cell_type": "code",
   "execution_count": 23,
   "metadata": {},
   "outputs": [
    {
     "output_type": "execute_result",
     "data": {
      "text/plain": "8"
     },
     "metadata": {},
     "execution_count": 23
    }
   ],
   "source": [
    "def lengthDictionary(Students):\n",
    "    return len(Students)\n",
    "\n",
    "lengthDictionary(Students)"
   ]
  },
  {
   "cell_type": "code",
   "execution_count": 25,
   "metadata": {},
   "outputs": [
    {
     "output_type": "execute_result",
     "data": {
      "text/plain": "10.375"
     },
     "metadata": {},
     "execution_count": 25
    }
   ],
   "source": [
    "# Challenge 2: Average of Values of Keys in a Dictionary\n",
    "Students = {\n",
    "    'Peter' : 10,\n",
    "    'Isabel' : 11,\n",
    "    'Anna' : 9,\n",
    "    'Thomas' : 10,\n",
    "    'Bob' : 10,\n",
    "    'Joseph' : 11,\n",
    "    'Maria' : 12,\n",
    "    'Gabriel' : 10,\n",
    "}\n",
    "\n",
    "def calculateAvg(ages):\n",
    "    sum = 0\n",
    "    for key in ages.values():\n",
    "        sum += key\n",
    "    return sum / len(ages)\n",
    "calculateAvg(Students)"
   ]
  },
  {
   "cell_type": "code",
   "execution_count": 26,
   "metadata": {},
   "outputs": [],
   "source": [
    "def calculateAvg(ages):\n",
    "    return sum(ages.values()) / len(ages)"
   ]
  },
  {
   "cell_type": "code",
   "execution_count": 36,
   "metadata": {
    "tags": []
   },
   "outputs": [
    {
     "output_type": "stream",
     "name": "stdout",
     "text": "Peter\nIsabel\nJoseph\nMaria\n"
    },
    {
     "output_type": "execute_result",
     "data": {
      "text/plain": "'Maria'"
     },
     "metadata": {},
     "execution_count": 36
    }
   ],
   "source": [
    "# Challenge 3: Return Key With Maximum Value\n",
    "def oldestStudent(ages):\n",
    "    max = 0\n",
    "    for x in ages:\n",
    "        if max <= ages[x]:\n",
    "            print(x)\n",
    "            max = ages[x]\n",
    "            name = x\n",
    "    return name\n",
    "\n",
    "oldestStudent(Students)"
   ]
  },
  {
   "cell_type": "code",
   "execution_count": 39,
   "metadata": {
    "tags": []
   },
   "outputs": [
    {
     "output_type": "stream",
     "name": "stdout",
     "text": "['Peter', 'Isabel', 'Anna', 'Thomas', 'Bob', 'Joseph', 'Maria', 'Gabriel']\n[10, 11, 9, 10, 10, 11, 12, 10]\n"
    },
    {
     "output_type": "execute_result",
     "data": {
      "text/plain": "'Maria'"
     },
     "metadata": {},
     "execution_count": 39
    }
   ],
   "source": [
    "def oldestStudent(ages):\n",
    "    key = list(ages.keys())\n",
    "    value = list(ages.values())\n",
    "    return key[value.index(max(value))]\n",
    "\n",
    "oldestStudent(Students)"
   ]
  },
  {
   "cell_type": "code",
   "execution_count": 41,
   "metadata": {
    "tags": []
   },
   "outputs": [
    {
     "output_type": "stream",
     "name": "stdout",
     "text": "{'Peter': 11, 'Isabel': 12, 'Anna': 10, 'Thomas': 11, 'Bob': 11, 'Joseph': 12, 'Maria': 13, 'Gabriel': 11}\n"
    }
   ],
   "source": [
    "# Challenge 4: Increment Dictionary Values\n",
    "def updateAges(ages,n):\n",
    "    for key in ages.keys():\n",
    "        Students[key] += n\n",
    "    print(Students)\n",
    "\n",
    "updateAges(Students, 1)\n"
   ]
  },
  {
   "cell_type": "code",
   "execution_count": 42,
   "metadata": {},
   "outputs": [
    {
     "output_type": "execute_result",
     "data": {
      "text/plain": "3"
     },
     "metadata": {},
     "execution_count": 42
    }
   ],
   "source": [
    "# Challenge 5: Size of a Dictionary Within a Dictionary\n",
    "Students = {\n",
    "    'Peter': {'age' : 21, 'address' : 'Lisbon'},\n",
    "    'Susan': {'age' : 22, 'address' : 'Sweden'},\n",
    "    'Charles': {'age' : 32, 'address' : 'Turkey'},\n",
    "}\n",
    "\n",
    "def totalStudents(students):\n",
    "    return len(Students)\n",
    "\n",
    "totalStudents(Students)"
   ]
  },
  {
   "cell_type": "code",
   "execution_count": 63,
   "metadata": {
    "tags": []
   },
   "outputs": [
    {
     "output_type": "execute_result",
     "data": {
      "text/plain": "10.0"
     },
     "metadata": {},
     "execution_count": 63
    }
   ],
   "source": [
    "# Challenge 6: Average Values Within Multiple Dictionaries\n",
    "Students = {\n",
    "    'Peter': {'age' : 10, 'address' : 'Lisbon'},\n",
    "    'Susan': {'age' : 11, 'address' : 'Sweden'},\n",
    "    'Charles': {'age' : 9, 'address' : 'Turkey'},\n",
    "    'Thomas': {'age' : 10, 'address' : 'Lisbon'},\n",
    "    'Bob': {'age' : 11, 'address' : 'Sweden'},\n",
    "    'Joseph': {'age' : 9, 'address' : 'Turkey'},\n",
    "}\n",
    "\n",
    "def calculateAverageAge(students):\n",
    "    # print(students['Peter']['age'])\n",
    "    # print(students['Peter']['address'])\n",
    "    sum = 0\n",
    "    for key in students.keys():\n",
    "        sum += students[key]['age']\n",
    "    return sum / len(students)\n",
    "calculateAverageAge(Students)"
   ]
  },
  {
   "cell_type": "code",
   "execution_count": 66,
   "metadata": {
    "tags": []
   },
   "outputs": [
    {
     "output_type": "stream",
     "name": "stdout",
     "text": "{'age': 10, 'address': 'Lisbon'}\n{'age': 11, 'address': 'Sweden'}\n{'age': 9, 'address': 'Turkey'}\n{'age': 10, 'address': 'Lisbon'}\n{'age': 11, 'address': 'Sweden'}\n{'age': 9, 'address': 'Turkey'}\n"
    },
    {
     "output_type": "execute_result",
     "data": {
      "text/plain": "10.0"
     },
     "metadata": {},
     "execution_count": 66
    }
   ],
   "source": [
    "def calculateAverageAge(students):\n",
    "    sum = 0\n",
    "    for thing in students.values():\n",
    "        # print(thing)\n",
    "        sum += thing['age']\n",
    "    return sum /len(students)\n",
    "\n",
    "calculateAverageAge(Students)"
   ]
  },
  {
   "cell_type": "code",
   "execution_count": 101,
   "metadata": {
    "tags": []
   },
   "outputs": [
    {
     "output_type": "execute_result",
     "data": {
      "text/plain": "['Peter', 'Anna']"
     },
     "metadata": {},
     "execution_count": 101
    }
   ],
   "source": [
    "# Challenge 7: Keys Matching in Multiple Dictionaries\n",
    "Students = {\n",
    "    'Peter': {'age' : 21, 'address' : 'Lisbon'},\n",
    "    'Anna': {'age' : 22, 'address' : 'Lisbon'},\n",
    "    'Charles': {'age' : 32, 'address' : 'Turkey'},\n",
    "}\n",
    "\n",
    "def find_students(address, students):\n",
    "    name = list(students.keys())\n",
    "    values = list(students.values())\n",
    "    ans = []\n",
    "    # for i in students.values():\n",
    "    #     if i['address'] == address:\n",
    "            # print(i)\n",
    "    for i in students.items():\n",
    "        if i[1]['address'] == address:\n",
    "            ans.append(i[0])\n",
    "    return ans\n",
    "\n",
    "find_students('Lisbon', Students)"
   ]
  },
  {
   "cell_type": "code",
   "execution_count": 102,
   "metadata": {},
   "outputs": [
    {
     "output_type": "execute_result",
     "data": {
      "text/plain": "['Peter', 'Anna']"
     },
     "metadata": {},
     "execution_count": 102
    }
   ],
   "source": [
    "def find_students(address, students):\n",
    "    ans = []\n",
    "    for key, value in students.items():\n",
    "        if value['address'] == address:\n",
    "            ans.append(key)\n",
    "    return ans\n",
    "\n",
    "find_students('Lisbon', Students)"
   ]
  },
  {
   "cell_type": "code",
   "execution_count": null,
   "metadata": {},
   "outputs": [],
   "source": []
  }
 ],
 "metadata": {
  "language_info": {
   "codemirror_mode": {
    "name": "ipython",
    "version": 3
   },
   "file_extension": ".py",
   "mimetype": "text/x-python",
   "name": "python",
   "nbconvert_exporter": "python",
   "pygments_lexer": "ipython3",
   "version": "3.8.3-final"
  },
  "orig_nbformat": 2,
  "kernelspec": {
   "name": "python38332bitb8361c779dfd480f8935c4534bbf884b",
   "display_name": "Python 3.8.3 32-bit"
  }
 },
 "nbformat": 4,
 "nbformat_minor": 2
}