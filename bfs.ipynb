{
 "cells": [
  {
   "cell_type": "markdown",
   "metadata": {},
   "source": [
    "Reference: https://www.educative.io/edpresso/how-to-implement-a-breadth-first-search-in-python"
   ]
  },
  {
   "cell_type": "markdown",
   "metadata": {},
   "source": [
    "Breath-first search(BFS) is an algorithm used for tree traversal on graphs or tree data structures. BFS can be easily implemented using recursion and data structures like dictionaries and lists."
   ]
  },
  {
   "cell_type": "markdown",
   "metadata": {},
   "source": [
    "The Algorithm\n",
    "\n",
    "1. Pick any node, visit the adjacent unvisited vertex, mark it as visited, display it, and insert it in a queue.\n",
    "2. If there are no remaining adjacent vertices left, remove the first vertex from the queue.\n",
    "3. Repeat step 1 and step 2 until the queue is empty or the desired node is found\n",
    "\n",
    "Implementation\n",
    "\n",
    "Consider the graph which is implemented in the code below:\n",
    "\n",
    "<img src=\"imgs/graph.PNG\", width=\"200\", height=\"200\">"
   ]
  },
  {
   "cell_type": "code",
   "execution_count": 5,
   "metadata": {
    "tags": []
   },
   "outputs": [
    {
     "output_type": "stream",
     "name": "stdout",
     "text": "A\nB\nC\nD\nE\nF\n"
    }
   ],
   "source": [
    "graph = {\n",
    "    'A' : ['B', 'C'],\n",
    "    'B' : ['D', 'E'],\n",
    "    'C' : ['F'],\n",
    "    'D' : [],\n",
    "    'E' : ['F'],\n",
    "    'F' : [],\n",
    "}\n",
    "\n",
    "visited = [] # List to keep track of visited nodes.\n",
    "queue = [] # Initialize a queue\n",
    "\n",
    "def bfs(visited, graph, node):\n",
    "    if node not in visited:\n",
    "        print(node)\n",
    "        visited.append(node)\n",
    "        for neighbor in graph[node]:\n",
    "            queue.append(neighbor)\n",
    "        bfs(visited, graph, queue.pop(0))\n",
    "\n",
    "# Driver Code\n",
    "bfs(visited, graph, 'A')\n",
    "        \n",
    "                "
   ]
  },
  {
   "cell_type": "code",
   "execution_count": 6,
   "metadata": {
    "tags": []
   },
   "outputs": [
    {
     "output_type": "stream",
     "name": "stdout",
     "text": "A B C D E F"
    }
   ],
   "source": [
    "visited = [] # List to keep track of visited nodes.\n",
    "queue = [] # Initialize a queue\n",
    "\n",
    "def bfs_ori(visited, graph, node):\n",
    "    visited.append(node)\n",
    "    queue.append(node)\n",
    "\n",
    "    while queue:\n",
    "        s = queue.pop(0)\n",
    "        print(s, end = \" \")\n",
    "\n",
    "        for neighbor in graph[s]:\n",
    "            if neighbor not in visited:\n",
    "                visited.append(neighbor)\n",
    "                queue.append(neighbor)\n",
    "\n",
    "# Driver Code\n",
    "bfs_ori(visited, graph, 'A')"
   ]
  },
  {
   "cell_type": "code",
   "execution_count": null,
   "metadata": {},
   "outputs": [],
   "source": []
  }
 ],
 "metadata": {
  "language_info": {
   "codemirror_mode": {
    "name": "ipython",
    "version": 3
   },
   "file_extension": ".py",
   "mimetype": "text/x-python",
   "name": "python",
   "nbconvert_exporter": "python",
   "pygments_lexer": "ipython3",
   "version": "3.8.3-final"
  },
  "orig_nbformat": 2,
  "kernelspec": {
   "name": "python38332bit8fa5e4bec52d433c91f6b45ce17fb047",
   "display_name": "Python 3.8.3 32-bit"
  }
 },
 "nbformat": 4,
 "nbformat_minor": 2
}