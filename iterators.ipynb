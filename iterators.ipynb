{
 "metadata": {
  "language_info": {
   "codemirror_mode": {
    "name": "ipython",
    "version": 3
   },
   "file_extension": ".py",
   "mimetype": "text/x-python",
   "name": "python",
   "nbconvert_exporter": "python",
   "pygments_lexer": "ipython3",
   "version": "3.8.3-final"
  },
  "orig_nbformat": 2,
  "kernelspec": {
   "name": "python38332bitb8361c779dfd480f8935c4534bbf884b",
   "display_name": "Python 3.8.3 32-bit"
  }
 },
 "nbformat": 4,
 "nbformat_minor": 2,
 "cells": [
  {
   "cell_type": "code",
   "execution_count": 1,
   "metadata": {
    "tags": []
   },
   "outputs": [
    {
     "output_type": "stream",
     "name": "stdout",
     "text": "1\n2\n3\n"
    }
   ],
   "source": [
    "my_iter = iter([1, 2, 3])\n",
    "print (next(my_iter))\n",
    "print (next(my_iter))\n",
    "print (next(my_iter))"
   ]
  },
  {
   "cell_type": "code",
   "execution_count": 2,
   "metadata": {},
   "outputs": [
    {
     "output_type": "error",
     "ename": "StopIteration",
     "evalue": "",
     "traceback": [
      "\u001b[1;31m---------------------------------------------------------------------------\u001b[0m",
      "\u001b[1;31mStopIteration\u001b[0m                             Traceback (most recent call last)",
      "\u001b[1;32m<ipython-input-2-94a4229f6542>\u001b[0m in \u001b[0;36m<module>\u001b[1;34m\u001b[0m\n\u001b[1;32m----> 1\u001b[1;33m \u001b[0mnext\u001b[0m\u001b[1;33m(\u001b[0m\u001b[0mmy_iter\u001b[0m\u001b[1;33m)\u001b[0m\u001b[1;33m\u001b[0m\u001b[1;33m\u001b[0m\u001b[0m\n\u001b[0m",
      "\u001b[1;31mStopIteration\u001b[0m: "
     ]
    }
   ],
   "source": [
    "next(my_iter)"
   ]
  },
  {
   "cell_type": "code",
   "execution_count": 12,
   "metadata": {
    "tags": []
   },
   "outputs": [
    {
     "output_type": "stream",
     "name": "stdout",
     "text": "1\n2\n3\n"
    }
   ],
   "source": [
    "class MyRange:\n",
    "    def __init__(self, a, b):\n",
    "        self.a = a\n",
    "        self.b = b\n",
    "\n",
    "    def __iter__(self): # returns the iterator object itself\n",
    "        return self\n",
    "\n",
    "    def next(self): # returns the next item in the sequence\n",
    "        if self.a < self.b:\n",
    "            value = self.a\n",
    "            self.a += 1\n",
    "            return value\n",
    "        else:\n",
    "            raise StopIteration\n",
    "\n",
    "myrange = MyRange(1, 4)\n",
    "print(myrange.next())\n",
    "print(myrange.next())\n",
    "print(myrange.next())\n",
    "# print(myrange.next())\n"
   ]
  },
  {
   "cell_type": "code",
   "execution_count": 13,
   "metadata": {
    "tags": []
   },
   "outputs": [
    {
     "output_type": "stream",
     "name": "stdout",
     "text": "1\n2\n3\n"
    }
   ],
   "source": [
    "class MyRange:\n",
    "    def __init__(self, a, b):\n",
    "        self.a = a\n",
    "        self.b = b\n",
    "\n",
    "    def __iter__(self): # returns the iterator object itself\n",
    "        return self\n",
    "\n",
    "    def __next__(self): # returns the next item in the sequence\n",
    "        if self.a < self.b:\n",
    "            value = self.a\n",
    "            self.a += 1\n",
    "            return value\n",
    "        else:\n",
    "            raise StopIteration\n",
    "for value in MyRange(1, 4):\n",
    "    print(value)"
   ]
  },
  {
   "cell_type": "code",
   "execution_count": 27,
   "metadata": {
    "tags": []
   },
   "outputs": [
    {
     "output_type": "stream",
     "name": "stdout",
     "text": "[2]\n"
    }
   ],
   "source": [
    "# Challenge 1: Return Even Numbers From 1 to n\n",
    "class MyRange:\n",
    "    def __init__(self, n):\n",
    "        self.n = n\n",
    "\n",
    "    def __iter__(self):\n",
    "        return self\n",
    "\n",
    "    def next(self):\n",
    "        ans = []\n",
    "        a = 1\n",
    "        while (a <= self.n):\n",
    "            if a % 2 == 0:\n",
    "                value = a\n",
    "                ans.append(value)\n",
    "            a += 1\n",
    "        return ans\n",
    "\n",
    "myrange = MyRange(2) # n is an integer\n",
    "print(myrange.next())"
   ]
  },
  {
   "cell_type": "code",
   "execution_count": 3,
   "metadata": {},
   "outputs": [
    {
     "output_type": "execute_result",
     "data": {
      "text/plain": "[8, 7, 6, 5, 4, 3, 2, 1, 0]"
     },
     "metadata": {},
     "execution_count": 3
    }
   ],
   "source": [
    "# Challenge 2: Return Numbers From n Down to 0\n",
    "\n",
    "class MyRange:\n",
    "    def __init__(self, n):\n",
    "        self.n = n\n",
    "\n",
    "    def __iter__(self):\n",
    "        return self\n",
    "\n",
    "    def next(self):\n",
    "        ans = []\n",
    "        value = self.n\n",
    "        while (value != -1):\n",
    "            ans.append(value)\n",
    "            value -= 1\n",
    "        return ans\n",
    "\n",
    "myrange = MyRange(8)\n",
    "myrange.next()"
   ]
  },
  {
   "cell_type": "code",
   "execution_count": 4,
   "metadata": {},
   "outputs": [
    {
     "output_type": "execute_result",
     "data": {
      "text/plain": "[8, 7, 6, 5, 4, 3, 2, 1, 0]"
     },
     "metadata": {},
     "execution_count": 4
    }
   ],
   "source": [
    "# Challenge 2: Return Numbers From n Down to 0\n",
    "\n",
    "class MyRange:\n",
    "    def __init__(self, n):\n",
    "        self.n = n\n",
    "\n",
    "    def __iter__(self):\n",
    "        return self\n",
    "\n",
    "    def next(self):\n",
    "        ans = []\n",
    "        for i in range(self.n, -1, -1):\n",
    "            ans.append(i)\n",
    "        return ans\n",
    "\n",
    "myrange = MyRange(8)\n",
    "myrange.next()"
   ]
  },
  {
   "cell_type": "code",
   "execution_count": null,
   "metadata": {},
   "outputs": [],
   "source": [
    "# Challenge 3: Return Sequence of Fibonacci Numbers\n",
    "\n",
    "class MyRange:\n",
    "    def __init__(self, n):\n",
    "        self.n = n\n",
    "\n",
    "    def __iter__(self):\n",
    "        return self\n",
    "\n",
    "    def next(self):\n",
    "        ans = [0, 1]\n",
    "        if self.n == 0:\n",
    "            return [0]\n",
    "        elif self.n == 1:\n",
    "            return ans\n",
    "        else:\n",
    "            a = 0\n",
    "            b = 1\n",
    "            c = 2\n",
    "            while (c < self.n):\n",
    "                ans.append(a + b)\n",
    "                tmp = a\n",
    "                a = b\n",
    "                b = tmp + b\n",
    "                c += 1\n",
    "            return ans\n",
    "\n",
    "\n",
    "\n",
    "        return ans"
   ]
  },
  {
   "cell_type": "code",
   "execution_count": null,
   "metadata": {},
   "outputs": [],
   "source": [
    "# Challenge 3: Return Sequence of Fibonacci Numbers\n",
    "\n",
    "class MyRange:\n",
    "    def __init__(self, n):\n",
    "        self.n = n\n",
    "\n",
    "    def __iter__(self):\n",
    "        return self\n",
    "\n",
    "    def next(self):\n",
    "        ans = []\n",
    "        for i in range(0, self.n):\n",
    "            if i == 0 or i == 1:\n",
    "                ans.append(i)\n",
    "            else:\n",
    "                ans.append(ans[i - 2] + ans [i - 1])\n",
    "        return ans"
   ]
  },
  {
   "cell_type": "code",
   "execution_count": null,
   "metadata": {},
   "outputs": [],
   "source": [
    "# Generators\n",
    "\n",
    " "
   ]
  }
 ]
}