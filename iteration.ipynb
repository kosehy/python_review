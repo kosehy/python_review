{
 "cells": [
  {
   "cell_type": "code",
   "execution_count": 3,
   "metadata": {},
   "outputs": [],
   "source": [
    "# Reverse a List\n",
    "def reverse(list):\n",
    "    tmp = []\n",
    "    ans = []\n",
    "    for i in list:\n",
    "        tmp.append(i)\n",
    "    for i in range(len(tmp)):\n",
    "        ans.append(tmp.pop())\n",
    "    return ans"
   ]
  },
  {
   "cell_type": "code",
   "execution_count": 4,
   "metadata": {},
   "outputs": [
    {
     "output_type": "execute_result",
     "data": {
      "text/plain": "[3, 2, 1]"
     },
     "metadata": {},
     "execution_count": 4
    }
   ],
   "source": [
    "list = [1, 2, 3]\n",
    "reverse(list)"
   ]
  },
  {
   "cell_type": "code",
   "execution_count": 12,
   "metadata": {},
   "outputs": [],
   "source": [
    "def reverse(list):\n",
    "    s = len(list)\n",
    "    # https://stackoverflow.com/questions/521674/initializing-a-list-to-a-known-number-of-elements-in-python\n",
    "    ans = [None] * s\n",
    "    for i in range(s):\n",
    "        ans[s - 1] = list[i]\n",
    "        s -= 1\n",
    "    return ans"
   ]
  },
  {
   "cell_type": "code",
   "execution_count": 13,
   "metadata": {},
   "outputs": [
    {
     "output_type": "execute_result",
     "data": {
      "text/plain": "[3, 2, 1]"
     },
     "metadata": {},
     "execution_count": 13
    }
   ],
   "source": [
    "list = [1, 2, 3]\n",
    "reverse(list)"
   ]
  },
  {
   "cell_type": "code",
   "execution_count": null,
   "metadata": {},
   "outputs": [],
   "source": []
  }
 ],
 "metadata": {
  "language_info": {
   "codemirror_mode": {
    "name": "ipython",
    "version": 3
   },
   "file_extension": ".py",
   "mimetype": "text/x-python",
   "name": "python",
   "nbconvert_exporter": "python",
   "pygments_lexer": "ipython3",
   "version": "3.8.3-final"
  },
  "orig_nbformat": 2,
  "kernelspec": {
   "name": "python38332bitb8361c779dfd480f8935c4534bbf884b",
   "display_name": "Python 3.8.3 32-bit"
  }
 },
 "nbformat": 4,
 "nbformat_minor": 2
}