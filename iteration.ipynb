{
 "cells": [
  {
   "cell_type": "code",
   "execution_count": 3,
   "metadata": {},
   "outputs": [],
   "source": [
    "# Reverse a List\n",
    "def reverse(list):\n",
    "    tmp = []\n",
    "    ans = []\n",
    "    for i in list:\n",
    "        tmp.append(i)\n",
    "    for i in range(len(tmp)):\n",
    "        ans.append(tmp.pop())\n",
    "    return ans"
   ]
  },
  {
   "cell_type": "code",
   "execution_count": 4,
   "metadata": {},
   "outputs": [
    {
     "output_type": "execute_result",
     "data": {
      "text/plain": "[3, 2, 1]"
     },
     "metadata": {},
     "execution_count": 4
    }
   ],
   "source": [
    "list = [1, 2, 3]\n",
    "reverse(list)"
   ]
  },
  {
   "cell_type": "code",
   "execution_count": 12,
   "metadata": {},
   "outputs": [],
   "source": [
    "def reverse(list):\n",
    "    s = len(list)\n",
    "    # https://stackoverflow.com/questions/521674/initializing-a-list-to-a-known-number-of-elements-in-python\n",
    "    ans = [None] * s\n",
    "    for i in range(s):\n",
    "        ans[s - 1] = list[i]\n",
    "        s -= 1\n",
    "    return ans"
   ]
  },
  {
   "cell_type": "code",
   "execution_count": 13,
   "metadata": {},
   "outputs": [
    {
     "output_type": "execute_result",
     "data": {
      "text/plain": "[3, 2, 1]"
     },
     "metadata": {},
     "execution_count": 13
    }
   ],
   "source": [
    "list = [1, 2, 3]\n",
    "reverse(list)"
   ]
  },
  {
   "cell_type": "code",
   "execution_count": 14,
   "metadata": {},
   "outputs": [],
   "source": [
    "# check if list is sorted\n",
    "def isSorted(list):\n",
    "    check = list[0]\n",
    "    for i in list:\n",
    "        if check > i:\n",
    "            return False\n",
    "    return True"
   ]
  },
  {
   "cell_type": "code",
   "execution_count": 15,
   "metadata": {},
   "outputs": [
    {
     "output_type": "execute_result",
     "data": {
      "text/plain": "True"
     },
     "metadata": {},
     "execution_count": 15
    }
   ],
   "source": [
    "isSorted(list)"
   ]
  },
  {
   "cell_type": "code",
   "execution_count": 16,
   "metadata": {},
   "outputs": [
    {
     "output_type": "execute_result",
     "data": {
      "text/plain": "True"
     },
     "metadata": {},
     "execution_count": 16
    }
   ],
   "source": [
    "l1 = [1, 1, 2, 3, 2]\n",
    "isSorted(l1)"
   ]
  },
  {
   "cell_type": "code",
   "execution_count": 17,
   "metadata": {},
   "outputs": [],
   "source": [
    "# check if list is sorted\n",
    "def isSorted(list):\n",
    "    check = list[0]\n",
    "    for i in list:\n",
    "        if check > i:\n",
    "            return False\n",
    "        else:\n",
    "            check = i            \n",
    "    return True"
   ]
  },
  {
   "cell_type": "code",
   "execution_count": 18,
   "metadata": {},
   "outputs": [
    {
     "output_type": "execute_result",
     "data": {
      "text/plain": "False"
     },
     "metadata": {},
     "execution_count": 18
    }
   ],
   "source": [
    "l1 = [1, 1, 2, 3, 2]\n",
    "isSorted(l1)"
   ]
  },
  {
   "cell_type": "code",
   "execution_count": 59,
   "metadata": {
    "tags": []
   },
   "outputs": [
    {
     "output_type": "stream",
     "name": "stdout",
     "text": "count : 0\nlist: [5, 3, 5, 2]\ncount : 1\nlist: [3, 5, 5, 2]\ncount : 2\nlist: [3, 5, 5, 2]\ncount : 3\nlist: [3, 5, 5, 2]\ncount : 4\nlist: [3, 5, 5, 2]\ncount : 5\nlist: [3, 5, 5, 2]\ncount : 6\nlist: [3, 5, 5, 2]\ncount : 7\nlist: [3, 5, 5, 2]\ncount : 8\nlist: [3, 5, 5, 2]\ncount : 9\nlist: [3, 5, 5, 2]\ncount : 10\nlist: [3, 5, 5, 2]\ncount : 11\nlist: [3, 5, 5, 2]\n[3, 5, 5, 2]\n"
    }
   ],
   "source": [
    "def bubbleSort(list):\n",
    "    tmp = 0\n",
    "    count = 0\n",
    "    length = len(list)\n",
    "    for i in range(length):\n",
    "        idx = 0\n",
    "        for j in range(length - 1):\n",
    "            print('count : {}'.format(count))\n",
    "            print('list: {}'.format(list))\n",
    "            if list[idx] > list[idx + 1]:\n",
    "                tmp = list[idx]\n",
    "                list[idx] = list[idx + 1]\n",
    "                list[idx + 1] = tmp\n",
    "                idx += 1\n",
    "            count += 1\n",
    "        idx = 0\n",
    "    return list\n",
    "list = [5, 3, 5, 2]\n",
    "print(bubbleSort(list))"
   ]
  },
  {
   "cell_type": "code",
   "execution_count": 53,
   "metadata": {
    "tags": []
   },
   "outputs": [
    {
     "output_type": "stream",
     "name": "stdout",
     "text": "count : 0\ncount : 1\ncount : 2\ncount : 3\ncount : 4\ncount : 5\ncount : 6\ncount : 7\ncount : 8\ncount : 9\ncount : 10\ncount : 11\ncount : 12\ncount : 13\ncount : 14\ncount : 15\n[3, 5, 5, 2]\n"
    }
   ],
   "source": [
    "def bubbleSort1(list):\n",
    "    tmp = 0\n",
    "    count = 0\n",
    "    length = len(list)\n",
    "    for i in range(length):\n",
    "        idx = 0\n",
    "        for j in range(length):\n",
    "            print('count : {}'.format(count))\n",
    "            if idx + 1 == length:\n",
    "                break\n",
    "            if list[idx] > list[idx + 1]:\n",
    "                tmp = list[idx]\n",
    "                list[idx] = list[idx + 1]\n",
    "                list[idx + 1] = tmp\n",
    "                idx += 1\n",
    "            count += 1\n",
    "    return list\n",
    "list = [3, 5, 5, 2]\n",
    "print(bubbleSort1(list))"
   ]
  },
  {
   "cell_type": "code",
   "execution_count": 62,
   "metadata": {
    "tags": []
   },
   "outputs": [
    {
     "output_type": "stream",
     "name": "stdout",
     "text": "4\nidx : 0, list : [3, 5, 5, 1]\ncount: 0\nidx : 1, list : [3, 5, 5, 1]\ncount: 1\nidx : 2, list : [3, 5, 1, 5]\ncount: 2\ncount: 3\nidx : 1, list : [3, 1, 5, 5]\ncount: 4\nidx : 2, list : [3, 1, 5, 5]\ncount: 5\nidx : 0, list : [1, 3, 5, 5]\ncount: 6\ncount: 7\nidx : 2, list : [1, 3, 5, 5]\ncount: 8\ncount: 9\ncount: 10\nidx : 2, list : [1, 3, 5, 5]\ncount: 11\n[1, 3, 5, 5]\n"
    }
   ],
   "source": [
    "def OptimizedBubbleSort(list):\n",
    "    tmp = 0\n",
    "    count = 0\n",
    "    length = len(list)\n",
    "    print(length)\n",
    "    for i in range(length):\n",
    "        idx = 0\n",
    "        j = 0\n",
    "        for j in range(length - 1):\n",
    "            if list[idx] >= list[idx + 1]:\n",
    "                # print('before list[idx] : {}, list[idx + 1] : {}'.format(list[idx], list[idx + 1]))\n",
    "                tmp = list[idx]\n",
    "                list[idx] = list[idx + 1]\n",
    "                list[idx + 1] = tmp                \n",
    "                # print('after list[idx] : {}, list[idx + 1] : {}'.format(list[idx], tmp))\n",
    "                print('idx : {}, list : {}'.format(idx, list))\n",
    "            print('count: {}'.format(count))\n",
    "            idx += 1\n",
    "            count += 1\n",
    "        idx = 0\n",
    "    return list\n",
    "# list = [6, 5, 1, 2]\n",
    "# print(OptimizedBubbleSort(list))\n",
    "list = [5, 3, 5, 1]\n",
    "print(OptimizedBubbleSort(list))"
   ]
  },
  {
   "cell_type": "code",
   "execution_count": null,
   "metadata": {},
   "outputs": [],
   "source": []
  }
 ],
 "metadata": {
  "language_info": {
   "codemirror_mode": {
    "name": "ipython",
    "version": 3
   },
   "file_extension": ".py",
   "mimetype": "text/x-python",
   "name": "python",
   "nbconvert_exporter": "python",
   "pygments_lexer": "ipython3",
   "version": "3.8.3-final"
  },
  "orig_nbformat": 2,
  "kernelspec": {
   "name": "python38332bitb8361c779dfd480f8935c4534bbf884b",
   "display_name": "Python 3.8.3 32-bit"
  }
 },
 "nbformat": 4,
 "nbformat_minor": 2
}